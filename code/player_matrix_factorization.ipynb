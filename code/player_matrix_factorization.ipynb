{
 "cells": [
  {
   "cell_type": "markdown",
   "metadata": {},
   "source": [
    "# IMPORTS"
   ]
  },
  {
   "cell_type": "code",
   "execution_count": 1,
   "metadata": {
    "collapsed": true
   },
   "outputs": [],
   "source": [
    "import pandas as pd\n",
    "import numpy as np\n",
    "import time\n",
    "import os, platform\n",
    "import itertools\n",
    "from datetime import datetime"
   ]
  },
  {
   "cell_type": "code",
   "execution_count": 2,
   "metadata": {
    "collapsed": true
   },
   "outputs": [],
   "source": [
    "import matplotlib\n",
    "import matplotlib.pyplot as plt\n",
    "plt.style.use('ggplot')\n",
    "%matplotlib inline"
   ]
  },
  {
   "cell_type": "code",
   "execution_count": 6,
   "metadata": {},
   "outputs": [
    {
     "name": "stdout",
     "output_type": "stream",
     "text": [
      "C:/Users/lyncp010/projects/nfl/data\n"
     ]
    }
   ],
   "source": [
    "if platform.system()=='Darwin':\n",
    "    path = '/Users/phil/Google Drive/projects/nfl/data/all'\n",
    "elif os.environ.get(\"USERNAME\")=='phil':\n",
    "    path = 'C:/Users/phil/Google Drive/nfl/data/all'\n",
    "elif os.environ.get(\"USERNAME\")=='LYNCP010':\n",
    "    path = 'C:/Users/lyncp010/projects/nfl/data'\n",
    "print (path)"
   ]
  },
  {
   "cell_type": "markdown",
   "metadata": {},
   "source": [
    "# DATA"
   ]
  },
  {
   "cell_type": "code",
   "execution_count": 7,
   "metadata": {
    "collapsed": true
   },
   "outputs": [],
   "source": [
    "offense_player_ff_points = pd.read_csv(path + '/all/offense_player_ff_points_s02w01_s16w21.csv', low_memory=False)"
   ]
  },
  {
   "cell_type": "code",
   "execution_count": 8,
   "metadata": {
    "collapsed": true,
    "scrolled": true
   },
   "outputs": [],
   "source": [
    "# use only players from current season\n",
    "df = offense_player_ff_points[(offense_player_ff_points.season == 2016)].copy()"
   ]
  },
  {
   "cell_type": "code",
   "execution_count": 9,
   "metadata": {},
   "outputs": [
    {
     "data": {
      "text/html": [
       "<div>\n",
       "<table border=\"1\" class=\"dataframe\">\n",
       "  <thead>\n",
       "    <tr style=\"text-align: right;\">\n",
       "      <th></th>\n",
       "      <th>season</th>\n",
       "      <th>week</th>\n",
       "      <th>bsID</th>\n",
       "      <th>team</th>\n",
       "      <th>player_id</th>\n",
       "      <th>position</th>\n",
       "      <th>ff_points_total</th>\n",
       "      <th>home</th>\n",
       "      <th>opponent</th>\n",
       "      <th>passAtt</th>\n",
       "      <th>...</th>\n",
       "      <th>recLong</th>\n",
       "      <th>rushAtt</th>\n",
       "      <th>rushYds</th>\n",
       "      <th>rushTd</th>\n",
       "      <th>rushLong</th>\n",
       "      <th>fumbles</th>\n",
       "      <th>fumblesLost</th>\n",
       "      <th>passYdsOver300</th>\n",
       "      <th>rushYdsOver100</th>\n",
       "      <th>recYdsOver100</th>\n",
       "    </tr>\n",
       "  </thead>\n",
       "  <tbody>\n",
       "    <tr>\n",
       "      <th>71153</th>\n",
       "      <td>2016</td>\n",
       "      <td>1</td>\n",
       "      <td>201609080den</td>\n",
       "      <td>car</td>\n",
       "      <td>BenjKe00</td>\n",
       "      <td>WR</td>\n",
       "      <td>15.10</td>\n",
       "      <td>0</td>\n",
       "      <td>den</td>\n",
       "      <td>0.0</td>\n",
       "      <td>...</td>\n",
       "      <td>17.0</td>\n",
       "      <td>0.0</td>\n",
       "      <td>0.0</td>\n",
       "      <td>0.0</td>\n",
       "      <td>0.0</td>\n",
       "      <td>0.0</td>\n",
       "      <td>0.0</td>\n",
       "      <td>0</td>\n",
       "      <td>0</td>\n",
       "      <td>0</td>\n",
       "    </tr>\n",
       "    <tr>\n",
       "      <th>71154</th>\n",
       "      <td>2016</td>\n",
       "      <td>1</td>\n",
       "      <td>201609080den</td>\n",
       "      <td>car</td>\n",
       "      <td>BrowPh00</td>\n",
       "      <td>WR</td>\n",
       "      <td>1.10</td>\n",
       "      <td>0</td>\n",
       "      <td>den</td>\n",
       "      <td>0.0</td>\n",
       "      <td>...</td>\n",
       "      <td>11.0</td>\n",
       "      <td>0.0</td>\n",
       "      <td>0.0</td>\n",
       "      <td>0.0</td>\n",
       "      <td>0.0</td>\n",
       "      <td>0.0</td>\n",
       "      <td>0.0</td>\n",
       "      <td>0</td>\n",
       "      <td>0</td>\n",
       "      <td>0</td>\n",
       "    </tr>\n",
       "    <tr>\n",
       "      <th>71155</th>\n",
       "      <td>2016</td>\n",
       "      <td>1</td>\n",
       "      <td>201609080den</td>\n",
       "      <td>car</td>\n",
       "      <td>FuncDe00</td>\n",
       "      <td>WR</td>\n",
       "      <td>0.90</td>\n",
       "      <td>0</td>\n",
       "      <td>den</td>\n",
       "      <td>0.0</td>\n",
       "      <td>...</td>\n",
       "      <td>9.0</td>\n",
       "      <td>0.0</td>\n",
       "      <td>0.0</td>\n",
       "      <td>0.0</td>\n",
       "      <td>0.0</td>\n",
       "      <td>0.0</td>\n",
       "      <td>0.0</td>\n",
       "      <td>0</td>\n",
       "      <td>0</td>\n",
       "      <td>0</td>\n",
       "    </tr>\n",
       "    <tr>\n",
       "      <th>71156</th>\n",
       "      <td>2016</td>\n",
       "      <td>1</td>\n",
       "      <td>201609080den</td>\n",
       "      <td>car</td>\n",
       "      <td>GinnTe00</td>\n",
       "      <td>WR</td>\n",
       "      <td>2.50</td>\n",
       "      <td>0</td>\n",
       "      <td>den</td>\n",
       "      <td>0.0</td>\n",
       "      <td>...</td>\n",
       "      <td>5.0</td>\n",
       "      <td>1.0</td>\n",
       "      <td>20.0</td>\n",
       "      <td>0.0</td>\n",
       "      <td>20.0</td>\n",
       "      <td>0.0</td>\n",
       "      <td>0.0</td>\n",
       "      <td>0</td>\n",
       "      <td>0</td>\n",
       "      <td>0</td>\n",
       "    </tr>\n",
       "    <tr>\n",
       "      <th>71157</th>\n",
       "      <td>2016</td>\n",
       "      <td>1</td>\n",
       "      <td>201609080den</td>\n",
       "      <td>car</td>\n",
       "      <td>NewtCa00</td>\n",
       "      <td>QB</td>\n",
       "      <td>22.16</td>\n",
       "      <td>0</td>\n",
       "      <td>den</td>\n",
       "      <td>33.0</td>\n",
       "      <td>...</td>\n",
       "      <td>0.0</td>\n",
       "      <td>11.0</td>\n",
       "      <td>54.0</td>\n",
       "      <td>1.0</td>\n",
       "      <td>12.0</td>\n",
       "      <td>0.0</td>\n",
       "      <td>0.0</td>\n",
       "      <td>0</td>\n",
       "      <td>0</td>\n",
       "      <td>0</td>\n",
       "    </tr>\n",
       "  </tbody>\n",
       "</table>\n",
       "<p>5 rows × 32 columns</p>\n",
       "</div>"
      ],
      "text/plain": [
       "       season  week          bsID team player_id position  ff_points_total  \\\n",
       "71153    2016     1  201609080den  car  BenjKe00       WR            15.10   \n",
       "71154    2016     1  201609080den  car  BrowPh00       WR             1.10   \n",
       "71155    2016     1  201609080den  car  FuncDe00       WR             0.90   \n",
       "71156    2016     1  201609080den  car  GinnTe00       WR             2.50   \n",
       "71157    2016     1  201609080den  car  NewtCa00       QB            22.16   \n",
       "\n",
       "       home opponent  passAtt      ...        recLong  rushAtt  rushYds  \\\n",
       "71153     0      den      0.0      ...           17.0      0.0      0.0   \n",
       "71154     0      den      0.0      ...           11.0      0.0      0.0   \n",
       "71155     0      den      0.0      ...            9.0      0.0      0.0   \n",
       "71156     0      den      0.0      ...            5.0      1.0     20.0   \n",
       "71157     0      den     33.0      ...            0.0     11.0     54.0   \n",
       "\n",
       "       rushTd  rushLong  fumbles  fumblesLost  passYdsOver300  rushYdsOver100  \\\n",
       "71153     0.0       0.0      0.0          0.0               0               0   \n",
       "71154     0.0       0.0      0.0          0.0               0               0   \n",
       "71155     0.0       0.0      0.0          0.0               0               0   \n",
       "71156     0.0      20.0      0.0          0.0               0               0   \n",
       "71157     1.0      12.0      0.0          0.0               0               0   \n",
       "\n",
       "       recYdsOver100  \n",
       "71153              0  \n",
       "71154              0  \n",
       "71155              0  \n",
       "71156              0  \n",
       "71157              0  \n",
       "\n",
       "[5 rows x 32 columns]"
      ]
     },
     "execution_count": 9,
     "metadata": {},
     "output_type": "execute_result"
    }
   ],
   "source": [
    "df.head()"
   ]
  },
  {
   "cell_type": "code",
   "execution_count": 11,
   "metadata": {
    "scrolled": false
   },
   "outputs": [
    {
     "name": "stdout",
     "output_type": "stream",
     "text": [
      "season\n",
      "week\n",
      "bsID\n",
      "team\n",
      "player_id\n",
      "position\n",
      "ff_points_total\n",
      "home\n",
      "opponent\n",
      "passAtt\n",
      "passCmp\n",
      "passYds\n",
      "passTds\n",
      "passLong\n",
      "passRating\n",
      "passSacked\n",
      "passSackedYds\n",
      "passInt\n",
      "targets\n",
      "rec\n",
      "recYds\n",
      "recTds\n",
      "recLong\n",
      "rushAtt\n",
      "rushYds\n",
      "rushTd\n",
      "rushLong\n",
      "fumbles\n",
      "fumblesLost\n",
      "passYdsOver300\n",
      "rushYdsOver100\n",
      "recYdsOver100\n"
     ]
    }
   ],
   "source": [
    "for c in df.columns: print (c)"
   ]
  },
  {
   "cell_type": "code",
   "execution_count": null,
   "metadata": {
    "collapsed": true
   },
   "outputs": [],
   "source": []
  },
  {
   "cell_type": "markdown",
   "metadata": {},
   "source": [
    "# PRE PROCESSING"
   ]
  },
  {
   "cell_type": "markdown",
   "metadata": {},
   "source": [
    "## creating ids"
   ]
  },
  {
   "cell_type": "code",
   "execution_count": 12,
   "metadata": {
    "collapsed": true
   },
   "outputs": [],
   "source": [
    "from sklearn import preprocessing"
   ]
  },
  {
   "cell_type": "markdown",
   "metadata": {},
   "source": [
    "#### team ids"
   ]
  },
  {
   "cell_type": "code",
   "execution_count": 13,
   "metadata": {
    "collapsed": true
   },
   "outputs": [],
   "source": [
    "# create index for team names\n",
    "team_list = np.sort(df['team'].unique())\n",
    "team_le = preprocessing.LabelEncoder()\n",
    "team_le.fit(team_list)\n",
    "\n",
    "# add team ids\n",
    "df['opponent_id'] = team_le.transform(df['opponent'])"
   ]
  },
  {
   "cell_type": "markdown",
   "metadata": {},
   "source": [
    "#### player ids"
   ]
  },
  {
   "cell_type": "code",
   "execution_count": 14,
   "metadata": {
    "collapsed": true
   },
   "outputs": [],
   "source": [
    "# create index for team names\n",
    "player_list = np.sort(df['player_id'].unique())\n",
    "player_le = preprocessing.LabelEncoder()\n",
    "player_le.fit(player_list)\n",
    "\n",
    "# add team ids\n",
    "df['player_n_id'] = player_le.transform(df['player_id'])"
   ]
  },
  {
   "cell_type": "markdown",
   "metadata": {},
   "source": [
    "### splitting data"
   ]
  },
  {
   "cell_type": "code",
   "execution_count": 15,
   "metadata": {
    "collapsed": true
   },
   "outputs": [],
   "source": [
    "# create train testing index for each game.\n",
    "np.random.seed(7)\n",
    "\n",
    "kfolds = 5\n",
    "\n",
    "df['kfold'] = np.random.choice(kfolds, size=len(df), )"
   ]
  },
  {
   "cell_type": "markdown",
   "metadata": {},
   "source": [
    "# MODEL"
   ]
  },
  {
   "cell_type": "markdown",
   "metadata": {},
   "source": [
    "#### matrix factorization w/ gradient descent"
   ]
  },
  {
   "cell_type": "markdown",
   "metadata": {},
   "source": [
    "$$\n",
    "\\hat{y_{i,j}} = \\beta_0 + \\beta_1 * Home_i + P_i \\cdot O_j\n",
    "$$"
   ]
  },
  {
   "cell_type": "code",
   "execution_count": 31,
   "metadata": {
    "collapsed": true
   },
   "outputs": [],
   "source": [
    "def player_oppo_mfsgd(dtrain, dtest=False, latent_features=2, max_iter=500, learning_rate=0.0001, beta=0.01, mu=0.8, seed=0):\n",
    "    \n",
    "    np.random.seed(seed)\n",
    "    team_size = len(team_list)\n",
    "    player_size = len(player_list)\n",
    "    rmse = []\n",
    "    rmse_test = []\n",
    "    \n",
    "    eps = 1e-5\n",
    "    err_lim = 1e6\n",
    "    \n",
    "    vB, vP, vO = 0, 0, 0 # velocity starts 0\n",
    "    \n",
    "    # expansion matrix\n",
    "    player_expansion = np.eye(player_size)\n",
    "    oppo_expansion = np.eye(team_size)\n",
    "    \n",
    "    # initialize weights\n",
    "    # B = np.random.rand(2) # bias + home_indicator\n",
    "    B = np.c_[df['ff_points_total'].mean(), np.random.rand(1)].reshape(2,) # global_bias + home_indicator\n",
    "    P = np.random.rand(player_size, latent_features) # player weights\n",
    "    P = np.maximum(P, eps)\n",
    "    O = np.random.rand(team_size, latent_features) # opponent weights\n",
    "    O = np.maximum(O, eps)\n",
    "    \n",
    "    # training data\n",
    "    X = np.c_[np.ones(len(dtrain)), dtrain['home'].as_matrix()]\n",
    "    y = dtrain['ff_points_total'].as_matrix()\n",
    "    \n",
    "    # testing data\n",
    "    if type(dtest)!=bool:\n",
    "        X_test = np.c_[np.ones(len(dtest)), dtest['home'].as_matrix()]\n",
    "        y_test = dtest['ff_points_total'].as_matrix()\n",
    "    \n",
    "    for i in range(max_iter):\n",
    "        #print '\\rStep {}/{}'.format(i+1, max_iter),\n",
    "        \n",
    "        # embeddings for mf\n",
    "        player_embed = P[dtrain['player_n_id'].as_matrix(),:]\n",
    "        oppo_embed = O[dtrain['opponent_id'].as_matrix(),:]\n",
    "\n",
    "        # calc y_hat\n",
    "        y_hat = np.dot(X, B) + np.einsum('ij,ji->i', player_embed, oppo_embed.T)\n",
    "\n",
    "        # calc errors\n",
    "        e = y - y_hat\n",
    "\n",
    "        # ---- derivatives ----\n",
    "        # betas\n",
    "        B_deriv = (np.c_[(-e),(-e)] * X).sum(axis=0)\n",
    "\n",
    "        # latent factors\n",
    "        P_deriv = np.dot(np.array([(-e) for _ in range(latent_features)]) * oppo_embed.T,\n",
    "                         player_expansion[dtrain['player_n_id'].as_matrix(),:]\n",
    "                        ).T\n",
    "        O_deriv = np.dot(np.array([(-e) for _ in range(latent_features)]) * player_embed.T,\n",
    "                         oppo_expansion[dtrain['opponent_id'].as_matrix(),:]\n",
    "                        ).T\n",
    "        \n",
    "        # OPTION - add regularization\n",
    "        B_deriv -= beta * B\n",
    "        P_deriv -= beta * P\n",
    "        O_deriv -= beta * O\n",
    "        \n",
    "        # OPTION - use MacKays quick n' dirty variance ratio\n",
    "        # var_resid = np.var(e)\n",
    "        # beta_P = P.var()/var_resid\n",
    "        # beta_O = O.var()/var_resid\n",
    "        # P_deriv -= (beta_P * P) + (beta * P)\n",
    "        # O_deriv -= (beta_O * O) + (beta * O)\n",
    "        \n",
    "        # ---- parameter updates ----\n",
    "        B -= learning_rate * B_deriv\n",
    "        P -= learning_rate * P_deriv\n",
    "        O -= learning_rate * O_deriv\n",
    "        \n",
    "        # OPTION - add momentum\n",
    "        vB = mu * vB - learning_rate * B_deriv\n",
    "        vP = mu * vP - learning_rate * P_deriv\n",
    "        vO = mu * vO - learning_rate * O_deriv\n",
    "        B += mu * vB\n",
    "        P += mu * vP\n",
    "        O += mu * vO\n",
    "        \n",
    "        # save error\n",
    "        # - training\n",
    "        rmse_i = np.sqrt(np.mean(e**2))\n",
    "        rmse.append(rmse_i)\n",
    "        \n",
    "        # - test error\n",
    "        if type(dtest)!=bool:\n",
    "            player_embed_test = P[dtest['player_n_id'].as_matrix(),:]\n",
    "            oppo_embed_test = O[dtest['opponent_id'].as_matrix(),:]\n",
    "            y_hat_test = np.dot(X_test, B) + np.einsum('ij,ji->i', player_embed_test, oppo_embed_test.T)\n",
    "            e_test = y_test - y_hat_test\n",
    "            rmse_test_i = np.sqrt(np.mean(e_test**2))\n",
    "            rmse_test.append(rmse_test_i)\n",
    "        \n",
    "        if rmse_i > err_lim:\n",
    "            #print '\\nError limit reached :('\n",
    "            rmse += [np.nan]*(max_iter - i - 1)\n",
    "            rmse_test += [np.nan]*(max_iter - i - 1)\n",
    "            break\n",
    "    \n",
    "    # return results if not using test set\n",
    "    if type(dtest)==bool:\n",
    "        print ('\\rDone!')\n",
    "        return B, P, O, rmse\n",
    "    else:\n",
    "        rmse_test = pd.Series(rmse_test, index=range(1, max_iter + 1))\n",
    "        rmse_test.index.names = ['iter']\n",
    "        return rmse_test"
   ]
  },
  {
   "cell_type": "code",
   "execution_count": 18,
   "metadata": {
    "collapsed": true
   },
   "outputs": [],
   "source": [
    "def split_data_to_train_test(df, index, fold):\n",
    "    df_train = df[(df[index]!=fold)]\n",
    "    df_test =  df[(df[index]==fold)]\n",
    "    return df_train, df_test"
   ]
  },
  {
   "cell_type": "code",
   "execution_count": 19,
   "metadata": {
    "collapsed": true
   },
   "outputs": [],
   "source": [
    "def kfold_cv(data, nfolds, latent_features, max_iter, learning_rate, beta, mu):\n",
    "    # results df\n",
    "    model_i = pd.DataFrame()\n",
    "    \n",
    "    # loop over folds\n",
    "    for fold in range(nfolds):\n",
    "        # create train test set\n",
    "        trn, tst = split_data_to_train_test(data, 'kfold', fold)\n",
    "        # train matrix factorization\n",
    "        model_i['rmse_fold_{}'.format(fold)] = player_oppo_mfsgd(trn, tst,\n",
    "                                                                 latent_features = latent_features,\n",
    "                                                                 learning_rate = learning_rate,\n",
    "                                                                 max_iter = max_iter,\n",
    "                                                                 beta = beta,\n",
    "                                                                 mu = mu\n",
    "                                                                )\n",
    "        \n",
    "    # set hyper param indices\n",
    "    model_i['position'] = p\n",
    "    model_i['latent_features'] = lf\n",
    "    model_i['learning_rate'] = learning_rate\n",
    "    model_i['beta'] = beta\n",
    "    model_i['mu'] = mu\n",
    "    model_i.reset_index(inplace=True)\n",
    "    model_i.set_index(['position', 'latent_features', 'learning_rate', 'beta', 'mu', 'iter'], inplace=True)\n",
    "    \n",
    "    # return results\n",
    "    return model_i"
   ]
  },
  {
   "cell_type": "code",
   "execution_count": 20,
   "metadata": {
    "collapsed": true
   },
   "outputs": [],
   "source": [
    "def score_player_oppo(data, B, P, O):\n",
    "    # embeddings for mf\n",
    "    X = np.c_[np.ones(len(data)), data['home'].as_matrix()]\n",
    "    player_embed = P[player_le.transform(data['player_id']),:]\n",
    "    oppo_embed = O[team_le.transform(data['opponent']),:]\n",
    "\n",
    "    # calc y_hat\n",
    "    y_hat = np.dot(X, B) + np.einsum('ij,ji->i', player_embed, oppo_embed.T)\n",
    "    \n",
    "    return y_hat"
   ]
  },
  {
   "cell_type": "code",
   "execution_count": null,
   "metadata": {
    "collapsed": true
   },
   "outputs": [],
   "source": []
  },
  {
   "cell_type": "markdown",
   "metadata": {},
   "source": [
    "# TRAINING"
   ]
  },
  {
   "cell_type": "markdown",
   "metadata": {},
   "source": [
    "## hyper parameters"
   ]
  },
  {
   "cell_type": "code",
   "execution_count": 28,
   "metadata": {
    "collapsed": true
   },
   "outputs": [],
   "source": [
    "# use only regular season for training\n",
    "df_train = df[(df.week <= 17)].copy()"
   ]
  },
  {
   "cell_type": "code",
   "execution_count": 29,
   "metadata": {
    "collapsed": true
   },
   "outputs": [],
   "source": [
    "# index of results parameters\n",
    "offense_positions = ['QB', 'RB', 'TE', 'WR']\n",
    "\n",
    "max_latent_features = 4\n",
    "latent_features_list = range(1, max_latent_features+1)\n",
    "\n",
    "max_iter = 300\n",
    "max_iter_list = range(1, max_iter+1)"
   ]
  },
  {
   "cell_type": "code",
   "execution_count": 109,
   "metadata": {},
   "outputs": [
    {
     "name": "stdout",
     "output_type": "stream",
     "text": [
      "256 combinations\n"
     ]
    },
    {
     "data": {
      "text/plain": [
       "{'beta': [0.0, 0.005, 0.01, 0.02],\n",
       " 'learning_rate': [0.0001, 0.001, 0.005, 0.01],\n",
       " 'lf': [1, 2, 3, 4],\n",
       " 'mu': [0.0, 0.3, 0.5, 0.8]}"
      ]
     },
     "execution_count": 109,
     "metadata": {},
     "output_type": "execute_result"
    }
   ],
   "source": [
    "# list of hyper param\n",
    "grid = {\n",
    "    'lf':latent_features_list,\n",
    "    'learning_rate':[0.0001, 0.001, 0.005, 0.01],\n",
    "    'beta':[0.0, 0.005, 0.01, 0.02],\n",
    "    'mu':[0.0, 0.3, 0.5, 0.8]\n",
    "}\n",
    "\n",
    "# number of grid combincations\n",
    "grid_n = 1\n",
    "for key in grid.keys():\n",
    "    grid_n *= len(grid[key])\n",
    "print '{} combinations'.format(grid_n)\n",
    "grid"
   ]
  },
  {
   "cell_type": "markdown",
   "metadata": {},
   "source": [
    "## kfold testing on all hyper parameters"
   ]
  },
  {
   "cell_type": "code",
   "execution_count": 59,
   "metadata": {},
   "outputs": [
    {
     "name": "stdout",
     "output_type": "stream",
     "text": [
      "Training...\n",
      "Done! Total run time: 4033.88900018\n"
     ]
    }
   ],
   "source": [
    "# time training\n",
    "start = time.time()\n",
    "\n",
    "# create empty dataframe for results\n",
    "model_results = pd.DataFrame()\n",
    "\n",
    "print 'Training...'\n",
    "for p in offense_positions:\n",
    "    \n",
    "    data = df[df['position']==p].copy()\n",
    "    for i, gs in enumerate(itertools.islice(itertools.product(\n",
    "                grid['lf'],\n",
    "                grid['learning_rate'],\n",
    "                grid['beta'],\n",
    "                grid['mu']\n",
    "            ), grid_n)):\n",
    "        latent_features = gs[0]\n",
    "        learning_rate = gs[1]\n",
    "        beta = gs[2]\n",
    "        mu = gs[3]\n",
    "        print '\\r({}/{}) Position {} - lf {} - learning_rate {} - beta {} - mu {}'.format(i+1, grid_n * 4,\n",
    "                                                                                  p, lf, learning_rate, beta, mu),\n",
    "        \n",
    "        n_folds = len(data['kfold'].unique())\n",
    "        \n",
    "        model_results_i = kfold_cv(data, n_folds, latent_features, max_iter, learning_rate, beta, mu)        \n",
    "        model_results = pd.concat([model_results, model_results_i])\n",
    "\n",
    "print '\\rDone! Total run time: {}'.format(time.time() - start)"
   ]
  },
  {
   "cell_type": "code",
   "execution_count": 60,
   "metadata": {
    "collapsed": true,
    "scrolled": true
   },
   "outputs": [],
   "source": [
    "model_results.dropna(inplace=True)\n",
    "model_results['rmse_fold_avg'] = model_results.mean(axis=1)"
   ]
  },
  {
   "cell_type": "code",
   "execution_count": 64,
   "metadata": {},
   "outputs": [
    {
     "data": {
      "text/plain": [
       "{'QB': {'beta': 0.0, 'iter': 500, 'learning_rate': 0.001, 'lf': 1, 'mu': 0.8},\n",
       " 'RB': {'beta': 0.0, 'iter': 398, 'learning_rate': 0.0001, 'lf': 3, 'mu': 0.0},\n",
       " 'TE': {'beta': 0.0, 'iter': 440, 'learning_rate': 0.0001, 'lf': 2, 'mu': 0.0},\n",
       " 'WR': {'beta': 0.0, 'iter': 467, 'learning_rate': 0.0001, 'lf': 1, 'mu': 0.5}}"
      ]
     },
     "execution_count": 64,
     "metadata": {},
     "output_type": "execute_result"
    }
   ],
   "source": [
    "# create dictionary of best parameters for each position\n",
    "best_param = {}\n",
    "for p in offense_positions:\n",
    "    best_param_pos = model_results.loc[idx[p,:,:,:,:,:],]['rmse_fold_avg'].idxmin()\n",
    "    best_param[best_param_pos[0]] = {'lf'   : best_param_pos[1],\n",
    "                                     'learning_rate': round(best_param_pos[2], 4),\n",
    "                                     'beta' : round(best_param_pos[3], 2),\n",
    "                                     'mu'   : round(best_param_pos[4], 1),\n",
    "                                     'iter' : best_param_pos[5]\n",
    "                                    }\n",
    "best_param"
   ]
  },
  {
   "cell_type": "code",
   "execution_count": 65,
   "metadata": {},
   "outputs": [
    {
     "data": {
      "text/plain": [
       "position  position  latent_features  learning_rate  beta   mu   iter\n",
       "QB        QB        1                0.0010         0.000  0.8  500     7.082935\n",
       "                                                                499     7.083011\n",
       "                                                                498     7.083087\n",
       "                                                    0.005  0.8  500     7.083131\n",
       "                                                    0.000  0.8  497     7.083163\n",
       "RB        RB        3                0.0001         0.000  0.0  398     5.795136\n",
       "                                                                399     5.795138\n",
       "                                                                397     5.795141\n",
       "                                                                400     5.795147\n",
       "                                                                396     5.795151\n",
       "TE        TE        2                0.0001         0.000  0.0  440     4.192730\n",
       "                                                                439     4.192731\n",
       "                                                                441     4.192733\n",
       "                                                                438     4.192734\n",
       "                                                                442     4.192738\n",
       "WR        WR        1                0.0001         0.000  0.5  467     5.199467\n",
       "                                                                466     5.199467\n",
       "                                                                468     5.199467\n",
       "                                                                465     5.199467\n",
       "                                                                469     5.199467\n",
       "Name: rmse_fold_avg, dtype: float64"
      ]
     },
     "execution_count": 65,
     "metadata": {},
     "output_type": "execute_result"
    }
   ],
   "source": [
    "# print top 5 best results for each position\n",
    "gb = model_results.groupby(level=[0])['rmse_fold_avg']\n",
    "gb.nsmallest(5)"
   ]
  },
  {
   "cell_type": "code",
   "execution_count": 24,
   "metadata": {
    "collapsed": true
   },
   "outputs": [],
   "source": [
    "best_param = {\n",
    "    'QB': {'beta': 0.0, 'iter': 500, 'learning_rate': 0.001, 'lf': 1, 'mu': 0.8},\n",
    "    'RB': {'beta': 0.0, 'iter': 398, 'learning_rate': 0.0001, 'lf': 3, 'mu': 0.0},\n",
    "    'TE': {'beta': 0.0, 'iter': 440, 'learning_rate': 0.0001, 'lf': 2, 'mu': 0.0},\n",
    "    'WR': {'beta': 0.0, 'iter': 467, 'learning_rate': 0.0001, 'lf': 1, 'mu': 0.5}\n",
    "}"
   ]
  },
  {
   "cell_type": "code",
   "execution_count": 162,
   "metadata": {},
   "outputs": [
    {
     "data": {
      "text/plain": [
       "<matplotlib.axes._subplots.AxesSubplot at 0x1d0474d61d0>"
      ]
     },
     "execution_count": 162,
     "metadata": {},
     "output_type": "execute_result"
    },
    {
     "data": {
      "image/png": "[encoded data removed]",
      "text/plain": [
       "<matplotlib.figure.Figure at 0x1d0474ddb70>"
      ]
     },
     "metadata": {},
     "output_type": "display_data"
    }
   ],
   "source": [
    "pd.Series(alpha, X_Player.columns).sort_values().plot.bar(figsize=(11, 5))"
   ]
  },
  {
   "cell_type": "code",
   "execution_count": 163,
   "metadata": {},
   "outputs": [
    {
     "data": {
      "text/plain": [
       "<matplotlib.axes._subplots.AxesSubplot at 0x1d047637dd8>"
      ]
     },
     "execution_count": 163,
     "metadata": {},
     "output_type": "execute_result"
    },
    {
     "data": {
      "image/png": "[encoded data removed]",
      "text/plain": [
       "<matplotlib.figure.Figure at 0x1d0476436d8>"
      ]
     },
     "metadata": {},
     "output_type": "display_data"
    }
   ],
   "source": [
    "pd.Series(tau, X_Opponent.columns).sort_values().plot.bar(figsize=(11, 5))"
   ]
  },
  {
   "cell_type": "code",
   "execution_count": null,
   "metadata": {
    "collapsed": true
   },
   "outputs": [],
   "source": []
  },
  {
   "cell_type": "markdown",
   "metadata": {
    "collapsed": true
   },
   "source": [
    "# SCORE PLAYOFFS"
   ]
  },
  {
   "cell_type": "code",
   "execution_count": 25,
   "metadata": {
    "collapsed": true
   },
   "outputs": [],
   "source": [
    "from sklearn.metrics import mean_squared_error\n",
    "def RMSE(y_true, y_pred): return np.sqrt(mean_squared_error(y_true, y_pred))"
   ]
  },
  {
   "cell_type": "markdown",
   "metadata": {},
   "source": [
    "### test on playoff games"
   ]
  },
  {
   "cell_type": "code",
   "execution_count": 26,
   "metadata": {
    "collapsed": true
   },
   "outputs": [],
   "source": [
    "# test on playoff games\n",
    "df_test = df[(df.week > 17)].copy()"
   ]
  },
  {
   "cell_type": "code",
   "execution_count": 36,
   "metadata": {},
   "outputs": [
    {
     "name": "stdout",
     "output_type": "stream",
     "text": [
      "Done!\n",
      "Done!\n",
      "Done!\n",
      "Done!\n"
     ]
    }
   ],
   "source": [
    "for p in offense_positions:\n",
    "    B, P, O, rmse = player_oppo_mfsgd(df_train[df_train['position']==p],\n",
    "                                      latent_features = best_param[p]['lf'],\n",
    "                                      max_iter = best_param[p]['iter'],\n",
    "                                      learning_rate = best_param[p]['learning_rate'],\n",
    "                                      beta = best_param[p]['beta'],\n",
    "                                      mu = best_param[p]['mu']\n",
    "                                     )\n",
    "    \n",
    "    df_test.loc[df_test['position']==p, 'p_ff_points_total'] = score_player_oppo(df_test.loc[df_test['position']==p], B, P, O)"
   ]
  },
  {
   "cell_type": "code",
   "execution_count": 37,
   "metadata": {},
   "outputs": [
    {
     "name": "stdout",
     "output_type": "stream",
     "text": [
      "QB 5.70476459881\n",
      "RB 6.55142424581\n",
      "TE 4.00277470426\n",
      "WR 6.24964685997\n"
     ]
    }
   ],
   "source": [
    "for p in offense_positions:\n",
    "    print (p, RMSE(df_test.loc[df_test['position']==p, 'ff_points_total'],\n",
    "                  df_test.loc[df_test['position']==p, 'p_ff_points_total']))"
   ]
  },
  {
   "cell_type": "code",
   "execution_count": 45,
   "metadata": {
    "scrolled": true
   },
   "outputs": [
    {
     "data": {
      "text/plain": [
       "35.799926756432981"
      ]
     },
     "execution_count": 45,
     "metadata": {},
     "output_type": "execute_result"
    }
   ],
   "source": [
    "RMSE(df_test['ff_points_total'], df_test['p_ff_points_total'])**2"
   ]
  },
  {
   "cell_type": "code",
   "execution_count": null,
   "metadata": {
    "collapsed": true
   },
   "outputs": [],
   "source": []
  },
  {
   "cell_type": "code",
   "execution_count": 79,
   "metadata": {
    "collapsed": true
   },
   "outputs": [],
   "source": [
    "cols_inspect = ['week', 'bsID', 'team', 'player_id', 'opponent', 'position', 'ff_points_total', 'p_ff_points_total']"
   ]
  },
  {
   "cell_type": "code",
   "execution_count": 80,
   "metadata": {
    "scrolled": false
   },
   "outputs": [
    {
     "data": {
      "text/html": [
       "<div>\n",
       "<table border=\"1\" class=\"dataframe\">\n",
       "  <thead>\n",
       "    <tr style=\"text-align: right;\">\n",
       "      <th></th>\n",
       "      <th>week</th>\n",
       "      <th>bsID</th>\n",
       "      <th>team</th>\n",
       "      <th>player_id</th>\n",
       "      <th>opponent</th>\n",
       "      <th>position</th>\n",
       "      <th>ff_points_total</th>\n",
       "      <th>p_ff_points_total</th>\n",
       "    </tr>\n",
       "  </thead>\n",
       "  <tbody>\n",
       "    <tr>\n",
       "      <th>76456</th>\n",
       "      <td>21</td>\n",
       "      <td>201702050atl</td>\n",
       "      <td>atl</td>\n",
       "      <td>ColeTe01</td>\n",
       "      <td>nwe</td>\n",
       "      <td>RB</td>\n",
       "      <td>9.50</td>\n",
       "      <td>8.702194</td>\n",
       "    </tr>\n",
       "    <tr>\n",
       "      <th>76457</th>\n",
       "      <td>21</td>\n",
       "      <td>201702050atl</td>\n",
       "      <td>atl</td>\n",
       "      <td>DiMaPa00</td>\n",
       "      <td>nwe</td>\n",
       "      <td>RB</td>\n",
       "      <td>1.20</td>\n",
       "      <td>2.705964</td>\n",
       "    </tr>\n",
       "    <tr>\n",
       "      <th>76458</th>\n",
       "      <td>21</td>\n",
       "      <td>201702050atl</td>\n",
       "      <td>atl</td>\n",
       "      <td>FreeDe00</td>\n",
       "      <td>nwe</td>\n",
       "      <td>RB</td>\n",
       "      <td>18.10</td>\n",
       "      <td>10.967133</td>\n",
       "    </tr>\n",
       "    <tr>\n",
       "      <th>76459</th>\n",
       "      <td>21</td>\n",
       "      <td>201702050atl</td>\n",
       "      <td>atl</td>\n",
       "      <td>GabrTa00</td>\n",
       "      <td>nwe</td>\n",
       "      <td>WR</td>\n",
       "      <td>7.60</td>\n",
       "      <td>10.066214</td>\n",
       "    </tr>\n",
       "    <tr>\n",
       "      <th>76460</th>\n",
       "      <td>21</td>\n",
       "      <td>201702050atl</td>\n",
       "      <td>atl</td>\n",
       "      <td>HoopAu00</td>\n",
       "      <td>nwe</td>\n",
       "      <td>TE</td>\n",
       "      <td>9.20</td>\n",
       "      <td>3.326776</td>\n",
       "    </tr>\n",
       "    <tr>\n",
       "      <th>76461</th>\n",
       "      <td>21</td>\n",
       "      <td>201702050atl</td>\n",
       "      <td>atl</td>\n",
       "      <td>JoneJu02</td>\n",
       "      <td>nwe</td>\n",
       "      <td>WR</td>\n",
       "      <td>8.70</td>\n",
       "      <td>13.927646</td>\n",
       "    </tr>\n",
       "    <tr>\n",
       "      <th>76462</th>\n",
       "      <td>21</td>\n",
       "      <td>201702050atl</td>\n",
       "      <td>atl</td>\n",
       "      <td>RyanMa00</td>\n",
       "      <td>nwe</td>\n",
       "      <td>QB</td>\n",
       "      <td>18.36</td>\n",
       "      <td>26.597680</td>\n",
       "    </tr>\n",
       "    <tr>\n",
       "      <th>76463</th>\n",
       "      <td>21</td>\n",
       "      <td>201702050atl</td>\n",
       "      <td>atl</td>\n",
       "      <td>SanuMo00</td>\n",
       "      <td>nwe</td>\n",
       "      <td>WR</td>\n",
       "      <td>2.50</td>\n",
       "      <td>6.864024</td>\n",
       "    </tr>\n",
       "    <tr>\n",
       "      <th>76464</th>\n",
       "      <td>21</td>\n",
       "      <td>201702050atl</td>\n",
       "      <td>nwe</td>\n",
       "      <td>AmenDa00</td>\n",
       "      <td>atl</td>\n",
       "      <td>WR</td>\n",
       "      <td>13.80</td>\n",
       "      <td>3.912960</td>\n",
       "    </tr>\n",
       "    <tr>\n",
       "      <th>76465</th>\n",
       "      <td>21</td>\n",
       "      <td>201702050atl</td>\n",
       "      <td>nwe</td>\n",
       "      <td>BennMa00</td>\n",
       "      <td>atl</td>\n",
       "      <td>TE</td>\n",
       "      <td>6.20</td>\n",
       "      <td>7.704795</td>\n",
       "    </tr>\n",
       "    <tr>\n",
       "      <th>76466</th>\n",
       "      <td>21</td>\n",
       "      <td>201702050atl</td>\n",
       "      <td>nwe</td>\n",
       "      <td>BlouLe00</td>\n",
       "      <td>atl</td>\n",
       "      <td>RB</td>\n",
       "      <td>2.10</td>\n",
       "      <td>15.964874</td>\n",
       "    </tr>\n",
       "    <tr>\n",
       "      <th>76467</th>\n",
       "      <td>21</td>\n",
       "      <td>201702050atl</td>\n",
       "      <td>nwe</td>\n",
       "      <td>BradTo00</td>\n",
       "      <td>atl</td>\n",
       "      <td>QB</td>\n",
       "      <td>27.14</td>\n",
       "      <td>22.198021</td>\n",
       "    </tr>\n",
       "    <tr>\n",
       "      <th>76468</th>\n",
       "      <td>21</td>\n",
       "      <td>201702050atl</td>\n",
       "      <td>nwe</td>\n",
       "      <td>EdelJu00</td>\n",
       "      <td>atl</td>\n",
       "      <td>WR</td>\n",
       "      <td>8.90</td>\n",
       "      <td>7.533163</td>\n",
       "    </tr>\n",
       "    <tr>\n",
       "      <th>76469</th>\n",
       "      <td>21</td>\n",
       "      <td>201702050atl</td>\n",
       "      <td>nwe</td>\n",
       "      <td>HogaCh00</td>\n",
       "      <td>atl</td>\n",
       "      <td>WR</td>\n",
       "      <td>5.70</td>\n",
       "      <td>6.229989</td>\n",
       "    </tr>\n",
       "    <tr>\n",
       "      <th>76470</th>\n",
       "      <td>21</td>\n",
       "      <td>201702050atl</td>\n",
       "      <td>nwe</td>\n",
       "      <td>LewiDi00</td>\n",
       "      <td>atl</td>\n",
       "      <td>RB</td>\n",
       "      <td>2.90</td>\n",
       "      <td>5.437197</td>\n",
       "    </tr>\n",
       "    <tr>\n",
       "      <th>76471</th>\n",
       "      <td>21</td>\n",
       "      <td>201702050atl</td>\n",
       "      <td>nwe</td>\n",
       "      <td>MitcMa01</td>\n",
       "      <td>atl</td>\n",
       "      <td>WR</td>\n",
       "      <td>7.00</td>\n",
       "      <td>5.200231</td>\n",
       "    </tr>\n",
       "    <tr>\n",
       "      <th>76472</th>\n",
       "      <td>21</td>\n",
       "      <td>201702050atl</td>\n",
       "      <td>nwe</td>\n",
       "      <td>WhitJa02</td>\n",
       "      <td>atl</td>\n",
       "      <td>RB</td>\n",
       "      <td>31.90</td>\n",
       "      <td>7.788958</td>\n",
       "    </tr>\n",
       "  </tbody>\n",
       "</table>\n",
       "</div>"
      ],
      "text/plain": [
       "       week          bsID team player_id opponent position  ff_points_total  \\\n",
       "76456    21  201702050atl  atl  ColeTe01      nwe       RB             9.50   \n",
       "76457    21  201702050atl  atl  DiMaPa00      nwe       RB             1.20   \n",
       "76458    21  201702050atl  atl  FreeDe00      nwe       RB            18.10   \n",
       "76459    21  201702050atl  atl  GabrTa00      nwe       WR             7.60   \n",
       "76460    21  201702050atl  atl  HoopAu00      nwe       TE             9.20   \n",
       "76461    21  201702050atl  atl  JoneJu02      nwe       WR             8.70   \n",
       "76462    21  201702050atl  atl  RyanMa00      nwe       QB            18.36   \n",
       "76463    21  201702050atl  atl  SanuMo00      nwe       WR             2.50   \n",
       "76464    21  201702050atl  nwe  AmenDa00      atl       WR            13.80   \n",
       "76465    21  201702050atl  nwe  BennMa00      atl       TE             6.20   \n",
       "76466    21  201702050atl  nwe  BlouLe00      atl       RB             2.10   \n",
       "76467    21  201702050atl  nwe  BradTo00      atl       QB            27.14   \n",
       "76468    21  201702050atl  nwe  EdelJu00      atl       WR             8.90   \n",
       "76469    21  201702050atl  nwe  HogaCh00      atl       WR             5.70   \n",
       "76470    21  201702050atl  nwe  LewiDi00      atl       RB             2.90   \n",
       "76471    21  201702050atl  nwe  MitcMa01      atl       WR             7.00   \n",
       "76472    21  201702050atl  nwe  WhitJa02      atl       RB            31.90   \n",
       "\n",
       "       p_ff_points_total  \n",
       "76456           8.702194  \n",
       "76457           2.705964  \n",
       "76458          10.967133  \n",
       "76459          10.066214  \n",
       "76460           3.326776  \n",
       "76461          13.927646  \n",
       "76462          26.597680  \n",
       "76463           6.864024  \n",
       "76464           3.912960  \n",
       "76465           7.704795  \n",
       "76466          15.964874  \n",
       "76467          22.198021  \n",
       "76468           7.533163  \n",
       "76469           6.229989  \n",
       "76470           5.437197  \n",
       "76471           5.200231  \n",
       "76472           7.788958  "
      ]
     },
     "execution_count": 80,
     "metadata": {},
     "output_type": "execute_result"
    }
   ],
   "source": [
    "df_test.loc[df_test.week==21, cols_inspect]"
   ]
  },
  {
   "cell_type": "code",
   "execution_count": 84,
   "metadata": {
    "collapsed": true
   },
   "outputs": [],
   "source": []
  },
  {
   "cell_type": "code",
   "execution_count": 101,
   "metadata": {},
   "outputs": [
    {
     "data": {
      "image/png": "[encoded data removed]",
      "text/plain": [
       "<matplotlib.figure.Figure at 0x11ac7780>"
      ]
     },
     "metadata": {},
     "output_type": "display_data"
    }
   ],
   "source": [
    "width = 0.3\n",
    "pos = np.arange(foo.shape[0]) + .5\n",
    "plt.figure(figsize=(12, foo.shape[0] * .5))\n",
    "plt.barh(pos, foo['ff_points_total'], height=width, align='center')\n",
    "plt.barh(pos + width, foo['p_ff_points_total'], height=width, align='center', color='lightblue')\n",
    "y_ticks = foo[['player_id', 'opponent']].apply(lambda x:'%s v %s' % (x['player_id'],x['opponent']),axis=1)\n",
    "plt.yticks(pos, y_ticks, fontsize = 12)\n",
    "plt.axis('tight')\n",
    "plt.title('Fantasy Points')\n",
    "plt.show()"
   ]
  },
  {
   "cell_type": "code",
   "execution_count": null,
   "metadata": {
    "collapsed": true
   },
   "outputs": [],
   "source": []
  },
  {
   "cell_type": "code",
   "execution_count": null,
   "metadata": {
    "collapsed": true
   },
   "outputs": [],
   "source": []
  }
 ],
 "metadata": {
  "anaconda-cloud": {},
  "kernelspec": {
   "display_name": "Python 3",
   "language": "python",
   "name": "python3"
  },
  "language_info": {
   "codemirror_mode": {
    "name": "ipython",
    "version": 3
   },
   "file_extension": ".py",
   "mimetype": "text/x-python",
   "name": "python",
   "nbconvert_exporter": "python",
   "pygments_lexer": "ipython3",
   "version": "3.6.1"
  }
 },
 "nbformat": 4,
 "nbformat_minor": 1
}
