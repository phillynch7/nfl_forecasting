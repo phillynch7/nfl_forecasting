{
 "cells": [
  {
   "cell_type": "code",
   "execution_count": 1,
   "metadata": {
    "collapsed": true
   },
   "outputs": [],
   "source": [
    "import pandas as pd\n",
    "import numpy as np\n",
    "import time\n",
    "import glob\n",
    "import os, platform\n",
    "from datetime import datetime"
   ]
  },
  {
   "cell_type": "code",
   "execution_count": 2,
   "metadata": {
    "collapsed": false
   },
   "outputs": [
    {
     "name": "stdout",
     "output_type": "stream",
     "text": [
      "C:/Users/lyncp010/projects/nfl/data\n"
     ]
    }
   ],
   "source": [
    "if platform.system()=='Darwin':\n",
    "    path = '/Users/phil/Google Drive/projects/nfl/data'\n",
    "elif os.environ.get(\"USERNAME\")=='phil':\n",
    "    path = 'C:/Users/phil/Google Drive/nfl/data'\n",
    "elif os.environ.get(\"USERNAME\")=='lyncp010':\n",
    "    path = 'C:/Users/lyncp010/projects/nfl/data'\n",
    "print path"
   ]
  },
  {
   "cell_type": "code",
   "execution_count": 3,
   "metadata": {
    "collapsed": true
   },
   "outputs": [],
   "source": [
    "# list of dataframes\n",
    "gmin = 'gameInfo'\n",
    "inst = 'injuryStatus'\n",
    "psdr = 'passDirections'\n",
    "snct = 'snapCounts'\n",
    "strt = 'starters'\n",
    "sdef = 'statsDefense'\n",
    "skck = 'statsKicking'\n",
    "soff = 'statsOffense'\n",
    "srtn = 'statsReturns'\n",
    "stm  = 'statsTeam'\n",
    "tmrs = 'teamRoster'\n",
    "\n",
    "dfl = [gmin, inst, psdr, snct, strt, sdef, skck, soff, srtn, stm, tmrs]"
   ]
  },
  {
   "cell_type": "code",
   "execution_count": 4,
   "metadata": {
    "collapsed": true
   },
   "outputs": [],
   "source": [
    "dfIn = {\n",
    "    'gameInfo'      :['season','week','bsID'                   ],\n",
    "    'injuryStatus'  :['season','week',       'team','player_id'],\n",
    "    'passDirections':['season','week','bsID','team','player_id'],\n",
    "    'snapCounts'    :['season','week','bsID','team','player_id'],\n",
    "    'starters'      :['season','week','bsID','team','player_id'],\n",
    "    'statsDefense'  :['season','week','bsID','team','player_id'],\n",
    "    'statsKicking'  :['season','week','bsID','team','player_id'],\n",
    "    'statsOffense'  :['season','week','bsID','team','player_id'],\n",
    "    'statsReturns'  :['season','week','bsID','team','player_id'],\n",
    "    'statsTeam'     :['season','week','bsID','team'            ],\n",
    "    'teamRoster'    :['season',              'team','player_id'],\n",
    "}"
   ]
  },
  {
   "cell_type": "code",
   "execution_count": 8,
   "metadata": {
    "collapsed": false,
    "scrolled": true
   },
   "outputs": [
    {
     "name": "stdout",
     "output_type": "stream",
     "text": [
      "gameInfo\n",
      "statsTeam\n",
      "statsDefense\n",
      "snapCounts\n",
      "passDirections\n",
      "statsKicking\n",
      "teamRoster\n",
      "starters\n",
      "injuryStatus\n",
      "statsOffense\n",
      "statsReturns\n"
     ]
    }
   ],
   "source": [
    "# import csvs into dataframes\n",
    "d = {}\n",
    "for key in dfIn:\n",
    "    print key\n",
    "    files = glob.glob(os.path.join(path, 'all', '{}*.csv'.format(key)))\n",
    "    d[key] = pd.concat((pd.read_csv(f, low_memory=False) for f in files), ignore_index=True)\n",
    "    d[key].set_index(dfIn[key], inplace=True)\n",
    "    d[key].sortlevel(inplace=True)"
   ]
  },
  {
   "cell_type": "code",
   "execution_count": 9,
   "metadata": {
    "collapsed": false,
    "scrolled": true
   },
   "outputs": [
    {
     "name": "stdout",
     "output_type": "stream",
     "text": [
      "gameInfo\n",
      "--------\n",
      "* season\n",
      "* week\n",
      "* bsID\n",
      "date\n",
      "weekday\n",
      "startTime\n",
      "home\n",
      "away\n",
      "winner\n",
      "homeScore\n",
      "awayScore\n",
      "line\n",
      "overUnder\n",
      "roof\n",
      "surface\n",
      "temp\n",
      "relHumidity\n",
      "windChill\n",
      "windMPH\n",
      "\n",
      "\n",
      "injuryStatus\n",
      "------------\n",
      "* season\n",
      "* week\n",
      "* team\n",
      "* player_id\n",
      "didNotPlay\n",
      "playerID\n",
      "status\n",
      "\n",
      "\n",
      "passDirections\n",
      "--------------\n",
      "* season\n",
      "* week\n",
      "* bsID\n",
      "* team\n",
      "* player_id\n",
      "rec_catches_d\n",
      "rec_catches_dl\n",
      "rec_catches_dm\n",
      "rec_catches_dr\n",
      "rec_catches_s\n",
      "rec_catches_sl\n",
      "rec_catches_sm\n",
      "rec_catches_sr\n",
      "rec_targets_d\n",
      "rec_targets_dl\n",
      "rec_targets_dm\n",
      "rec_targets_dr\n",
      "rec_targets_s\n",
      "rec_targets_sl\n",
      "rec_targets_sm\n",
      "rec_targets_sr\n",
      "rec_td_dl\n",
      "rec_td_dm\n",
      "rec_td_dr\n",
      "rec_td_sl\n",
      "rec_td_sm\n",
      "rec_td_sr\n",
      "rec_yds_dl\n",
      "rec_yds_dm\n",
      "rec_yds_dr\n",
      "rec_yds_sl\n",
      "rec_yds_sm\n",
      "rec_yds_sr\n",
      "rec_catches_no_dir\n",
      "rec_targets_no_dir\n",
      "rec_td_no_dir\n",
      "rec_yds_no_dir\n",
      "\n",
      "\n",
      "snapCounts\n",
      "----------\n",
      "* season\n",
      "* week\n",
      "* bsID\n",
      "* team\n",
      "* player_id\n",
      "position\n",
      "offSnaps\n",
      "offSnapsPct\n",
      "defSnaps\n",
      "defSnapsPct\n",
      "stSnaps\n",
      "stSnapsPct\n",
      "\n",
      "\n",
      "starters\n",
      "--------\n",
      "* season\n",
      "* week\n",
      "* bsID\n",
      "* team\n",
      "* player_id\n",
      "playerName\n",
      "position\n",
      "home\n",
      "offense\n",
      "\n",
      "\n",
      "statsDefense\n",
      "------------\n",
      "* season\n",
      "* week\n",
      "* bsID\n",
      "* team\n",
      "* player_id\n",
      "sacks\n",
      "tackles_solo\n",
      "tackles_assists\n",
      "def_int\n",
      "def_int_yds\n",
      "def_int_td\n",
      "def_int_long\n",
      "fumbles_forced\n",
      "fumbles_rec\n",
      "fumbles_rec_yds\n",
      "fumbles_rec_td\n",
      "\n",
      "\n",
      "statsKicking\n",
      "------------\n",
      "* season\n",
      "* week\n",
      "* bsID\n",
      "* team\n",
      "* player_id\n",
      "xpa\n",
      "xpm\n",
      "fga\n",
      "fgm\n",
      "punts\n",
      "puntYds\n",
      "puntYdsAvg\n",
      "puntLong\n",
      "\n",
      "\n",
      "statsOffense\n",
      "------------\n",
      "* season\n",
      "* week\n",
      "* bsID\n",
      "* team\n",
      "* player_id\n",
      "passAtt\n",
      "passCmp\n",
      "passYds\n",
      "passTds\n",
      "passLong\n",
      "passRating\n",
      "passSacked\n",
      "passSackedYds\n",
      "passInt\n",
      "targets\n",
      "rec\n",
      "recYds\n",
      "recTds\n",
      "recLong\n",
      "rushAtt\n",
      "rushYds\n",
      "rushTd\n",
      "rushLong\n",
      "fumbles\n",
      "fumblesLost\n",
      "\n",
      "\n",
      "statsReturns\n",
      "------------\n",
      "* season\n",
      "* week\n",
      "* bsID\n",
      "* team\n",
      "* player_id\n",
      "kick_ret\n",
      "kick_ret_yds\n",
      "kick_ret_yds_per_ret\n",
      "kick_ret_long\n",
      "kick_ret_td\n",
      "punt_ret\n",
      "punt_ret_yds\n",
      "punt_ret_yds_per_ret\n",
      "punt_ret_long\n",
      "punt_ret_td\n",
      "\n",
      "\n",
      "statsTeam\n",
      "---------\n",
      "* season\n",
      "* week\n",
      "* bsID\n",
      "* team\n",
      "home\n",
      "passAtt\n",
      "passCmp\n",
      "passYds\n",
      "netPassYards\n",
      "passTds\n",
      "rushAtt\n",
      "rushYds\n",
      "rushTds\n",
      "totalYards\n",
      "firstDowns\n",
      "sacks\n",
      "sacksYds\n",
      "passInt\n",
      "fumbles\n",
      "fumblesLost\n",
      "turnovers\n",
      "timeOfPossession\n",
      "pentalties\n",
      "pentaltiesYds\n",
      "thirdDownAtt\n",
      "thirdDownConv\n",
      "fourthDownAtt\n",
      "fourthDownConv\n",
      "\n",
      "\n",
      "teamRoster\n",
      "----------\n",
      "* season\n",
      "* team\n",
      "* player_id\n",
      "playerName\n",
      "position\n",
      "uniformNumber\n",
      "gamesPlayed\n",
      "gamesStarted\n",
      "pfrApproxValue\n",
      "experience\n",
      "age\n",
      "birthDate\n",
      "height\n",
      "weight\n",
      "college\n",
      "draftInfo\n",
      "salary\n",
      "\n",
      "\n"
     ]
    }
   ],
   "source": [
    "# print df index + columns\n",
    "for df in dfl:\n",
    "    print df\n",
    "    print '-'*len(df)\n",
    "    for i in d[df].index.names: print '*', i\n",
    "    for i in d[df].columns: print i\n",
    "    print '\\n'"
   ]
  },
  {
   "cell_type": "code",
   "execution_count": null,
   "metadata": {
    "collapsed": true
   },
   "outputs": [],
   "source": []
  },
  {
   "cell_type": "markdown",
   "metadata": {},
   "source": [
    "# fixing data"
   ]
  },
  {
   "cell_type": "code",
   "execution_count": 10,
   "metadata": {
    "collapsed": true
   },
   "outputs": [],
   "source": [
    "idx = pd.IndexSlice"
   ]
  },
  {
   "cell_type": "code",
   "execution_count": 11,
   "metadata": {
    "collapsed": true
   },
   "outputs": [],
   "source": [
    "# start with offense stats\n",
    "df = d[soff].copy().reset_index()"
   ]
  },
  {
   "cell_type": "code",
   "execution_count": 12,
   "metadata": {
    "collapsed": true
   },
   "outputs": [],
   "source": [
    "# add home indicator\n",
    "df['home'] = (df['bsID'].str[-3:]==df['team']).astype(int)"
   ]
  },
  {
   "cell_type": "code",
   "execution_count": 13,
   "metadata": {
    "collapsed": false,
    "scrolled": true
   },
   "outputs": [],
   "source": [
    "# change new team abbreviations to old/consistent ones (i.e. lar > ram)\n",
    "new_team_name_dict = {\n",
    "    'ari':'crd',\n",
    "    'bal':'rav',\n",
    "    'hou':'htx',\n",
    "    'ind':'clt',\n",
    "    'lar':'ram',\n",
    "    'stl':'ram',\n",
    "    'oak':'rai',\n",
    "    'ten':'oti'\n",
    "}\n",
    "\n",
    "df['team'].replace(new_team_name_dict, inplace=True)"
   ]
  },
  {
   "cell_type": "code",
   "execution_count": 14,
   "metadata": {
    "collapsed": false,
    "scrolled": true
   },
   "outputs": [],
   "source": [
    "# add opponent\n",
    "homeAwayOpp = {True:'away', False:'home'}\n",
    "for i, r in df.iterrows():\n",
    "    seas, week, bsid, team, plid = r['season'], r['week'], r['bsID'], r['team'], r['player_id']\n",
    "    foo = d[gmin].loc[idx[[seas],[week],[bsid]],]\n",
    "    df.loc[i, 'opponent'] = foo[homeAwayOpp[foo['home'][0]==team]][0]"
   ]
  },
  {
   "cell_type": "code",
   "execution_count": 15,
   "metadata": {
    "collapsed": false
   },
   "outputs": [],
   "source": [
    "# merge in player positions\n",
    "df = pd.merge(df.reset_index(),\n",
    "              d[tmrs].reset_index()[['season', 'player_id', 'position']],\n",
    "              how='left',\n",
    "              on = ['season', 'player_id']\n",
    "             )\n",
    "df['position'] = df['position'].str.upper()"
   ]
  },
  {
   "cell_type": "markdown",
   "metadata": {},
   "source": [
    "## missing positions"
   ]
  },
  {
   "cell_type": "code",
   "execution_count": 26,
   "metadata": {
    "collapsed": false,
    "scrolled": true
   },
   "outputs": [
    {
     "name": "stdout",
     "output_type": "stream",
     "text": [
      "Missing player positions - 0\n"
     ]
    },
    {
     "data": {
      "text/plain": [
       "array([], dtype=object)"
      ]
     },
     "execution_count": 26,
     "metadata": {},
     "output_type": "execute_result"
    }
   ],
   "source": [
    "miss_list = df[df['position'].isnull()]['player_id'].unique()\n",
    "print 'Missing player positions - {}'.format(len(miss_list))\n",
    "miss_list"
   ]
  },
  {
   "cell_type": "markdown",
   "metadata": {},
   "source": [
    "#### load file of missing players"
   ]
  },
  {
   "cell_type": "code",
   "execution_count": 17,
   "metadata": {
    "collapsed": true
   },
   "outputs": [],
   "source": [
    "# load missing player dictionary\n",
    "miss_dict = np.load(path + '/all/missing_player_positions_dict.npy').item()"
   ]
  },
  {
   "cell_type": "code",
   "execution_count": 25,
   "metadata": {
    "collapsed": true
   },
   "outputs": [],
   "source": [
    "# fill in missing positions\n",
    "df['position'].fillna(df['player_id'].map(miss_dict), inplace=True)"
   ]
  },
  {
   "cell_type": "markdown",
   "metadata": {},
   "source": [
    "#### otherwise get positions from other files / scraping"
   ]
  },
  {
   "cell_type": "code",
   "execution_count": 28,
   "metadata": {
    "collapsed": false
   },
   "outputs": [],
   "source": [
    "# miss_dict = {}"
   ]
  },
  {
   "cell_type": "code",
   "execution_count": 22,
   "metadata": {
    "collapsed": false
   },
   "outputs": [],
   "source": [
    "# fill players with missing positions with their most documented position in stats offense df\n",
    "miss_list = df[df['position'].isnull()]['player_id'].unique()\n",
    "for pid in miss_list:\n",
    "    foo = df[df['player_id']==pid]['position'].value_counts()\n",
    "    if len(foo)>0:\n",
    "        if pid not in miss_dict: miss_dict[pid] = foo.argmax()\n",
    "        \n",
    "df['position'].fillna(df['player_id'].map(miss_dict), inplace=True)"
   ]
  },
  {
   "cell_type": "code",
   "execution_count": 23,
   "metadata": {
    "collapsed": false,
    "scrolled": true
   },
   "outputs": [],
   "source": [
    "# fill players with missing positions with their most documented position in team roster df\n",
    "miss_list = df[df['position'].isnull()]['player_id'].unique()\n",
    "for pid in miss_list:\n",
    "    try:\n",
    "        foo = d[tmrs].loc[idx[:,:,pid],]['position'].value_counts()\n",
    "        if len(foo) > 0:\n",
    "            if pid not in miss_dict: miss_dict[pid] = foo.argmax()\n",
    "    except:pass\n",
    "        \n",
    "df['position'].fillna(df['player_id'].map(miss_dict), inplace=True)"
   ]
  },
  {
   "cell_type": "code",
   "execution_count": 24,
   "metadata": {
    "collapsed": false
   },
   "outputs": [],
   "source": [
    "# fill players with missing positions with their most documented position in snap counts df\n",
    "miss_list = df[df['position'].isnull()]['player_id'].unique()\n",
    "for pid in miss_list:\n",
    "    try:\n",
    "        foo = d[snct].loc[idx[:,:,:,:,pid],]['position'].value_counts()\n",
    "        if len(foo) > 0:\n",
    "            if pid not in miss_dict: miss_dict[pid] = foo.argmax()\n",
    "    except: pass\n",
    "        \n",
    "df['position'].fillna(df['player_id'].map(miss_dict), inplace=True)"
   ]
  },
  {
   "cell_type": "markdown",
   "metadata": {},
   "source": [
    "#### scrape positions of everyone else"
   ]
  },
  {
   "cell_type": "code",
   "execution_count": null,
   "metadata": {
    "collapsed": false
   },
   "outputs": [],
   "source": [
    "import bs4\n",
    "import urllib2\n",
    "import re"
   ]
  },
  {
   "cell_type": "code",
   "execution_count": null,
   "metadata": {
    "collapsed": true
   },
   "outputs": [],
   "source": [
    "def scrape_player_id_position(pid):\n",
    "    url = 'http://www.pro-football-reference.com/players/{}/{}.htm'.format(pid[0], pid)\n",
    "    soup = bs4.BeautifulSoup(urllib2.urlopen(url).read(), \"lxml\")\n",
    "    for x in soup.findAll(['p']):\n",
    "        if 'Position' in x.text:\n",
    "            match = re.search(r\"Position:\\s(.*)\", x.text)\n",
    "            if match:\n",
    "                return match.group(1)\n",
    "                #missing_players_dict[pid] = match.group(1)\n",
    "                #print match.group(1)\n",
    "            else: return np.nan"
   ]
  },
  {
   "cell_type": "code",
   "execution_count": null,
   "metadata": {
    "collapsed": false
   },
   "outputs": [],
   "source": [
    "# fill players with missing positions with their position from pfr player page\n",
    "miss_list = df[df['position'].isnull()]['player_id'].unique()\n",
    "n = len(miss_list)\n",
    "for i, pid in enumerate(miss_list):\n",
    "    print '\\r{} ({}/{})'.format(pid, i+1,n),\n",
    "    miss_dict[pid] = scrape_player_id_position(pid)\n",
    "print '\\rDone!'"
   ]
  },
  {
   "cell_type": "code",
   "execution_count": null,
   "metadata": {
    "collapsed": false,
    "scrolled": true
   },
   "outputs": [],
   "source": [
    "for pid in miss_list:\n",
    "    if pid in miss_dict:\n",
    "        if miss_dict[pid] == None:\n",
    "            miss_dict.pop(pid, None)"
   ]
  },
  {
   "cell_type": "code",
   "execution_count": null,
   "metadata": {
    "collapsed": false
   },
   "outputs": [],
   "source": [
    "# adding a few last players...\n",
    "miss_dict['DearJa00'] = 'C'\n",
    "miss_dict['TupaTo20'] = 'P'\n",
    "miss_dict['BartMi00'] = 'TE'\n",
    "miss_dict['MetcEr00'] = 'RB'\n",
    "miss_dict['hentrcra01'] = 'P'\n",
    "miss_dict['rouentom01'] = 'P'\n",
    "miss_dict['knorrmic01'] = 'P'\n",
    "miss_dict['carnejoh01'] = 'K'\n",
    "miss_dict['wilkijef01'] = 'K'\n",
    "miss_dict['edingpau01'] = 'K'\n",
    "miss_dict['brownkri01'] = 'K'\n",
    "miss_dict['elamxjas01'] = 'K'"
   ]
  },
  {
   "cell_type": "code",
   "execution_count": 29,
   "metadata": {
    "collapsed": false
   },
   "outputs": [],
   "source": [
    "# update df\n",
    "df['position'].fillna(df['player_id'].map(miss_dict), inplace=True)"
   ]
  },
  {
   "cell_type": "code",
   "execution_count": 30,
   "metadata": {
    "collapsed": true
   },
   "outputs": [],
   "source": [
    "# update Terell Pryor's position from QB to WR\n",
    "for i, r in df[(df['player_id']=='PryoTe00') & (df['season']>=2015)].iterrows():\n",
    "    df.loc[i,'position'] = 'WR'"
   ]
  },
  {
   "cell_type": "code",
   "execution_count": 31,
   "metadata": {
    "collapsed": true
   },
   "outputs": [],
   "source": [
    "# save dictionary of missing players\n",
    "np.save(path + '/all/missing_player_positions_dict.npy', miss_dict) "
   ]
  },
  {
   "cell_type": "code",
   "execution_count": null,
   "metadata": {
    "collapsed": true
   },
   "outputs": [],
   "source": []
  },
  {
   "cell_type": "code",
   "execution_count": null,
   "metadata": {
    "collapsed": true
   },
   "outputs": [],
   "source": []
  },
  {
   "cell_type": "markdown",
   "metadata": {},
   "source": [
    "# list positions"
   ]
  },
  {
   "cell_type": "code",
   "execution_count": 32,
   "metadata": {
    "collapsed": true
   },
   "outputs": [],
   "source": [
    "df['position'] = df['position'].str.upper()"
   ]
  },
  {
   "cell_type": "code",
   "execution_count": 33,
   "metadata": {
    "collapsed": false
   },
   "outputs": [
    {
     "data": {
      "text/plain": [
       "array(['RB', 'TE', 'QB', 'WR', 'FB', 'RT', 'P', 'SE', 'FL', 'LG', 'LCB',\n",
       "       'K', 'FS', 'LB', 'MLB', 'C', 'RCB', 'DT', 'DB', 'RG', 'NT', 'LT',\n",
       "       'SS', 'CB', 'LS', u'DE', 'S', 'LOLB', 'T', 'HB', 'DL'], dtype=object)"
      ]
     },
     "execution_count": 33,
     "metadata": {},
     "output_type": "execute_result"
    }
   ],
   "source": [
    "df['position'].unique()"
   ]
  },
  {
   "cell_type": "code",
   "execution_count": 34,
   "metadata": {
    "collapsed": true
   },
   "outputs": [],
   "source": [
    "# convert fullback to runningback\n",
    "df['position'].replace({'FB':'RB'}, inplace=True)"
   ]
  },
  {
   "cell_type": "markdown",
   "metadata": {},
   "source": [
    "#### calculate fantasy points"
   ]
  },
  {
   "cell_type": "code",
   "execution_count": 35,
   "metadata": {
    "collapsed": true
   },
   "outputs": [],
   "source": [
    "# add indicator for fantasy yard bonuses\n",
    "df['passYdsOver300'] = np.where(df['passYds']>=300, 1, 0)\n",
    "df['rushYdsOver100'] = np.where(df['rushYds']>=100, 1, 0)\n",
    "df['recYdsOver100']  = np.where(df['recYds']>=100, 1, 0)"
   ]
  },
  {
   "cell_type": "code",
   "execution_count": 36,
   "metadata": {
    "collapsed": true
   },
   "outputs": [],
   "source": [
    "# standard offense ff points calculator\n",
    "ffPtsDict = {\n",
    "    'passTds':        ( 4.0),\n",
    "    'passYds':        ( 0.04),\n",
    "    'passYdsOver300': ( 0.0),\n",
    "    'passInt':        (-1.0),\n",
    "    'rushYds':        ( 0.1),\n",
    "    'rushTd':         ( 6.0),\n",
    "    'rushYdsOver100': ( 0.0),\n",
    "    'fumbles':        (-1.0),\n",
    "    'recYds':         ( 0.1),\n",
    "    'rec':            ( 0.0),\n",
    "    'recTds':         ( 6.0),\n",
    "    'recYdsOver100':  ( 0.0)\n",
    "}"
   ]
  },
  {
   "cell_type": "code",
   "execution_count": 37,
   "metadata": {
    "collapsed": true
   },
   "outputs": [],
   "source": [
    "# calculate fantasy points\n",
    "B = np.array([ffPtsDict[stat] for stat in sorted(ffPtsDict.keys())])\n",
    "X = df[sorted(ffPtsDict.keys())].as_matrix()\n",
    "df['ff_points_total'] = np.dot(X, B)"
   ]
  },
  {
   "cell_type": "code",
   "execution_count": 41,
   "metadata": {
    "collapsed": false
   },
   "outputs": [
    {
     "name": "stdout",
     "output_type": "stream",
     "text": [
      "-3.6\n",
      "55.4\n"
     ]
    }
   ],
   "source": [
    "print df['ff_points_total'].min()\n",
    "print df['ff_points_total'].max()"
   ]
  },
  {
   "cell_type": "code",
   "execution_count": 43,
   "metadata": {
    "collapsed": false,
    "scrolled": true
   },
   "outputs": [
    {
     "data": {
      "text/plain": [
       "index                      8200\n",
       "season                     2003\n",
       "week                         14\n",
       "bsID               200312070den\n",
       "team                        den\n",
       "player_id              PortCl00\n",
       "passAtt                       0\n",
       "passCmp                       0\n",
       "passYds                       0\n",
       "passTds                       0\n",
       "passLong                      0\n",
       "passRating                  NaN\n",
       "passSacked                  NaN\n",
       "passSackedYds               NaN\n",
       "passInt                       0\n",
       "targets                       3\n",
       "rec                           2\n",
       "recYds                       36\n",
       "recTds                        0\n",
       "recLong                      30\n",
       "rushAtt                      22\n",
       "rushYds                     218\n",
       "rushTd                        5\n",
       "rushLong                     59\n",
       "fumbles                       0\n",
       "fumblesLost                 NaN\n",
       "home                          1\n",
       "opponent                    kan\n",
       "position                     RB\n",
       "passYdsOver300                0\n",
       "rushYdsOver100                1\n",
       "recYdsOver100                 0\n",
       "ff_points_total            55.4\n",
       "Name: 8276, dtype: object"
      ]
     },
     "execution_count": 43,
     "metadata": {},
     "output_type": "execute_result"
    }
   ],
   "source": [
    "# show line with max fantas points\n",
    "df.loc[df['ff_points_total'].argmax()]"
   ]
  },
  {
   "cell_type": "markdown",
   "metadata": {},
   "source": [
    "#### create dataframe with just offense positions"
   ]
  },
  {
   "cell_type": "code",
   "execution_count": 45,
   "metadata": {
    "collapsed": false
   },
   "outputs": [],
   "source": [
    "df.set_index('index', inplace=True)"
   ]
  },
  {
   "cell_type": "code",
   "execution_count": 46,
   "metadata": {
    "collapsed": true
   },
   "outputs": [],
   "source": [
    "# offense positions\n",
    "offense_positions = ['QB', 'RB', 'TE', 'WR']"
   ]
  },
  {
   "cell_type": "code",
   "execution_count": 47,
   "metadata": {
    "collapsed": true
   },
   "outputs": [],
   "source": [
    "df_off = df.copy()"
   ]
  },
  {
   "cell_type": "code",
   "execution_count": 49,
   "metadata": {
    "collapsed": true
   },
   "outputs": [],
   "source": [
    "cols = ['season', 'week', 'bsID', 'team', 'player_id', 'position', 'ff_points_total', 'home', 'opponent']\n",
    "for c in df_off.columns:\n",
    "    if c not in cols:\n",
    "        cols.append(c)\n",
    "df_off = df_off[cols]"
   ]
  },
  {
   "cell_type": "code",
   "execution_count": 50,
   "metadata": {
    "collapsed": true
   },
   "outputs": [],
   "source": [
    "df_off = df_off[df_off['position'].isin(offense_positions)]"
   ]
  },
  {
   "cell_type": "code",
   "execution_count": 51,
   "metadata": {
    "collapsed": false
   },
   "outputs": [
    {
     "data": {
      "text/plain": [
       "'C:/Users/lyncp010/projects/nfl/data'"
      ]
     },
     "execution_count": 51,
     "metadata": {},
     "output_type": "execute_result"
    }
   ],
   "source": [
    "path"
   ]
  },
  {
   "cell_type": "code",
   "execution_count": 53,
   "metadata": {
    "collapsed": false
   },
   "outputs": [],
   "source": [
    "df_off.to_csv(path + '/all/offense_player_ff_points_s02w01_s16w21.csv', index=False)"
   ]
  },
  {
   "cell_type": "markdown",
   "metadata": {},
   "source": [
    "# scrape coaches"
   ]
  },
  {
   "cell_type": "markdown",
   "metadata": {},
   "source": [
    "#### sports ref"
   ]
  },
  {
   "cell_type": "code",
   "execution_count": null,
   "metadata": {
    "collapsed": true
   },
   "outputs": [],
   "source": [
    "from sportsref import nfl"
   ]
  },
  {
   "cell_type": "code",
   "execution_count": null,
   "metadata": {
    "collapsed": false
   },
   "outputs": [],
   "source": [
    "coaches_df = pd.DataFrame()"
   ]
  },
  {
   "cell_type": "code",
   "execution_count": null,
   "metadata": {
    "collapsed": false,
    "scrolled": true
   },
   "outputs": [],
   "source": [
    "# scrape coach id for each season / team\n",
    "for s in range(2002, 2016+1):\n",
    "    for i, tm_nm in enumerate(nfl.teams.list_teams(s)):\n",
    "        print '\\rSeason {} - Team {}'.format(s, i+1),\n",
    "        tm = nfl.Team(tm_nm)\n",
    "        try:\n",
    "            coach_array = tm.head_coaches_by_game(s)\n",
    "            coach_df = pd.DataFrame(data = coach_array,\n",
    "                                    columns = ['coach'],\n",
    "                                    index=[[2016]*len(coach_array), [tm_nm]*len(coach_array), range(1, len(coach_array)+1)]\n",
    "                                   )\n",
    "            coach_df.index.names = ['seaon', 'team', 'week']\n",
    "            coaches_df = pd.concat([coaches_df, coach_df])\n",
    "        except:\n",
    "            print 'BAD {} - {}'.format(s, tm_nm)\n",
    "            pass"
   ]
  },
  {
   "cell_type": "code",
   "execution_count": null,
   "metadata": {
    "collapsed": true
   },
   "outputs": [],
   "source": [
    "from pyquery import PyQuery as pq"
   ]
  },
  {
   "cell_type": "code",
   "execution_count": null,
   "metadata": {
    "collapsed": true
   },
   "outputs": [],
   "source": [
    "coach_names = {}"
   ]
  },
  {
   "cell_type": "code",
   "execution_count": null,
   "metadata": {
    "collapsed": false,
    "scrolled": false
   },
   "outputs": [],
   "source": [
    "# get coache names from their coach id\n",
    "all_coaches = coaches_df['coach'].unique()\n",
    "for i, c in enumerate(all_coaches):\n",
    "    print '\\rCoach {} / {}'.format(i+1, len(all_coaches)),\n",
    "    doc = pq('http://www.pro-football-reference.com/coaches/{}.htm'.format(c))\n",
    "    try:\n",
    "        coach_names[c] = doc('div#meta h1:first').text()\n",
    "    except:\n",
    "        print 'BAD {}'.format(c)\n",
    "        coach_names[c] = ''"
   ]
  },
  {
   "cell_type": "code",
   "execution_count": null,
   "metadata": {
    "collapsed": true
   },
   "outputs": [],
   "source": [
    "coaches_df['coach_name'] = coaches_df['coach'].map(coach_names)"
   ]
  },
  {
   "cell_type": "code",
   "execution_count": null,
   "metadata": {
    "collapsed": false
   },
   "outputs": [],
   "source": [
    "coaches_df = coaches_df.rename(columns={'coach':'coach_id'})"
   ]
  },
  {
   "cell_type": "code",
   "execution_count": null,
   "metadata": {
    "collapsed": false
   },
   "outputs": [],
   "source": [
    "coaches_df.to_csv(path + '/all/coaches_s2002w01_s2016w21.csv')#, index=False)"
   ]
  },
  {
   "cell_type": "code",
   "execution_count": null,
   "metadata": {
    "collapsed": true
   },
   "outputs": [],
   "source": []
  },
  {
   "cell_type": "code",
   "execution_count": null,
   "metadata": {
    "collapsed": true
   },
   "outputs": [],
   "source": []
  },
  {
   "cell_type": "code",
   "execution_count": null,
   "metadata": {
    "collapsed": true
   },
   "outputs": [],
   "source": []
  },
  {
   "cell_type": "code",
   "execution_count": null,
   "metadata": {
    "collapsed": true
   },
   "outputs": [],
   "source": []
  },
  {
   "cell_type": "code",
   "execution_count": null,
   "metadata": {
    "collapsed": true
   },
   "outputs": [],
   "source": []
  },
  {
   "cell_type": "code",
   "execution_count": null,
   "metadata": {
    "collapsed": true
   },
   "outputs": [],
   "source": []
  },
  {
   "cell_type": "code",
   "execution_count": null,
   "metadata": {
    "collapsed": true
   },
   "outputs": [],
   "source": []
  },
  {
   "cell_type": "code",
   "execution_count": null,
   "metadata": {
    "collapsed": true
   },
   "outputs": [],
   "source": []
  },
  {
   "cell_type": "code",
   "execution_count": null,
   "metadata": {
    "collapsed": true
   },
   "outputs": [],
   "source": []
  }
 ],
 "metadata": {
  "anaconda-cloud": {},
  "kernelspec": {
   "display_name": "Python 2",
   "language": "python",
   "name": "python2"
  },
  "language_info": {
   "codemirror_mode": {
    "name": "ipython",
    "version": 2
   },
   "file_extension": ".py",
   "mimetype": "text/x-python",
   "name": "python",
   "nbconvert_exporter": "python",
   "pygments_lexer": "ipython2",
   "version": "2.7.11"
  }
 },
 "nbformat": 4,
 "nbformat_minor": 0
}
