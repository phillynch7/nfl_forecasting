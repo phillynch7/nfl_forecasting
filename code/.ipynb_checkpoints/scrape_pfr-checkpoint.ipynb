{
 "cells": [
  {
   "cell_type": "code",
   "execution_count": 1,
   "metadata": {
    "collapsed": false
   },
   "outputs": [],
   "source": [
    "import numpy as np\n",
    "import pandas as pd\n",
    "import sportsref\n",
    "import os, platform\n",
    "# import sys\n",
    "import re\n",
    "from sportsref import nfl\n",
    "from pyquery import PyQuery as pq"
   ]
  },
  {
   "cell_type": "markdown",
   "metadata": {},
   "source": [
    "# scraping"
   ]
  },
  {
   "cell_type": "code",
   "execution_count": 2,
   "metadata": {
    "collapsed": false
   },
   "outputs": [
    {
     "name": "stdout",
     "output_type": "stream",
     "text": [
      "/Users/phil/Google Drive/projects/nfl/data\n"
     ]
    }
   ],
   "source": [
    "# set directory based on if im at work/home laptop or cpu\n",
    "if platform.system()=='Darwin':\n",
    "    directory = '/Users/phil/Google Drive/projects/nfl/data'\n",
    "elif os.environ.get(\"USERNAME\")=='phil':\n",
    "    directory = 'C:/Users/phil/Google Drive/nfl/data'\n",
    "elif os.environ.get(\"USERNAME\")=='lyncp010':\n",
    "    directory = 'C:/Users/lyncp010/projects/nfl/data/current_season'\n",
    "print directory"
   ]
  },
  {
   "cell_type": "code",
   "execution_count": 3,
   "metadata": {
    "collapsed": false
   },
   "outputs": [],
   "source": [
    "# scraping parameters\n",
    "# season start/end\n",
    "ss = 2016\n",
    "se = 2016\n",
    "\n",
    "# week start/end\n",
    "ws = 1\n",
    "we = 21"
   ]
  },
  {
   "cell_type": "markdown",
   "metadata": {},
   "source": [
    "#### boxscore pages"
   ]
  },
  {
   "cell_type": "code",
   "execution_count": 4,
   "metadata": {
    "collapsed": false
   },
   "outputs": [],
   "source": [
    "# boxscore dfs\n",
    "# gameInfo = pd.DataFrame()\n",
    "# starters = pd.DataFrame()\n",
    "# snapCounts = pd.DataFrame()\n",
    "# statsTeam = pd.DataFrame()\n",
    "# statsOffense = pd.DataFrame()\n",
    "# statsDefense = pd.DataFrame()\n",
    "# statsReturns = pd.DataFrame()\n",
    "# statsKicking = pd.DataFrame()\n",
    "# passDirections = pd.DataFrame()\n",
    "\n",
    "playByPlay = pd.DataFrame()"
   ]
  },
  {
   "cell_type": "code",
   "execution_count": 7,
   "metadata": {
    "collapsed": false
   },
   "outputs": [
    {
     "name": "stdout",
     "output_type": "stream",
     "text": [
      "Scraping...\n",
      "Season 2016 - Game 201609180ram (27/267) WARNING. NO MATCH WAS FOUND FOR \"\"\n",
      "Season 2016 - Game 201612180dal (223/267) BAD 201612180dal\n",
      "Season 2016 - Game 201702050atl (267/267) \n",
      "Done!\n"
     ]
    }
   ],
   "source": [
    "## append to boxscore dfs\n",
    "print 'Scraping...'\n",
    "for s in range(ss, se+1):\n",
    "    season_boxscores = nfl.boxscores.get_season_boxscores_IDs(s)\n",
    "    bsIDs = season_boxscores.loc[ws: we]\n",
    "    n_games = len(bsIDs)\n",
    "    for i, bsID in enumerate(bsIDs):\n",
    "        print '\\rSeason {} - Game {} ({}/{})'.format(s, bsID, i+1, n_games),\n",
    "        bs = nfl.boxscores.BoxScore(bsID)\n",
    "#         gameInfo = pd.concat([gameInfo, bs.game_info()], ignore_index=True)\n",
    "#         starters = pd.concat([starters, bs.starters()], ignore_index=True)\n",
    "#         snapCounts = pd.concat([snapCounts, bs.snap_counts()], ignore_index=True)\n",
    "#         statsTeam = pd.concat([statsTeam, bs.stats_team()], ignore_index=True)\n",
    "#         statsOffense = pd.concat([statsOffense, bs.stats_offense()], ignore_index=True)\n",
    "#         statsDefense = pd.concat([statsDefense, bs.stats_defense()], ignore_index=True)\n",
    "#         statsReturns = pd.concat([statsReturns, bs.stats_returns()], ignore_index=True)\n",
    "#         statsKicking = pd.concat([statsKicking, bs.stats_kicking()], ignore_index=True)\n",
    "#         passDirections = pd.concat([passDirections, bs.pass_directions()], ignore_index=True)\n",
    "        try:\n",
    "            playByPlay = pd.concat([playByPlay, bs.pbp()], ignore_index=True)\n",
    "            #playByPlay.to_csv(directory + '/all/playByPlay_s{:02d}w{:02d}_s{:02d}w{:02d}.csv'.format(ss%100, ws, se%100, we), index=False)\n",
    "        except:\n",
    "            print 'BAD', bsID\n",
    "            pass\n",
    "\n",
    "# changing season/week to int\n",
    "# for df in [gameInfo, passDirections, snapCounts, starters, statsDefense, statsKicking, statsOffense, statsReturns, statsTeam]:\n",
    "#     if 'season' in df: df['season'] = df['season'].astype(int)\n",
    "#     if 'week' in df: df['week'] = df['week'].astype(int)\n",
    "\n",
    "print '\\nDone!'"
   ]
  },
  {
   "cell_type": "code",
   "execution_count": 10,
   "metadata": {
    "collapsed": false
   },
   "outputs": [],
   "source": [
    "# output to csv\n",
    "# gameInfo.to_csv(directory + '/current_season/gameInfo_s{:02d}w{:02d}_s{:02d}w{:02d}.csv'.format(ss%100, ws, se%100, we), index=False)\n",
    "# starters.to_csv(directory + '/current_season/starters_s{:02d}w{:02d}_s{:02d}w{:02d}.csv'.format(ss%100, ws, se%100, we), index=False)\n",
    "# snapCounts.to_csv(directory + '/current_season/snapCounts_s{:02d}w{:02d}_s{:02d}w{:02d}.csv'.format(ss%100, ws, se%100, we), index=False)\n",
    "# statsTeam.to_csv(directory + '/current_season/statsTeam_s{:02d}w{:02d}_s{:02d}w{:02d}.csv'.format(ss%100, ws, se%100, we), index=False)\n",
    "# statsOffense.to_csv(directory + '/current_season/statsOffense_s{:02d}w{:02d}_s{:02d}w{:02d}.csv'.format(ss%100, ws, se%100, we), index=False)\n",
    "# statsDefense.to_csv(directory + '/current_season/statsDefense_s{:02d}w{:02d}_s{:02d}w{:02d}.csv'.format(ss%100, ws, se%100, we), index=False)\n",
    "# statsReturns.to_csv(directory + '/current_season/statsReturns_s{:02d}w{:02d}_s{:02d}w{:02d}.csv'.format(ss%100, ws, se%100, we), index=False)\n",
    "# statsKicking.to_csv(directory + '/current_season/statsKicking_s{:02d}w{:02d}_s{:02d}w{:02d}.csv'.format(ss%100, ws, se%100, we), index=False)\n",
    "# passDirections.to_csv(directory + '/current_season/passDirections_s{:02d}w{:02d}_s{:02d}w{:02d}.csv'.format(ss%100, ws, se%100, we), index=False)\n",
    "\n",
    "playByPlay.to_csv(directory + '/current_season/playByPlay_s{:02d}w{:02d}_s{:02d}w{:02d}.csv'.format(ss%100, ws, se%100, we), index=False)"
   ]
  },
  {
   "cell_type": "markdown",
   "metadata": {},
   "source": [
    "#### team pages"
   ]
  },
  {
   "cell_type": "code",
   "execution_count": null,
   "metadata": {
    "collapsed": false
   },
   "outputs": [],
   "source": [
    "# team dfs\n",
    "injuryStatus = pd.DataFrame()\n",
    "teamRoster = pd.DataFrame()"
   ]
  },
  {
   "cell_type": "code",
   "execution_count": null,
   "metadata": {
    "collapsed": false,
    "scrolled": false
   },
   "outputs": [],
   "source": [
    "# append to team dfs\n",
    "print 'Scraping...'\n",
    "for s in range(ss, se+1):\n",
    "    for i, team in enumerate(nfl.teams.list_teams(s)):\n",
    "        print '\\rSeason {} - Team {} ({}/32)'.format(s, team, i+1),\n",
    "        injuryStatus = pd.concat([injuryStatus, nfl.teams.Team(team).injury_status(s)], ignore_index=True)\n",
    "        teamRoster = pd.concat([teamRoster, nfl.teams.Team(team).roster(s)], ignore_index=True)\n",
    "\n",
    "# changing season/week to int\n",
    "for df in [injuryStatus, teamRoster]:\n",
    "    if 'season' in df: df['season'] = df['season'].astype(int)\n",
    "    if 'week' in df: df['week'] = df['week'].astype(int)\n",
    "\n",
    "print '\\nDone!'"
   ]
  },
  {
   "cell_type": "code",
   "execution_count": null,
   "metadata": {
    "collapsed": false
   },
   "outputs": [],
   "source": [
    "# list of csv tables\n",
    "dfs = ['injuryStatus', 'teamRoster']\n",
    "files = []\n",
    "for df in dfs:\n",
    "    f = glob.glob(os.path.join(directory, 'current_season', \"{}*.csv\".format(df)))\n",
    "    os.remove(f[0])"
   ]
  },
  {
   "cell_type": "code",
   "execution_count": null,
   "metadata": {
    "collapsed": false
   },
   "outputs": [],
   "source": [
    "# output to csv\n",
    "injuryStatus.to_csv(directory + '/current_season/injuryStatus_s{:02d}w01_s{:02d}w{:02d}.csv'.format(ss%100, se%100, we), encoding='utf-8', index=False)\n",
    "teamRoster.to_csv(directory + '/current_season/teamRoster_s{:02d}w01_s{:02d}w{:02d}.csv'.format(ss%100, se%100, we), encoding='utf-8', index=False)"
   ]
  },
  {
   "cell_type": "markdown",
   "metadata": {},
   "source": [
    "#### combining csvs"
   ]
  },
  {
   "cell_type": "code",
   "execution_count": 8,
   "metadata": {
    "collapsed": true
   },
   "outputs": [],
   "source": [
    "import glob\n",
    "import re"
   ]
  },
  {
   "cell_type": "code",
   "execution_count": 9,
   "metadata": {
    "collapsed": true
   },
   "outputs": [],
   "source": [
    "# list of csv tables\n",
    "# dfs = ['gameInfo'\n",
    "#       ,'passDirections'\n",
    "#       ,'snapCounts'\n",
    "#       ,'starters'\n",
    "#       ,'statsDefense'\n",
    "#       ,'statsKicking'\n",
    "#       ,'statsOffense'\n",
    "#       ,'statsReturns'\n",
    "#       ,'statsTeam'\n",
    "#       ,'injuryStatus'\n",
    "#       ,'teamRoster'\n",
    "#       ,\n",
    "dfs = ['playByPlay'\n",
    "]"
   ]
  },
  {
   "cell_type": "code",
   "execution_count": 11,
   "metadata": {
    "collapsed": false,
    "scrolled": false
   },
   "outputs": [
    {
     "name": "stdout",
     "output_type": "stream",
     "text": [
      "playByPlay - s02w01_s16w21\n",
      "/Users/phil/Google Drive/projects/nfl/data/previous_season/playByPlay_s02w01_s14w21.csv\n",
      "/Users/phil/Google Drive/projects/nfl/data/previous_season/playByPlay_s15w01_s15w21.csv\n",
      "/Users/phil/Google Drive/projects/nfl/data/current_season/playByPlay_s16w01_s16w21.csv\n"
     ]
    }
   ],
   "source": [
    "# combine all csvs into df\n",
    "d = {}\n",
    "m = re.compile(r's\\d{2}w\\d{2}')\n",
    "for df in dfs:\n",
    "    files = []\n",
    "    files += glob.glob(os.path.join(directory, 'previous_season', \"{}*.csv\".format(df)))\n",
    "    files += glob.glob(os.path.join(directory, 'current_season', \"{}*.csv\".format(df)))\n",
    "    data_range = '{}_{}'.format(m.findall(files[0])[0], m.findall(files[-1])[1])\n",
    "    print '{} - {}'.format(df, data_range)\n",
    "    for f in files: print f\n",
    "    d[df] = pd.concat((pd.read_csv(f, low_memory=False) for f in files), ignore_index=True)"
   ]
  },
  {
   "cell_type": "code",
   "execution_count": 12,
   "metadata": {
    "collapsed": true
   },
   "outputs": [],
   "source": [
    "# export combined dfs\n",
    "for df in dfs:\n",
    "    d[df].to_csv(directory + '/all/{}_{}.csv'.format(df, data_range), encoding='utf-8', index=False)"
   ]
  },
  {
   "cell_type": "markdown",
   "metadata": {},
   "source": [
    "# testing"
   ]
  },
  {
   "cell_type": "code",
   "execution_count": null,
   "metadata": {
    "collapsed": false
   },
   "outputs": [],
   "source": [
    "url = sportsref.nfl.BASE_URL + '/years/{}/games.htm'.format(2016)\n",
    "doc = pq(sportsref.utils.get_html(url))\n",
    "table = doc('table#games')\n",
    "df = sportsref.utils.parse_table(table)"
   ]
  },
  {
   "cell_type": "code",
   "execution_count": null,
   "metadata": {
    "collapsed": false
   },
   "outputs": [],
   "source": [
    "df"
   ]
  },
  {
   "cell_type": "code",
   "execution_count": null,
   "metadata": {
    "collapsed": false
   },
   "outputs": [],
   "source": [
    "url"
   ]
  },
  {
   "cell_type": "code",
   "execution_count": null,
   "metadata": {
    "collapsed": false
   },
   "outputs": [],
   "source": [
    "print table"
   ]
  },
  {
   "cell_type": "code",
   "execution_count": null,
   "metadata": {
    "collapsed": true
   },
   "outputs": [],
   "source": [
    "import appdirs"
   ]
  },
  {
   "cell_type": "code",
   "execution_count": null,
   "metadata": {
    "collapsed": false
   },
   "outputs": [],
   "source": [
    "appdirs.user_cache_dir('sportsref', 'mgoldberg')"
   ]
  },
  {
   "cell_type": "code",
   "execution_count": null,
   "metadata": {
    "collapsed": true
   },
   "outputs": [],
   "source": []
  },
  {
   "cell_type": "code",
   "execution_count": null,
   "metadata": {
    "collapsed": true
   },
   "outputs": [],
   "source": []
  },
  {
   "cell_type": "code",
   "execution_count": null,
   "metadata": {
    "collapsed": false
   },
   "outputs": [],
   "source": [
    "bs"
   ]
  },
  {
   "cell_type": "code",
   "execution_count": null,
   "metadata": {
    "collapsed": true
   },
   "outputs": [],
   "source": [
    "doc = bs.get_doc()\n",
    "table = doc('table#pbp')\n",
    "df = sportsref.utils.parse_table(table)"
   ]
  },
  {
   "cell_type": "code",
   "execution_count": null,
   "metadata": {
    "collapsed": true
   },
   "outputs": [],
   "source": [
    "df['boxscore_id'] = bs.boxscore_id\n",
    "df['home'] = bs.home()\n",
    "df['away'] = bs.away()\n",
    "df['season'] = bs.season()\n",
    "df['week'] = bs.week()\n"
   ]
  },
  {
   "cell_type": "code",
   "execution_count": null,
   "metadata": {
    "collapsed": false
   },
   "outputs": [],
   "source": [
    "df"
   ]
  },
  {
   "cell_type": "code",
   "execution_count": null,
   "metadata": {
    "collapsed": true
   },
   "outputs": [],
   "source": [
    "feats = sportsref.nfl.pbp.expand_details(df)"
   ]
  },
  {
   "cell_type": "code",
   "execution_count": null,
   "metadata": {
    "collapsed": false
   },
   "outputs": [],
   "source": [
    "features = feats\n",
    "features = features.to_dict('records')\n",
    "curTm = curOpp = None\n",
    "playAfterKickoff = False"
   ]
  },
  {
   "cell_type": "code",
   "execution_count": null,
   "metadata": {
    "collapsed": false
   },
   "outputs": [],
   "source": [
    "features"
   ]
  },
  {
   "cell_type": "code",
   "execution_count": null,
   "metadata": {
    "collapsed": false
   },
   "outputs": [],
   "source": [
    "for row in features:\n",
    "    print row.__class__"
   ]
  },
  {
   "cell_type": "code",
   "execution_count": null,
   "metadata": {
    "collapsed": true
   },
   "outputs": [],
   "source": []
  },
  {
   "cell_type": "code",
   "execution_count": null,
   "metadata": {
    "collapsed": true
   },
   "outputs": [],
   "source": []
  },
  {
   "cell_type": "code",
   "execution_count": null,
   "metadata": {
    "collapsed": false
   },
   "outputs": [],
   "source": [
    "features"
   ]
  },
  {
   "cell_type": "code",
   "execution_count": null,
   "metadata": {
    "collapsed": true
   },
   "outputs": [],
   "source": []
  },
  {
   "cell_type": "code",
   "execution_count": null,
   "metadata": {
    "collapsed": true
   },
   "outputs": [],
   "source": []
  },
  {
   "cell_type": "code",
   "execution_count": null,
   "metadata": {
    "collapsed": true
   },
   "outputs": [],
   "source": []
  },
  {
   "cell_type": "code",
   "execution_count": null,
   "metadata": {
    "collapsed": true
   },
   "outputs": [],
   "source": []
  },
  {
   "cell_type": "code",
   "execution_count": null,
   "metadata": {
    "collapsed": true
   },
   "outputs": [],
   "source": []
  },
  {
   "cell_type": "code",
   "execution_count": null,
   "metadata": {
    "collapsed": true
   },
   "outputs": [],
   "source": []
  },
  {
   "cell_type": "code",
   "execution_count": null,
   "metadata": {
    "collapsed": true
   },
   "outputs": [],
   "source": []
  },
  {
   "cell_type": "code",
   "execution_count": null,
   "metadata": {
    "collapsed": true
   },
   "outputs": [],
   "source": []
  },
  {
   "cell_type": "code",
   "execution_count": null,
   "metadata": {
    "collapsed": false
   },
   "outputs": [],
   "source": [
    "d['gameInfo']['week'].dtype == 'O'"
   ]
  },
  {
   "cell_type": "markdown",
   "metadata": {},
   "source": [
    "#### fixing stuff"
   ]
  },
  {
   "cell_type": "code",
   "execution_count": null,
   "metadata": {
    "collapsed": true
   },
   "outputs": [],
   "source": []
  },
  {
   "cell_type": "markdown",
   "metadata": {},
   "source": [
    "#### combining csvs"
   ]
  },
  {
   "cell_type": "code",
   "execution_count": null,
   "metadata": {
    "collapsed": true
   },
   "outputs": [],
   "source": []
  },
  {
   "cell_type": "markdown",
   "metadata": {},
   "source": [
    "#### pulling future (ff playoff) game infos"
   ]
  },
  {
   "cell_type": "code",
   "execution_count": null,
   "metadata": {
    "collapsed": true
   },
   "outputs": [],
   "source": [
    "season = 2016"
   ]
  },
  {
   "cell_type": "code",
   "execution_count": null,
   "metadata": {
    "collapsed": false
   },
   "outputs": [],
   "source": [
    "nextGames = getSeasonBoxScores(season)\n",
    "\n",
    "# get index of first game of week 14\n",
    "print nextGames.tolist().index('201612080kan')"
   ]
  },
  {
   "cell_type": "code",
   "execution_count": null,
   "metadata": {
    "collapsed": false,
    "scrolled": true
   },
   "outputs": [],
   "source": [
    "url = sportsref.nfl.BASE_URL + '/years/{}/games.htm'.format(season)\n",
    "doc = pq(sportsref.utils.getHTML(url))\n",
    "table = doc('table#games')\n",
    "playoffGames = sportsref.utils.parseTable(table).loc[192: 192 + 16*3 - 1]\n",
    "\n",
    "# adding/fixing cols\n",
    "playoffGames['season'] = season\n",
    "playoffGames['week'] = playoffGames['week_num'].astype(int)\n",
    "playoffGames['bsID'] = playoffGames['boxscore_word']\n",
    "playoffGames['team'] = playoffGames['loser']\n",
    "playoffGames['opponent'] = playoffGames['winner']\n",
    "playoffGames['home'] = 1"
   ]
  },
  {
   "cell_type": "code",
   "execution_count": null,
   "metadata": {
    "collapsed": false
   },
   "outputs": [],
   "source": [
    "# copy df with cols needed\n",
    "df = playoffGames[['season', 'week', 'bsID', 'team', 'opponent', 'home']].copy()\n",
    "\n",
    "# for each game, duplicate row and swap home/away teams, home indicator\n",
    "for i,r in df.iterrows():\n",
    "    foo = df.loc[i].copy()\n",
    "    foo['team'], foo['opponent'], foo['home'] = foo['opponent'], foo['team'], int(not(df.loc[i]['home']))\n",
    "    df = df.append(foo)\n",
    "\n",
    "# sort df\n",
    "df = (df.sort_values(by=['season', 'week', 'bsID', 'home'])\n",
    "        .reset_index()\n",
    "        .drop(['index'], axis=1))"
   ]
  },
  {
   "cell_type": "code",
   "execution_count": null,
   "metadata": {
    "collapsed": true
   },
   "outputs": [],
   "source": []
  },
  {
   "cell_type": "markdown",
   "metadata": {},
   "source": [
    "#### team pages messed up"
   ]
  },
  {
   "cell_type": "code",
   "execution_count": null,
   "metadata": {
    "collapsed": true
   },
   "outputs": [],
   "source": []
  }
 ],
 "metadata": {
  "anaconda-cloud": {},
  "kernelspec": {
   "display_name": "Python [default]",
   "language": "python",
   "name": "python2"
  },
  "language_info": {
   "codemirror_mode": {
    "name": "ipython",
    "version": 2
   },
   "file_extension": ".py",
   "mimetype": "text/x-python",
   "name": "python",
   "nbconvert_exporter": "python",
   "pygments_lexer": "ipython2",
   "version": "2.7.12"
  }
 },
 "nbformat": 4,
 "nbformat_minor": 0
}
