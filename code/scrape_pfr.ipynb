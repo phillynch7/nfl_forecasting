{
 "cells": [
  {
   "cell_type": "code",
   "execution_count": 29,
   "metadata": {
    "collapsed": false
   },
   "outputs": [],
   "source": [
    "import numpy as np\n",
    "import pandas as pd\n",
    "import sportsref\n",
    "import os, platform\n",
    "import glob\n",
    "import re\n",
    "from sportsref import nfl\n",
    "from pyquery import PyQuery as pq"
   ]
  },
  {
   "cell_type": "markdown",
   "metadata": {},
   "source": [
    "# SCRAPING"
   ]
  },
  {
   "cell_type": "code",
   "execution_count": 14,
   "metadata": {
    "collapsed": false
   },
   "outputs": [
    {
     "name": "stdout",
     "output_type": "stream",
     "text": [
      "C:/Users/lyncp010/projects/nfl/data\n"
     ]
    }
   ],
   "source": [
    "# set path based on if im at work/home laptop or cpu\n",
    "if platform.system()=='Darwin':\n",
    "    path = '/Users/phil/Google Drive/projects/nfl/data'\n",
    "elif os.environ.get(\"USERNAME\")=='phil':\n",
    "    path = 'C:/Users/phil/Google Drive/nfl/data'\n",
    "elif os.environ.get(\"USERNAME\")=='lyncp010':\n",
    "    path = 'C:/Users/lyncp010/projects/nfl/data'\n",
    "print path"
   ]
  },
  {
   "cell_type": "markdown",
   "metadata": {},
   "source": [
    "## boxscore pages"
   ]
  },
  {
   "cell_type": "code",
   "execution_count": 20,
   "metadata": {
    "collapsed": false
   },
   "outputs": [],
   "source": [
    "# scraping parameters\n",
    "# season start/end\n",
    "ss = 2016\n",
    "se = 2016\n",
    "\n",
    "# week start/end\n",
    "ws = 17\n",
    "we = 17"
   ]
  },
  {
   "cell_type": "code",
   "execution_count": 21,
   "metadata": {
    "collapsed": false
   },
   "outputs": [],
   "source": [
    "# boxscore dfs\n",
    "gameInfo = pd.DataFrame()\n",
    "starters = pd.DataFrame()\n",
    "snapCounts = pd.DataFrame()\n",
    "statsTeam = pd.DataFrame()\n",
    "statsOffense = pd.DataFrame()\n",
    "statsDefense = pd.DataFrame()\n",
    "statsReturns = pd.DataFrame()\n",
    "statsKicking = pd.DataFrame()\n",
    "passDirections = pd.DataFrame()\n",
    "\n",
    "# playByPlay = pd.DataFrame()"
   ]
  },
  {
   "cell_type": "code",
   "execution_count": 22,
   "metadata": {
    "collapsed": false
   },
   "outputs": [
    {
     "name": "stdout",
     "output_type": "stream",
     "text": [
      "Scraping...\n",
      "Season 2016 - Game 201701010det (16/16) \n",
      "Done!\n"
     ]
    }
   ],
   "source": [
    "## append to boxscore dfs\n",
    "print 'Scraping...'\n",
    "for s in range(ss, se+1):\n",
    "    season_boxscores = nfl.boxscores.get_season_boxscores_IDs(s)\n",
    "    bsIDs = season_boxscores.loc[ws: we]\n",
    "    n_games = len(bsIDs)\n",
    "    for i, bsID in enumerate(bsIDs):\n",
    "        print '\\rSeason {} - Game {} ({}/{})'.format(s, bsID, i+1, n_games),\n",
    "        bs = nfl.boxscores.BoxScore(bsID)\n",
    "        gameInfo = pd.concat([gameInfo, bs.game_info()], ignore_index=True)\n",
    "        starters = pd.concat([starters, bs.starters()], ignore_index=True)\n",
    "        snapCounts = pd.concat([snapCounts, bs.snap_counts()], ignore_index=True)\n",
    "        statsTeam = pd.concat([statsTeam, bs.stats_team()], ignore_index=True)\n",
    "        statsOffense = pd.concat([statsOffense, bs.stats_offense()], ignore_index=True)\n",
    "        statsDefense = pd.concat([statsDefense, bs.stats_defense()], ignore_index=True)\n",
    "        statsReturns = pd.concat([statsReturns, bs.stats_returns()], ignore_index=True)\n",
    "        statsKicking = pd.concat([statsKicking, bs.stats_kicking()], ignore_index=True)\n",
    "        passDirections = pd.concat([passDirections, bs.pass_directions()], ignore_index=True)\n",
    "        # try:\n",
    "        #     playByPlay = pd.concat([playByPlay, bs.pbp()], ignore_index=True)\n",
    "        #     #playByPlay.to_csv(path + '/all/playByPlay_s{:02d}w{:02d}_s{:02d}w{:02d}.csv'.format(ss%100, ws, se%100, we), index=False)\n",
    "        # except:\n",
    "        #     print 'BAD', bsID\n",
    "        #     pass\n",
    "\n",
    "# changing season/week to int\n",
    "for df in [gameInfo, passDirections, snapCounts, starters, statsDefense, statsKicking, statsOffense, statsReturns, statsTeam]:\n",
    "    if 'season' in df: df['season'] = df['season'].astype(int)\n",
    "    if 'week' in df: df['week'] = df['week'].astype(int)\n",
    "\n",
    "print '\\nDone!'"
   ]
  },
  {
   "cell_type": "code",
   "execution_count": 24,
   "metadata": {
    "collapsed": false,
    "scrolled": false
   },
   "outputs": [],
   "source": [
    "# output to csv\n",
    "gameInfo.to_csv(path + '/current_season/gameInfo_s{:02d}w{:02d}_s{:02d}w{:02d}.csv'.format(ss%100, ws, se%100, we), index=False)\n",
    "starters.to_csv(path + '/current_season/starters_s{:02d}w{:02d}_s{:02d}w{:02d}.csv'.format(ss%100, ws, se%100, we), index=False)\n",
    "snapCounts.to_csv(path + '/current_season/snapCounts_s{:02d}w{:02d}_s{:02d}w{:02d}.csv'.format(ss%100, ws, se%100, we), index=False)\n",
    "statsTeam.to_csv(path + '/current_season/statsTeam_s{:02d}w{:02d}_s{:02d}w{:02d}.csv'.format(ss%100, ws, se%100, we), index=False)\n",
    "statsOffense.to_csv(path + '/current_season/statsOffense_s{:02d}w{:02d}_s{:02d}w{:02d}.csv'.format(ss%100, ws, se%100, we), index=False)\n",
    "statsDefense.to_csv(path + '/current_season/statsDefense_s{:02d}w{:02d}_s{:02d}w{:02d}.csv'.format(ss%100, ws, se%100, we), index=False)\n",
    "statsReturns.to_csv(path + '/current_season/statsReturns_s{:02d}w{:02d}_s{:02d}w{:02d}.csv'.format(ss%100, ws, se%100, we), index=False)\n",
    "statsKicking.to_csv(path + '/current_season/statsKicking_s{:02d}w{:02d}_s{:02d}w{:02d}.csv'.format(ss%100, ws, se%100, we), index=False)\n",
    "passDirections.to_csv(path + '/current_season/passDirections_s{:02d}w{:02d}_s{:02d}w{:02d}.csv'.format(ss%100, ws, se%100, we), index=False)\n",
    "\n",
    "# playByPlay.to_csv(path + '/current_season/playByPlay_s{:02d}w{:02d}_s{:02d}w{:02d}.csv'.format(ss%100, ws, se%100, we), index=False)"
   ]
  },
  {
   "cell_type": "markdown",
   "metadata": {},
   "source": [
    "## team pages"
   ]
  },
  {
   "cell_type": "code",
   "execution_count": 25,
   "metadata": {
    "collapsed": false
   },
   "outputs": [],
   "source": [
    "# scraping parameters\n",
    "# season start/end\n",
    "ss = 2016\n",
    "se = 2016\n",
    "\n",
    "# week start/end\n",
    "ws = 1\n",
    "we = 21"
   ]
  },
  {
   "cell_type": "code",
   "execution_count": 26,
   "metadata": {
    "collapsed": false
   },
   "outputs": [],
   "source": [
    "# team dfs\n",
    "injuryStatus = pd.DataFrame()\n",
    "teamRoster = pd.DataFrame()"
   ]
  },
  {
   "cell_type": "code",
   "execution_count": 27,
   "metadata": {
    "collapsed": false,
    "scrolled": false
   },
   "outputs": [
    {
     "name": "stdout",
     "output_type": "stream",
     "text": [
      "Scraping...\n",
      "Season 2016 - Team chi (32/32) \n",
      "Done!\n"
     ]
    }
   ],
   "source": [
    "# append to team dfs\n",
    "print 'Scraping...'\n",
    "for s in range(ss, se+1):\n",
    "    for i, team in enumerate(nfl.teams.list_teams(s)):\n",
    "        print '\\rSeason {} - Team {} ({}/32)'.format(s, team, i+1),\n",
    "        injuryStatus = pd.concat([injuryStatus, nfl.teams.Team(team).injury_status(s)], ignore_index=True)\n",
    "        teamRoster = pd.concat([teamRoster, nfl.teams.Team(team).roster(s)], ignore_index=True)\n",
    "\n",
    "# changing season/week to int\n",
    "for df in [injuryStatus, teamRoster]:\n",
    "    if 'season' in df: df['season'] = df['season'].astype(int)\n",
    "    if 'week' in df: df['week'] = df['week'].astype(int)\n",
    "\n",
    "print '\\nDone!'"
   ]
  },
  {
   "cell_type": "code",
   "execution_count": 31,
   "metadata": {
    "collapsed": false
   },
   "outputs": [
    {
     "name": "stdout",
     "output_type": "stream",
     "text": [
      "['C:/Users/lyncp010/projects/nfl/data\\\\current_season\\\\injuryStatus_s16w01_s16w16.csv']\n",
      "['C:/Users/lyncp010/projects/nfl/data\\\\current_season\\\\teamRoster_s16w01_s16w16.csv']\n"
     ]
    }
   ],
   "source": [
    "# remove old csvs\n",
    "dfs = ['injuryStatus', 'teamRoster']\n",
    "files = []\n",
    "print 'Deleting...'\n",
    "for df in dfs:\n",
    "    f = glob.glob(os.path.join(path, 'current_season', \"{}*.csv\".format(df)))\n",
    "    print f\n",
    "    os.remove(f[0])"
   ]
  },
  {
   "cell_type": "code",
   "execution_count": 32,
   "metadata": {
    "collapsed": false
   },
   "outputs": [],
   "source": [
    "# output to csv\n",
    "injuryStatus.to_csv(path + '/current_season/injuryStatus_s{:02d}w01_s{:02d}w{:02d}.csv'.format(ss%100, se%100, we), encoding='utf-8', index=False)\n",
    "teamRoster.to_csv(path + '/current_season/teamRoster_s{:02d}w01_s{:02d}w{:02d}.csv'.format(ss%100, se%100, we), encoding='utf-8', index=False)"
   ]
  },
  {
   "cell_type": "markdown",
   "metadata": {},
   "source": [
    "## combining csvs"
   ]
  },
  {
   "cell_type": "code",
   "execution_count": 33,
   "metadata": {
    "collapsed": true
   },
   "outputs": [],
   "source": [
    "# list of csv tables\n",
    "dfs = ['gameInfo'\n",
    "      ,'passDirections'\n",
    "      ,'snapCounts'\n",
    "      ,'starters'\n",
    "      ,'statsDefense'\n",
    "      ,'statsKicking'\n",
    "      ,'statsOffense'\n",
    "      ,'statsReturns'\n",
    "      ,'statsTeam'\n",
    "      ,'injuryStatus'\n",
    "      ,'teamRoster'\n",
    "# dfs = ['playByPlay'\n",
    "]"
   ]
  },
  {
   "cell_type": "code",
   "execution_count": 34,
   "metadata": {
    "collapsed": false,
    "scrolled": false
   },
   "outputs": [
    {
     "name": "stdout",
     "output_type": "stream",
     "text": [
      "gameInfo - s02w01_s16w21\n",
      "C:/Users/lyncp010/projects/nfl/data\\previous_season\\gameInfo_s02w01_s15w21.csv\n",
      "C:/Users/lyncp010/projects/nfl/data\\current_season\\gameInfo_s16w01_s16w16.csv\n",
      "C:/Users/lyncp010/projects/nfl/data\\current_season\\gameInfo_s16w17_s16w17.csv\n",
      "C:/Users/lyncp010/projects/nfl/data\\current_season\\gameInfo_s16w18_s16w21.csv\n",
      "passDirections - s02w01_s16w21\n",
      "C:/Users/lyncp010/projects/nfl/data\\previous_season\\passDirections_s02w01_s15w21.csv\n",
      "C:/Users/lyncp010/projects/nfl/data\\current_season\\passDirections_s16w01_s16w16.csv\n",
      "C:/Users/lyncp010/projects/nfl/data\\current_season\\passDirections_s16w17_s16w17.csv\n",
      "C:/Users/lyncp010/projects/nfl/data\\current_season\\passDirections_s16w18_s16w21.csv\n",
      "snapCounts - s02w01_s16w21\n",
      "C:/Users/lyncp010/projects/nfl/data\\previous_season\\snapCounts_s02w01_s15w21.csv\n",
      "C:/Users/lyncp010/projects/nfl/data\\current_season\\snapCounts_s16w01_s16w16.csv\n",
      "C:/Users/lyncp010/projects/nfl/data\\current_season\\snapCounts_s16w17_s16w17.csv\n",
      "C:/Users/lyncp010/projects/nfl/data\\current_season\\snapCounts_s16w18_s16w21.csv\n",
      "starters - s02w01_s16w21\n",
      "C:/Users/lyncp010/projects/nfl/data\\previous_season\\starters_s02w01_s15w21.csv\n",
      "C:/Users/lyncp010/projects/nfl/data\\current_season\\starters_s16w01_s16w16.csv\n",
      "C:/Users/lyncp010/projects/nfl/data\\current_season\\starters_s16w17_s16w17.csv\n",
      "C:/Users/lyncp010/projects/nfl/data\\current_season\\starters_s16w18_s16w21.csv\n",
      "statsDefense - s02w01_s16w21\n",
      "C:/Users/lyncp010/projects/nfl/data\\previous_season\\statsDefense_s02w01_s15w21.csv\n",
      "C:/Users/lyncp010/projects/nfl/data\\current_season\\statsDefense_s16w01_s16w16.csv\n",
      "C:/Users/lyncp010/projects/nfl/data\\current_season\\statsDefense_s16w17_s16w17.csv\n",
      "C:/Users/lyncp010/projects/nfl/data\\current_season\\statsDefense_s16w18_s16w21.csv\n",
      "statsKicking - s02w01_s16w21\n",
      "C:/Users/lyncp010/projects/nfl/data\\previous_season\\statsKicking_s02w01_s15w21.csv\n",
      "C:/Users/lyncp010/projects/nfl/data\\current_season\\statsKicking_s16w01_s16w16.csv\n",
      "C:/Users/lyncp010/projects/nfl/data\\current_season\\statsKicking_s16w17_s16w17.csv\n",
      "C:/Users/lyncp010/projects/nfl/data\\current_season\\statsKicking_s16w18_s16w21.csv\n",
      "statsOffense - s02w01_s16w21\n",
      "C:/Users/lyncp010/projects/nfl/data\\previous_season\\statsOffense_s02w01_s15w21.csv\n",
      "C:/Users/lyncp010/projects/nfl/data\\current_season\\statsOffense_s16w01_s16w16.csv\n",
      "C:/Users/lyncp010/projects/nfl/data\\current_season\\statsOffense_s16w17_s16w17.csv\n",
      "C:/Users/lyncp010/projects/nfl/data\\current_season\\statsOffense_s16w18_s16w21.csv\n",
      "statsReturns - s02w01_s16w21\n",
      "C:/Users/lyncp010/projects/nfl/data\\previous_season\\statsReturns_s02w01_s15w21.csv\n",
      "C:/Users/lyncp010/projects/nfl/data\\current_season\\statsReturns_s16w01_s16w16.csv\n",
      "C:/Users/lyncp010/projects/nfl/data\\current_season\\statsReturns_s16w17_s16w17.csv\n",
      "C:/Users/lyncp010/projects/nfl/data\\current_season\\statsReturns_s16w18_s16w21.csv\n",
      "statsTeam - s02w01_s16w21\n",
      "C:/Users/lyncp010/projects/nfl/data\\previous_season\\statsTeam_s02w01_s15w21.csv\n",
      "C:/Users/lyncp010/projects/nfl/data\\current_season\\statsTeam_s16w01_s16w16.csv\n",
      "C:/Users/lyncp010/projects/nfl/data\\current_season\\statsTeam_s16w17_s16w17.csv\n",
      "C:/Users/lyncp010/projects/nfl/data\\current_season\\statsTeam_s16w18_s16w21.csv\n",
      "injuryStatus - s02w01_s16w21\n",
      "C:/Users/lyncp010/projects/nfl/data\\previous_season\\injuryStatus_s02w01_s15w21.csv\n",
      "C:/Users/lyncp010/projects/nfl/data\\current_season\\injuryStatus_s16w01_s16w21.csv\n",
      "teamRoster - s02w01_s16w21\n",
      "C:/Users/lyncp010/projects/nfl/data\\previous_season\\teamRoster_s02w01_s15w21.csv\n",
      "C:/Users/lyncp010/projects/nfl/data\\current_season\\teamRoster_s16w01_s16w21.csv\n"
     ]
    }
   ],
   "source": [
    "# combine all csvs into df\n",
    "d = {}\n",
    "m = re.compile(r's\\d{2}w\\d{2}')\n",
    "for df in dfs:\n",
    "    files = []\n",
    "    files += glob.glob(os.path.join(path, 'previous_season', \"{}*.csv\".format(df)))\n",
    "    files += glob.glob(os.path.join(path, 'current_season', \"{}*.csv\".format(df)))\n",
    "    data_range = '{}_{}'.format(m.findall(files[0])[0], m.findall(files[-1])[1])\n",
    "    print '{} - {}'.format(df, data_range)\n",
    "    for f in files: print f\n",
    "    d[df] = pd.concat((pd.read_csv(f, low_memory=False) for f in files), ignore_index=True)"
   ]
  },
  {
   "cell_type": "code",
   "execution_count": 35,
   "metadata": {
    "collapsed": true
   },
   "outputs": [],
   "source": [
    "# export combined dfs\n",
    "for df in dfs:\n",
    "    d[df].to_csv(path + '/all/{}_{}.csv'.format(df, data_range), encoding='utf-8', index=False)"
   ]
  },
  {
   "cell_type": "markdown",
   "metadata": {},
   "source": [
    "## coaches"
   ]
  },
  {
   "cell_type": "code",
   "execution_count": null,
   "metadata": {
    "collapsed": true
   },
   "outputs": [],
   "source": [
    "coaches_df = pd.DataFrame()"
   ]
  },
  {
   "cell_type": "code",
   "execution_count": null,
   "metadata": {
    "collapsed": true
   },
   "outputs": [],
   "source": [
    "# scrape coach id for each season / team\n",
    "for s in range(2002, 2016+1):\n",
    "    for i, tm_nm in enumerate(nfl.teams.list_teams(s)):\n",
    "        print '\\rSeason {} - Team {}'.format(s, i+1),\n",
    "        tm = nfl.Team(tm_nm)\n",
    "        try:\n",
    "            coach_array = tm.head_coaches_by_game(s)\n",
    "            coach_df = pd.DataFrame(data = coach_array,\n",
    "                                    columns = ['coach'],\n",
    "                                    index=[[2016]*len(coach_array), [tm_nm]*len(coach_array), range(1, len(coach_array)+1)]\n",
    "                                   )\n",
    "            coach_df.index.names = ['seaon', 'team', 'week']\n",
    "            coaches_df = pd.concat([coaches_df, coach_df])\n",
    "        except:\n",
    "            print 'BAD {} - {}'.format(s, tm_nm)\n",
    "            pass"
   ]
  },
  {
   "cell_type": "code",
   "execution_count": null,
   "metadata": {
    "collapsed": true
   },
   "outputs": [],
   "source": [
    "from pyquery import PyQuery as pq"
   ]
  },
  {
   "cell_type": "code",
   "execution_count": null,
   "metadata": {
    "collapsed": true
   },
   "outputs": [],
   "source": [
    "coach_names = {}"
   ]
  },
  {
   "cell_type": "code",
   "execution_count": null,
   "metadata": {
    "collapsed": true
   },
   "outputs": [],
   "source": [
    "# get coache names from their coach id\n",
    "all_coaches = coaches_df['coach'].unique()\n",
    "for i, c in enumerate(all_coaches):\n",
    "    print '\\rCoach {} / {}'.format(i+1, len(all_coaches)),\n",
    "    doc = pq('http://www.pro-football-reference.com/coaches/{}.htm'.format(c))\n",
    "    try:\n",
    "        coach_names[c] = doc('div#meta h1:first').text()\n",
    "    except:\n",
    "        print 'BAD {}'.format(c)\n",
    "        coach_names[c] = ''"
   ]
  },
  {
   "cell_type": "code",
   "execution_count": null,
   "metadata": {
    "collapsed": true
   },
   "outputs": [],
   "source": [
    "coaches_df['coach_name'] = coaches_df['coach'].map(coach_names)"
   ]
  },
  {
   "cell_type": "code",
   "execution_count": null,
   "metadata": {
    "collapsed": true
   },
   "outputs": [],
   "source": [
    "coaches_df = coaches_df.rename(columns={'coach':'coach_id'})"
   ]
  },
  {
   "cell_type": "code",
   "execution_count": null,
   "metadata": {
    "collapsed": true
   },
   "outputs": [],
   "source": [
    "coaches_df.to_csv(path + '/all/coaches_s2002w01_s2016w21.csv')#, index=False)"
   ]
  },
  {
   "cell_type": "code",
   "execution_count": null,
   "metadata": {
    "collapsed": true
   },
   "outputs": [],
   "source": []
  },
  {
   "cell_type": "markdown",
   "metadata": {},
   "source": [
    "# testing"
   ]
  },
  {
   "cell_type": "markdown",
   "metadata": {},
   "source": [
    "#### fixing stuff"
   ]
  },
  {
   "cell_type": "code",
   "execution_count": null,
   "metadata": {
    "collapsed": true
   },
   "outputs": [],
   "source": []
  },
  {
   "cell_type": "markdown",
   "metadata": {},
   "source": [
    "#### pulling future (ff playoff) game infos"
   ]
  },
  {
   "cell_type": "code",
   "execution_count": null,
   "metadata": {
    "collapsed": true
   },
   "outputs": [],
   "source": [
    "season = 2016"
   ]
  },
  {
   "cell_type": "code",
   "execution_count": null,
   "metadata": {
    "collapsed": false
   },
   "outputs": [],
   "source": [
    "nextGames = getSeasonBoxScores(season)\n",
    "\n",
    "# get index of first game of week 14\n",
    "print nextGames.tolist().index('201612080kan')"
   ]
  },
  {
   "cell_type": "code",
   "execution_count": null,
   "metadata": {
    "collapsed": false,
    "scrolled": true
   },
   "outputs": [],
   "source": [
    "url = sportsref.nfl.BASE_URL + '/years/{}/games.htm'.format(season)\n",
    "doc = pq(sportsref.utils.getHTML(url))\n",
    "table = doc('table#games')\n",
    "playoffGames = sportsref.utils.parseTable(table).loc[192: 192 + 16*3 - 1]\n",
    "\n",
    "# adding/fixing cols\n",
    "playoffGames['season'] = season\n",
    "playoffGames['week'] = playoffGames['week_num'].astype(int)\n",
    "playoffGames['bsID'] = playoffGames['boxscore_word']\n",
    "playoffGames['team'] = playoffGames['loser']\n",
    "playoffGames['opponent'] = playoffGames['winner']\n",
    "playoffGames['home'] = 1"
   ]
  },
  {
   "cell_type": "code",
   "execution_count": null,
   "metadata": {
    "collapsed": false
   },
   "outputs": [],
   "source": [
    "# copy df with cols needed\n",
    "df = playoffGames[['season', 'week', 'bsID', 'team', 'opponent', 'home']].copy()\n",
    "\n",
    "# for each game, duplicate row and swap home/away teams, home indicator\n",
    "for i,r in df.iterrows():\n",
    "    foo = df.loc[i].copy()\n",
    "    foo['team'], foo['opponent'], foo['home'] = foo['opponent'], foo['team'], int(not(df.loc[i]['home']))\n",
    "    df = df.append(foo)\n",
    "\n",
    "# sort df\n",
    "df = (df.sort_values(by=['season', 'week', 'bsID', 'home'])\n",
    "        .reset_index()\n",
    "        .drop(['index'], axis=1))"
   ]
  },
  {
   "cell_type": "code",
   "execution_count": null,
   "metadata": {
    "collapsed": true
   },
   "outputs": [],
   "source": []
  },
  {
   "cell_type": "markdown",
   "metadata": {},
   "source": [
    "#### team pages messed up"
   ]
  },
  {
   "cell_type": "code",
   "execution_count": null,
   "metadata": {
    "collapsed": true
   },
   "outputs": [],
   "source": []
  }
 ],
 "metadata": {
  "anaconda-cloud": {},
  "kernelspec": {
   "display_name": "Python 2",
   "language": "python",
   "name": "python2"
  },
  "language_info": {
   "codemirror_mode": {
    "name": "ipython",
    "version": 2
   },
   "file_extension": ".py",
   "mimetype": "text/x-python",
   "name": "python",
   "nbconvert_exporter": "python",
   "pygments_lexer": "ipython2",
   "version": "2.7.11"
  }
 },
 "nbformat": 4,
 "nbformat_minor": 0
}
