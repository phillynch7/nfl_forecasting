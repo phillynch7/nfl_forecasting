{
 "cells": [
  {
   "cell_type": "code",
   "execution_count": 1,
   "metadata": {
    "collapsed": false
   },
   "outputs": [],
   "source": [
    "# import sportsref\n",
    "# import os, csv, sqlite3\n",
    "import pandas as pd\n",
    "import numpy as np\n",
    "import time\n",
    "from datetime import datetime"
   ]
  },
  {
   "cell_type": "markdown",
   "metadata": {},
   "source": [
    "# importing csvs to dataframes"
   ]
  },
  {
   "cell_type": "code",
   "execution_count": 2,
   "metadata": {
    "collapsed": true
   },
   "outputs": [],
   "source": [
    "# list of dataframes\n",
    "gmin = 'gameInfo'\n",
    "inst = 'injuryStatus'\n",
    "psdr = 'passDirections'\n",
    "snct = 'snapCounts'\n",
    "strt = 'starters'\n",
    "sdef = 'statsDefense'\n",
    "skck = 'statsKicking'\n",
    "soff = 'statsOffense'\n",
    "srtn = 'statsReturns'\n",
    "stm  = 'statsTeam'\n",
    "tmrs = 'teamRoster'\n",
    "\n",
    "dfl = [gmin, inst, psdr, snct, strt, sdef, skck, soff, srtn, stm, tmrs]"
   ]
  },
  {
   "cell_type": "code",
   "execution_count": 3,
   "metadata": {
    "collapsed": false
   },
   "outputs": [],
   "source": [
    "dfIn = {\n",
    "    'gameInfo'      :['season','week','bsID'                  ],\n",
    "    'injuryStatus'  :['season','week',       'team','playerID'],\n",
    "    'passDirections':['season','week','bsID','team','playerID'],\n",
    "    'snapCounts'    :['season','week','bsID','team','playerID'],\n",
    "    'starters'      :['season','week','bsID','team','playerID'],\n",
    "    'statsDefense'  :['season','week','bsID','team','playerID'],\n",
    "    'statsKicking'  :['season','week','bsID','team','playerID'],\n",
    "    'statsOffense'  :['season','week','bsID','team','playerID'],\n",
    "    'statsReturns'  :['season','week','bsID','team','playerID'],\n",
    "    'statsTeam'     :['season','week','bsID','team'           ],\n",
    "    'teamRoster'    :['season',              'team','playerID'],\n",
    "}"
   ]
  },
  {
   "cell_type": "code",
   "execution_count": 1,
   "metadata": {
    "collapsed": false,
    "scrolled": false
   },
   "outputs": [
    {
     "ename": "NameError",
     "evalue": "name 'dfIn' is not defined",
     "output_type": "error",
     "traceback": [
      "\u001b[0;31m---------------------------------------------------------------------------\u001b[0m",
      "\u001b[0;31mNameError\u001b[0m                                 Traceback (most recent call last)",
      "\u001b[0;32m<ipython-input-1-a9b54e816509>\u001b[0m in \u001b[0;36m<module>\u001b[0;34m()\u001b[0m\n\u001b[1;32m      5\u001b[0m \u001b[0;34m\u001b[0m\u001b[0m\n\u001b[1;32m      6\u001b[0m \u001b[0md\u001b[0m \u001b[0;34m=\u001b[0m \u001b[0;34m{\u001b[0m\u001b[0;34m}\u001b[0m\u001b[0;34m\u001b[0m\u001b[0m\n\u001b[0;32m----> 7\u001b[0;31m \u001b[0;32mfor\u001b[0m \u001b[0mkey\u001b[0m \u001b[0;32min\u001b[0m \u001b[0mdfIn\u001b[0m\u001b[0;34m:\u001b[0m\u001b[0;34m\u001b[0m\u001b[0m\n\u001b[0m\u001b[1;32m      8\u001b[0m     \u001b[0md\u001b[0m\u001b[0;34m[\u001b[0m\u001b[0mkey\u001b[0m\u001b[0;34m]\u001b[0m \u001b[0;34m=\u001b[0m \u001b[0mpd\u001b[0m\u001b[0;34m.\u001b[0m\u001b[0mread_csv\u001b[0m\u001b[0;34m(\u001b[0m\u001b[0mdirectory\u001b[0m \u001b[0;34m+\u001b[0m \u001b[0;34m'/{}_07_15.csv'\u001b[0m\u001b[0;34m.\u001b[0m\u001b[0mformat\u001b[0m\u001b[0;34m(\u001b[0m\u001b[0mkey\u001b[0m\u001b[0;34m)\u001b[0m\u001b[0;34m,\u001b[0m \u001b[0mlow_memory\u001b[0m\u001b[0;34m=\u001b[0m\u001b[0mFalse\u001b[0m\u001b[0;34m)\u001b[0m\u001b[0;34m\u001b[0m\u001b[0m\n\u001b[1;32m      9\u001b[0m     \u001b[0md\u001b[0m\u001b[0;34m[\u001b[0m\u001b[0mkey\u001b[0m\u001b[0;34m]\u001b[0m\u001b[0;34m.\u001b[0m\u001b[0mset_index\u001b[0m\u001b[0;34m(\u001b[0m\u001b[0mdfIn\u001b[0m\u001b[0;34m[\u001b[0m\u001b[0mkey\u001b[0m\u001b[0;34m]\u001b[0m\u001b[0;34m,\u001b[0m \u001b[0minplace\u001b[0m\u001b[0;34m=\u001b[0m\u001b[0mTrue\u001b[0m\u001b[0;34m)\u001b[0m\u001b[0;34m\u001b[0m\u001b[0m\n",
      "\u001b[0;31mNameError\u001b[0m: name 'dfIn' is not defined"
     ]
    }
   ],
   "source": [
    "# import csvs into dataframes\n",
    "# directory = '/Users/phil/Google Drive/nfl/data'\n",
    "directory = 'C:/Users/phil/Google Drive/nfl/data'\n",
    "# directory = 'C:/Users/lyncp010/projects/nfl/data'\n",
    "\n",
    "d = {}\n",
    "for key in dfIn:\n",
    "    d[key] = pd.read_csv(directory + '/{}_07_15.csv'.format(key), low_memory=False)\n",
    "    d[key].set_index(dfIn[key], inplace=True)\n",
    "    d[key].sortlevel(inplace=True)\n",
    "print 'tables imported'"
   ]
  },
  {
   "cell_type": "markdown",
   "metadata": {},
   "source": [
    "#### fix roster"
   ]
  },
  {
   "cell_type": "code",
   "execution_count": 13,
   "metadata": {
    "collapsed": true
   },
   "outputs": [],
   "source": [
    "# fixing roster experience\n",
    "d[tmrs].ix[d[tmrs]['experience']=='Rook', 'experience'] = '0'\n",
    "d[tmrs]['experience'] = d[tmrs]['experience'].astype(float)"
   ]
  },
  {
   "cell_type": "markdown",
   "metadata": {},
   "source": [
    "#### fix team stats"
   ]
  },
  {
   "cell_type": "code",
   "execution_count": 14,
   "metadata": {
    "collapsed": false
   },
   "outputs": [
    {
     "name": "stdout",
     "output_type": "stream",
     "text": [
      "(2015L, 21L, '201602070den', 'den')\n"
     ]
    }
   ],
   "source": [
    "idx = pd.IndexSlice\n",
    "homeAwayOpp = {True:'away', False:'home'}\n",
    "\n",
    "for i, r in d[stm].iterrows():\n",
    "    print '\\r{}'.format(i),\n",
    "    seas = i[0]\n",
    "    week = i[1]\n",
    "    bsid = i[2]\n",
    "    team = i[3]\n",
    "    d[stm].loc[i, 'opponent'] = d[gmin].loc[idx[[seas],[week],[bsid]],][homeAwayOpp[r['home']]][0] #foo[homeAwayOpp[r['home']]][0]\n",
    "    foo = d[stm].loc[idx[[seas],[week],[bsid],d[stm].loc[i, 'opponent']],]\n",
    "    d[stm].loc[i, 'defPassCmpAlw'] = foo['passCmp'][0]\n",
    "    d[stm].loc[i, 'defPassYdsAlw'] = foo['passYds'][0]\n",
    "    d[stm].loc[i, 'defPassTdsAlw'] = foo['passTds'][0]\n",
    "    d[stm].loc[i, 'defRushYdsAlw'] = foo['rushYds'][0]\n",
    "    d[stm].loc[i, 'defRushTdsAlw'] = foo['rushTds'][0]\n",
    "    d[stm].loc[i, 'defTotalYardsAlw'] = foo['totalYards'][0]\n",
    "    d[stm].loc[i, 'defFirstDownsAlw'] = foo['firstDowns'][0]\n",
    "    d[stm].loc[i, 'defPassInt'] = foo['passInt'][0]\n",
    "    d[stm].loc[i, 'defSacks'] = foo['sacks'][0]\n",
    "    d[stm].loc[i, 'defSacksYds'] = foo['sacksYds'][0]\n",
    "    d[stm].loc[i, 'defFFumbles'] = foo['fumbles'][0]\n",
    "    \n",
    "d[stm] = d[stm].rename(columns = {\n",
    "        'passAtt':'offPassAtt',\n",
    "        'passCmp':'offPassCmp',\n",
    "        'passYds':'offPassYds',\n",
    "        'netPassYards':'offNetPassYards',\n",
    "        'passTds':'offPassTds',\n",
    "        'rushAtt':'offRushAtt',\n",
    "        'rushYds':'offRushYds',\n",
    "        'rushTds':'offRushTds',\n",
    "        'totalYards':'offTotalYards',\n",
    "        'firstDowns':'offFirstDowns',\n",
    "        'sacks':'offSacks',\n",
    "        'sacksYds':'offSacksYds',\n",
    "        'passInt':'offPassInt',\n",
    "        'fumbles':'offFumbles',\n",
    "        'fumblesLost':'offFumblesLost',\n",
    "        'turnovers':'offTurnovers',\n",
    "        'thirdDownAtt':'offThirdDownAtt',\n",
    "        'thirdDownConv':'offThirdDownConv',\n",
    "        'fourthDownAtt':'offFourthDownAtt',\n",
    "        'fourthDownConv':'offFourthDownConv'\n",
    "    })\n",
    "\n",
    "# fixing time\n",
    "d[stm]['timeOfPossession'] = d[stm]['timeOfPossession'].apply(lambda x: float(x.split(':')[0]) + float(x.split(':')[1])/60)\n",
    "\n",
    "# fixing column order\n",
    "cols = ['home', 'opponent']\n",
    "cols += [c for c in d[stm].columns if ('off' in c)]\n",
    "cols += [c for c in d[stm].columns if ('def' in c)]\n",
    "cols += ['pentalties', 'pentaltiesYds', 'timeOfPossession']\n",
    "d[stm] = d[stm][cols]"
   ]
  },
  {
   "cell_type": "code",
   "execution_count": 15,
   "metadata": {
    "collapsed": false,
    "scrolled": true
   },
   "outputs": [
    {
     "name": "stdout",
     "output_type": "stream",
     "text": [
      "gameInfo\n",
      "--------\n",
      "* season\n",
      "* week\n",
      "* bsID\n",
      "date            object\n",
      "weekday         object\n",
      "startTime       object\n",
      "home            object\n",
      "away            object\n",
      "winner          object\n",
      "homeScore        int64\n",
      "awayScore        int64\n",
      "line           float64\n",
      "overUnder      float64\n",
      "roof            object\n",
      "surface         object\n",
      "temp             int64\n",
      "relHumidity    float64\n",
      "windChill        int64\n",
      "windMPH          int64\n",
      "dtype: object\n",
      "\n",
      "\n",
      "injuryStatus\n",
      "------------\n",
      "* season\n",
      "* week\n",
      "* team\n",
      "* playerID\n",
      "status        object\n",
      "didNotPlay      bool\n",
      "dtype: object\n",
      "\n",
      "\n",
      "passDirections\n",
      "--------------\n",
      "* season\n",
      "* week\n",
      "* bsID\n",
      "* team\n",
      "* playerID\n",
      "rec_catches_d         float64\n",
      "rec_catches_dl        float64\n",
      "rec_catches_dm        float64\n",
      "rec_catches_dr        float64\n",
      "rec_catches_s         float64\n",
      "rec_catches_sl        float64\n",
      "rec_catches_sm        float64\n",
      "rec_catches_sr        float64\n",
      "rec_targets_d         float64\n",
      "rec_targets_dl        float64\n",
      "rec_targets_dm        float64\n",
      "rec_targets_dr        float64\n",
      "rec_targets_s         float64\n",
      "rec_targets_sl        float64\n",
      "rec_targets_sm        float64\n",
      "rec_targets_sr        float64\n",
      "rec_td_dl             float64\n",
      "rec_td_dm             float64\n",
      "rec_td_dr             float64\n",
      "rec_td_sl             float64\n",
      "rec_td_sm             float64\n",
      "rec_td_sr             float64\n",
      "rec_yds_dl            float64\n",
      "rec_yds_dm            float64\n",
      "rec_yds_dr            float64\n",
      "rec_yds_sl            float64\n",
      "rec_yds_sm            float64\n",
      "rec_yds_sr            float64\n",
      "rec_catches_no_dir    float64\n",
      "rec_targets_no_dir    float64\n",
      "rec_td_no_dir         float64\n",
      "rec_yds_no_dir        float64\n",
      "dtype: object\n",
      "\n",
      "\n",
      "snapCounts\n",
      "----------\n",
      "* season\n",
      "* week\n",
      "* bsID\n",
      "* team\n",
      "* playerID\n",
      "position     object\n",
      "offSnaps    float64\n",
      "offPct      float64\n",
      "defSnaps    float64\n",
      "defPct      float64\n",
      "stSnaps     float64\n",
      "stPct       float64\n",
      "dtype: object\n",
      "\n",
      "\n",
      "starters\n",
      "--------\n",
      "* season\n",
      "* week\n",
      "* bsID\n",
      "* team\n",
      "* playerID\n",
      "playerName    object\n",
      "position      object\n",
      "home            bool\n",
      "offense         bool\n",
      "dtype: object\n",
      "\n",
      "\n",
      "statsDefense\n",
      "------------\n",
      "* season\n",
      "* week\n",
      "* bsID\n",
      "* team\n",
      "* playerID\n",
      "sacks              float64\n",
      "tackles_solo       float64\n",
      "tackles_assists    float64\n",
      "def_int            float64\n",
      "def_int_yds        float64\n",
      "def_int_td         float64\n",
      "def_int_long       float64\n",
      "fumbles_forced     float64\n",
      "fumbles_rec        float64\n",
      "fumbles_rec_yds    float64\n",
      "fumbles_rec_td     float64\n",
      "dtype: object\n",
      "\n",
      "\n",
      "statsKicking\n",
      "------------\n",
      "* season\n",
      "* week\n",
      "* bsID\n",
      "* team\n",
      "* playerID\n",
      "xpa           float64\n",
      "xpm           float64\n",
      "fga           float64\n",
      "fgm           float64\n",
      "punts         float64\n",
      "puntYds       float64\n",
      "puntYdsAvg    float64\n",
      "puntLong      float64\n",
      "dtype: object\n",
      "\n",
      "\n",
      "statsOffense\n",
      "------------\n",
      "* season\n",
      "* week\n",
      "* bsID\n",
      "* team\n",
      "* playerID\n",
      "passAtt          float64\n",
      "passCmp          float64\n",
      "passYds          float64\n",
      "passTds          float64\n",
      "passLong         float64\n",
      "passRating       float64\n",
      "passSacked       float64\n",
      "passSackedYds    float64\n",
      "passInt          float64\n",
      "targets          float64\n",
      "rec              float64\n",
      "recYds           float64\n",
      "recTds           float64\n",
      "recLong          float64\n",
      "rushAtt          float64\n",
      "rushYds          float64\n",
      "rushTd           float64\n",
      "rushLong         float64\n",
      "fumbles          float64\n",
      "fumblesLost      float64\n",
      "dtype: object\n",
      "\n",
      "\n",
      "statsReturns\n",
      "------------\n",
      "* season\n",
      "* week\n",
      "* bsID\n",
      "* team\n",
      "* playerID\n",
      "kick_ret                float64\n",
      "kick_ret_yds            float64\n",
      "kick_ret_yds_per_ret    float64\n",
      "kick_ret_long           float64\n",
      "kick_ret_td             float64\n",
      "punt_ret                float64\n",
      "punt_ret_yds            float64\n",
      "punt_ret_yds_per_ret    float64\n",
      "punt_ret_long           float64\n",
      "punt_ret_td             float64\n",
      "dtype: object\n",
      "\n",
      "\n",
      "statsTeam\n",
      "---------\n",
      "* season\n",
      "* week\n",
      "* bsID\n",
      "* team\n",
      "home                    bool\n",
      "opponent              object\n",
      "offPassAtt             int64\n",
      "offPassCmp             int64\n",
      "offPassYds           float64\n",
      "offNetPassYards        int64\n",
      "offPassTds           float64\n",
      "offRushAtt             int64\n",
      "offRushYds           float64\n",
      "offRushTds           float64\n",
      "offTotalYards          int64\n",
      "offFirstDowns          int64\n",
      "offSacks               int64\n",
      "offSacksYds            int64\n",
      "offPassInt           float64\n",
      "offFumbles             int64\n",
      "offFumblesLost         int64\n",
      "offTurnovers           int64\n",
      "offThirdDownAtt        int64\n",
      "offThirdDownConv       int64\n",
      "offFourthDownAtt       int64\n",
      "offFourthDownConv      int64\n",
      "defPassCmpAlw        float64\n",
      "defPassYdsAlw        float64\n",
      "defPassTdsAlw        float64\n",
      "defRushYdsAlw        float64\n",
      "defRushTdsAlw        float64\n",
      "defTotalYardsAlw     float64\n",
      "defFirstDownsAlw     float64\n",
      "defPassInt           float64\n",
      "defSacks             float64\n",
      "defSacksYds          float64\n",
      "defFFumbles          float64\n",
      "pentalties             int64\n",
      "pentaltiesYds          int64\n",
      "timeOfPossession     float64\n",
      "dtype: object\n",
      "\n",
      "\n",
      "teamRoster\n",
      "----------\n",
      "* season\n",
      "* team\n",
      "* playerID\n",
      "playerName         object\n",
      "position           object\n",
      "uniformNumber     float64\n",
      "gamesPlayed       float64\n",
      "gamesStarted      float64\n",
      "pfrApproxValue    float64\n",
      "experience        float64\n",
      "age               float64\n",
      "birthDate          object\n",
      "height             object\n",
      "weight            float64\n",
      "college            object\n",
      "draftInfo          object\n",
      "salary             object\n",
      "dtype: object\n",
      "\n",
      "\n"
     ]
    }
   ],
   "source": [
    "# print data frames with indexes + columns\n",
    "for df in sorted(dfl):\n",
    "    print df + '\\n'+'-'*len(df)\n",
    "    for i in d[df].index.names:\n",
    "        print '* {}'.format(i)\n",
    "    print d[df].dtypes\n",
    "    print '\\n'"
   ]
  },
  {
   "cell_type": "markdown",
   "metadata": {},
   "source": [
    "# testing"
   ]
  },
  {
   "cell_type": "code",
   "execution_count": null,
   "metadata": {
    "collapsed": true
   },
   "outputs": [],
   "source": [
    "idx = pd.IndexSlice"
   ]
  },
  {
   "cell_type": "code",
   "execution_count": null,
   "metadata": {
    "collapsed": false
   },
   "outputs": [],
   "source": [
    "d[inst].head(3)"
   ]
  },
  {
   "cell_type": "code",
   "execution_count": null,
   "metadata": {
    "collapsed": false
   },
   "outputs": [],
   "source": [
    "d[inst].loc[idx[[2008],:,:,:],]#['didNotPlay']#.mean()"
   ]
  },
  {
   "cell_type": "code",
   "execution_count": null,
   "metadata": {
    "collapsed": false
   },
   "outputs": [],
   "source": [
    "d[snct].head(3)"
   ]
  },
  {
   "cell_type": "code",
   "execution_count": null,
   "metadata": {
    "collapsed": false,
    "scrolled": true
   },
   "outputs": [],
   "source": [
    "d[inst].loc[idx[[2009],1,['nyg'],:],]#['didNotPlay']#.mean()"
   ]
  },
  {
   "cell_type": "code",
   "execution_count": null,
   "metadata": {
    "collapsed": true
   },
   "outputs": [],
   "source": [
    "# (2009L, 1L, '200909100pit', 'oti', 'CollKe00')"
   ]
  },
  {
   "cell_type": "code",
   "execution_count": null,
   "metadata": {
    "collapsed": false
   },
   "outputs": [],
   "source": [
    "d[snct].index.dtype"
   ]
  },
  {
   "cell_type": "code",
   "execution_count": null,
   "metadata": {
    "collapsed": false,
    "scrolled": true
   },
   "outputs": [],
   "source": [
    "d[snct].loc[idx[[2009],:,:,'oti',:],]#['offPct'].mean()"
   ]
  },
  {
   "cell_type": "code",
   "execution_count": 22,
   "metadata": {
    "collapsed": false,
    "scrolled": true
   },
   "outputs": [
    {
     "name": "stdout",
     "output_type": "stream",
     "text": [
      "(2015L, 21L, '201602070den', 'den', 'MannPe00') \n",
      "Done! Total run time: 57.0590000153\n"
     ]
    }
   ],
   "source": [
    "start = time.time()\n",
    "idx = pd.IndexSlice\n",
    "\n",
    "# adding features to quarterback df\n",
    "# qbdf = qdf(d[strt], seas=[2015], week=range(1,22))\n",
    "qbdf = d[strt].loc[idx[[2015],range(1,22)],]\n",
    "qbdf = qbdf[qbdf.position == 'QB']\n",
    "\n",
    "homeAwayOpp = {True:'away', False:'home'}\n",
    "first_season = 2007\n",
    "\n",
    "for i, r in qbdf.iterrows():\n",
    "    print '\\r{}'.format(i),\n",
    "    #print 'seas={}, week={}, bsid={}, team={}, plid={}'.format(i[0], i[1], i[2], i[3], i[4])\n",
    "    seas = i[0]\n",
    "    week = i[1]\n",
    "    bsid = i[2]\n",
    "    team = i[3]\n",
    "    plid = i[4]\n",
    "    \n",
    "    # fantasy points\n",
    "    foo = d[soff].loc[idx[[seas],[week],:,:,[plid]],]\n",
    "    qbdf.loc[i, 'ff_PassTds'] = foo['passTds'].mean()\n",
    "    qbdf.loc[i, 'ff_PassYds'] = foo['passYds'].mean()\n",
    "    qbdf.loc[i, 'ff_PassYdsOver300'] = float(foo['passYds'].mean() > 300)\n",
    "    qbdf.loc[i, 'ff_Int'] = foo['passInt'].mean()\n",
    "    qbdf.loc[i, 'ff_RushYds'] = foo['rushYds'].mean()\n",
    "    qbdf.loc[i, 'ff_RushTds'] = foo['rushTd'].mean()\n",
    "    qbdf.loc[i, 'ff_RushYdsOver100'] = float(foo['rushYds'].mean() > 100)\n",
    "    qbdf.loc[i, 'ff_Fumble'] = foo['fumbles'].mean()\n",
    "    qbdf.loc[i, 'ff_RecYds'] = foo['recYds'].mean()\n",
    "    qbdf.loc[i, 'ff_Recs'] = foo['rec'].mean()\n",
    "    qbdf.loc[i, 'ff_RecTds'] = foo['recTds'].mean()\n",
    "    qbdf.loc[i, 'ff_RecYdsOver100'] = float(foo['recYds'].mean() > 100)\n",
    "    \n",
    "    # team roster - player stats\n",
    "    foo = d[tmrs].loc[idx[[seas],[team],[plid]],]\n",
    "    qbdf.loc[i, 'playerAge'] = foo['age'].mean()\n",
    "    qbdf.loc[i, 'playerWeight'] = foo['weight'].mean()\n",
    "    qbdf.loc[i, 'pfrApproxValue'] = foo['pfrApproxValue'].mean()\n",
    "    qbdf.loc[i, 'experience'] = foo['experience'].mean()\n",
    "    \n",
    "    # injury status\n",
    "    foo = d[inst].loc[idx[[seas],[week],[team],[plid]],]\n",
    "    if len(foo)==1:\n",
    "        qbdf.loc[i, 'injuryStatus'] = foo['status'][0]\n",
    "        qbdf.loc[i, 'didNotPlay'] = foo['didNotPlay'][0]\n",
    "    else:\n",
    "        qbdf.loc[i, 'injuryStatus'] = 'None'\n",
    "        qbdf.loc[i, 'didNotPlay'] = False\n",
    "    \n",
    "    # snap counts\n",
    "    qbdf.loc[i, 'snapCountPct'] = d[snct].loc[idx[[seas],[week],[bsid],team,plid],]['offPct'].mean()\n",
    "    \n",
    "    # game info\n",
    "    foo = d[gmin].loc[idx[[seas],[week],[bsid]],]\n",
    "    qbdf.loc[i, 'roof'] = foo['roof'][0]\n",
    "    qbdf.loc[i, 'opponent'] = foo[homeAwayOpp[r['home']]][0]\n",
    "    qbdf.loc[i, 'startTime'] = foo['startTime'][0]\n",
    "    qbdf.loc[i, 'temp'] = foo['temp'][0]\n",
    "    qbdf.loc[i, 'weekday'] = foo['weekday'][0]\n",
    "    qbdf.loc[i, 'windChill'] = foo['windChill'][0]\n",
    "    qbdf.loc[i, 'windMPH'] = foo['windMPH'][0]\n",
    "    if week==1:\n",
    "        qbdf.loc[i, 'restDays'] = 14.0\n",
    "    else:\n",
    "        df = d[gmin].loc[idx[[seas],[week-1,week-2],:],]\n",
    "        gameDate = datetime.strptime(foo['date'][0], '%Y-%m-%d')\n",
    "        lastGameDate = datetime.strptime(df[(df['home']==team) | (df['away']==team)]['date'][-1], '%Y-%m-%d')\n",
    "        qbdf.loc[i, 'restDays'] = (gameDate - lastGameDate).days\n",
    "    \n",
    "    # qb passing stats - prev years\n",
    "    foo = d[soff].loc[idx[[seas-1],:,:,:,[plid]],]\n",
    "    qbdf.loc[i, 'prev1SeasPassCmpAvg'] = foo['passCmp'].mean()\n",
    "    qbdf.loc[i, 'prev1SeasPassAttAvg'] = foo['passAtt'].mean()\n",
    "    qbdf.loc[i, 'prev1SeasPassYdAvg'] = foo['passYds'].mean()\n",
    "    qbdf.loc[i, 'prev1SeasPassTdAvg'] = foo['passTds'].mean()\n",
    "    qbdf.loc[i, 'prev1SeasPassIntAvg'] = foo['passInt'].mean()\n",
    "    qbdf.loc[i, 'prev1SeasPassRtngAvg'] = foo['passRating'].mean()  \n",
    "    \n",
    "    foo = d[soff].loc[idx[[seas-2],:,:,:,[plid]],]\n",
    "    qbdf.loc[i, 'prev2SeasPassCmpAvg'] = foo['passCmp'].mean()\n",
    "    qbdf.loc[i, 'prev2SeasPassAttAvg'] = foo['passAtt'].mean()\n",
    "    qbdf.loc[i, 'prev2SeasPassYdAvg'] = foo['passYds'].mean()\n",
    "    qbdf.loc[i, 'prev2SeasPassTdAvg'] = foo['passTds'].mean()\n",
    "    qbdf.loc[i, 'prev2SeasPassIntAvg'] = foo['passInt'].mean()\n",
    "    qbdf.loc[i, 'prev2SeasPassRtngAvg'] = foo['passRating'].mean()\n",
    "    \n",
    "    foo = d[soff].loc[idx[range(first_season, seas),:,:,:,[plid]],]\n",
    "    qbdf.loc[i, 'prevASeasPassCmpAvg'] = foo['passCmp'].mean()\n",
    "    qbdf.loc[i, 'prevASeasPassAttAvg'] = foo['passAtt'].mean()\n",
    "    qbdf.loc[i, 'prevASeasPassYdAvg'] = foo['passYds'].mean()\n",
    "    qbdf.loc[i, 'prevASeasPassTdAvg'] = foo['passTds'].mean()\n",
    "    qbdf.loc[i, 'prevASeasPassIntAvg'] = foo['passInt'].mean()\n",
    "    qbdf.loc[i, 'prevASeasPassRtngAvg'] = foo['passRating'].mean()\n",
    "    \n",
    "    # qb passing stats - current year\n",
    "    foo = d[soff].loc[idx[[seas],range(1,week),:,:,[plid]],]\n",
    "    qbdf.loc[i, 'curSeasPassCmpAvg'] = foo['passCmp'].mean()\n",
    "    qbdf.loc[i, 'curSeasPassCmpMin'] = foo['passCmp'].min()\n",
    "    qbdf.loc[i, 'curSeasPassCmpMax'] = foo['passCmp'].max()\n",
    "    qbdf.loc[i, 'curSeasPassAttAvg'] = foo['passAtt'].mean()\n",
    "    qbdf.loc[i, 'curSeasPassAttMin'] = foo['passAtt'].min()\n",
    "    qbdf.loc[i, 'curSeasPassAttMax'] = foo['passAtt'].max()\n",
    "    qbdf.loc[i, 'curSeasPassYdAvg'] = foo['passYds'].mean()\n",
    "    qbdf.loc[i, 'curSeasPassYdMin'] = foo['passYds'].min()\n",
    "    qbdf.loc[i, 'curSeasPassYdMax'] = foo['passYds'].max()\n",
    "    qbdf.loc[i, 'curSeasPassTdAvg'] = foo['passTds'].mean()\n",
    "    qbdf.loc[i, 'curSeasPassTdMin'] = foo['passTds'].min()\n",
    "    qbdf.loc[i, 'curSeasPassTdMax'] = foo['passTds'].max()\n",
    "    qbdf.loc[i, 'curSeasPassIntAvg'] = foo['passInt'].mean()\n",
    "    qbdf.loc[i, 'curSeasPassIntMin'] = foo['passInt'].min()\n",
    "    qbdf.loc[i, 'curSeasPassIntMax'] = foo['passInt'].max()\n",
    "    qbdf.loc[i, 'curSeasPassSackAvg'] = foo['passSacked'].mean()\n",
    "    qbdf.loc[i, 'curSeasPassSackMin'] = foo['passSacked'].min()\n",
    "    qbdf.loc[i, 'curSeasPassSackMax'] = foo['passSacked'].max()\n",
    "    qbdf.loc[i, 'curSeasPassLongAvg'] = foo['passLong'].mean()\n",
    "    qbdf.loc[i, 'curSeasPassLongMin'] = foo['passLong'].min()\n",
    "    qbdf.loc[i, 'curSeasPassLongMax'] = foo['passLong'].max()\n",
    "    qbdf.loc[i, 'curSeasPassRtngAvg'] = foo['passRating'].mean()\n",
    "    qbdf.loc[i, 'curSeasPassRtngMin'] = foo['passRating'].min()\n",
    "    qbdf.loc[i, 'curSeasPassRtngMax'] = foo['passRating'].max()\n",
    "    \n",
    "    # opp deffense sack, int, and ffum - sum starting def players stats for each week\n",
    "    defStarters = d[sdef].loc[idx[[seas],[week],[bsid],[qbdf.loc[i, 'opponent']],:],].index.get_level_values('playerID').unique()\n",
    "    if week==1:\n",
    "        qbdf.loc[i, 'curSeasDefSackAvg'] = np.nan\n",
    "        qbdf.loc[i, 'curSeasDefSackMin'] = np.nan\n",
    "        qbdf.loc[i, 'curSeasDefSackMax'] = np.nan\n",
    "        qbdf.loc[i, 'curSeasDefIntAvg'] = np.nan\n",
    "        qbdf.loc[i, 'curSeasDefIntMin'] = np.nan\n",
    "        qbdf.loc[i, 'curSeasDefIntMax'] = np.nan\n",
    "        qbdf.loc[i, 'curSeasDefFFumAvg'] = np.nan\n",
    "        qbdf.loc[i, 'curSeasDefFFumMin'] = np.nan\n",
    "        qbdf.loc[i, 'curSeasDefFFumMax'] = np.nan\n",
    "    else:\n",
    "        foo = d[sdef].loc[idx[[seas],range(1,week),:,[qbdf.loc[i, 'opponent']],:],]\n",
    "        qbdf.loc[i, 'curSeasDefSackAvg'] = np.mean([foo['sacks'].sum() for wk in range(1,week)])\n",
    "        qbdf.loc[i, 'curSeasDefSackMin'] = min([foo['sacks'].sum() for wk in range(1,week)])\n",
    "        qbdf.loc[i, 'curSeasDefSackMax'] = max([foo['sacks'].sum() for wk in range(1,week)])\n",
    "        qbdf.loc[i, 'curSeasDefIntAvg'] = np.mean([foo['def_int'].sum() for wk in range(1,week)])\n",
    "        qbdf.loc[i, 'curSeasDefIntMin'] = min([foo['def_int'].sum() for wk in range(1,week)])\n",
    "        qbdf.loc[i, 'curSeasDefIntMax'] = max([foo['def_int'].sum() for wk in range(1,week)])\n",
    "        qbdf.loc[i, 'curSeasDefFFumAvg'] = np.mean([foo['fumbles_forced'].sum() for wk in range(1,week)])\n",
    "        qbdf.loc[i, 'curSeasDefFFumMin'] = min([foo['fumbles_forced'].sum() for wk in range(1,week)])\n",
    "        qbdf.loc[i, 'curSeasDefFFumMax'] = max([foo['fumbles_forced'].sum() for wk in range(1,week)])\n",
    "    \n",
    "    # team stats for each week\n",
    "    foo = d[stm].loc[idx[[seas],range(1,week),:,[team]],]\n",
    "    qbdf.loc[i, 'curSeasOffSackAvg'] = foo['offSacks'].mean()\n",
    "    qbdf.loc[i, 'curSeasOffFirstDownsAvg'] = foo['offFirstDowns'].mean()\n",
    "    qbdf.loc[i, 'curSeasOffFourthDownAttAvg'] = foo['offFourthDownAtt'].mean()\n",
    "    qbdf.loc[i, 'curSeasOffFourthDownConvAvg'] = foo['offFourthDownConv'].mean()\n",
    "    \n",
    "print '\\nDone! Total run time: {}'.format(time.time() - start)\n",
    "# qbdf.tail()"
   ]
  },
  {
   "cell_type": "code",
   "execution_count": 24,
   "metadata": {
    "collapsed": false
   },
   "outputs": [],
   "source": [
    "qbdf.tail()"
   ]
  },
  {
   "cell_type": "markdown",
   "metadata": {},
   "source": [
    "# starters"
   ]
  },
  {
   "cell_type": "code",
   "execution_count": null,
   "metadata": {
    "collapsed": false,
    "scrolled": true
   },
   "outputs": [],
   "source": [
    "season = 2015\n",
    "starters = {}\n",
    "\n",
    "# 2015 offensive starters\n",
    "df = d[strt].loc[season]\n",
    "for pos in ['QB','RB','WR','TE']:\n",
    "    starters[pos] = df[df.position==pos].index.get_level_values('playerID').unique()\n",
    "\n",
    "# kicker starters\n",
    "df = d[skck].ix[season]\n",
    "starters['K'] = df[(~np.isnan(df.xpa)) | (np.isnan(df.fga))].index.get_level_values('playerID').unique()\n",
    "\n",
    "starters"
   ]
  },
  {
   "cell_type": "markdown",
   "metadata": {},
   "source": [
    "# appending stats"
   ]
  },
  {
   "cell_type": "code",
   "execution_count": null,
   "metadata": {
    "collapsed": true
   },
   "outputs": [],
   "source": [
    "# query stats dataframe by index\n",
    "def qdf(df, seas=True, week=True, bsid=True, team=True, plid=True):\n",
    "    if not type(seas)==bool: seas = (df.index.get_level_values('season').isin(seas))\n",
    "    if not type(week)==bool: week = (df.index.get_level_values('week').isin(week))\n",
    "    if not type(bsid)==bool: bsid = (df.index.get_level_values('bsID').isin(bsid))\n",
    "    if not type(team)==bool: team = (df.index.get_level_values('team').isin(team))\n",
    "    if not type(plid)==bool: plid = (df.index.get_level_values('playerID').isin(plid))\n",
    "    return df[seas & week & week & bsid & team & plid]"
   ]
  },
  {
   "cell_type": "markdown",
   "metadata": {},
   "source": [
    "#### quarterbacks"
   ]
  },
  {
   "cell_type": "code",
   "execution_count": null,
   "metadata": {
    "collapsed": false,
    "scrolled": true
   },
   "outputs": [],
   "source": [
    "# adding features to quarterback df\n",
    "qbdf = qdf(d[strt], seas=[2009, 2010, 2011, 2012, 2013, 2014, 2015]) #, week=[1])\n",
    "qbdf = qbdf[qbdf.position == 'QB']\n",
    "\n",
    "homeAwayOpp = {True:'away', False:'home'}\n",
    "\n",
    "for i, r in qbdf.iterrows():\n",
    "    # print i, x['home']\n",
    "    #print 'seas={}, week={}, bsid={}, team={}, plid={}'.format(i[0], i[1], i[2], i[3], i[4])\n",
    "    seas = i[0]\n",
    "    week = i[1]\n",
    "    bsid = i[2]\n",
    "    team = i[3]\n",
    "    plid = i[4]\n",
    "    \n",
    "    # fantasy points\n",
    "    qbdf.loc[i, 'playerID'] = plid\n",
    "    qbdf.loc[i, 'ff_PassTds'] = qdf(d[soff], seas=[seas], week=[week], plid=[plid])['passTds'].mean()\n",
    "    qbdf.loc[i, 'ff_PassYds'] = qdf(d[soff], seas=[seas], week=[week], plid=[plid])['passYds'].mean()\n",
    "    qbdf.loc[i, 'ff_PassYdsOver300'] = float(qdf(d[soff], seas=[seas], week=[week], plid=[plid])['passYds'].mean() > 300)\n",
    "    qbdf.loc[i, 'ff_Int'] = qdf(d[soff], seas=[seas], week=[week], plid=[plid])['passInt'].mean()\n",
    "    qbdf.loc[i, 'ff_RushYds'] = qdf(d[soff], seas=[seas], week=[week], plid=[plid])['rushYds'].mean()\n",
    "    qbdf.loc[i, 'ff_RushTds'] = qdf(d[soff], seas=[seas], week=[week], plid=[plid])['rushTd'].mean()\n",
    "    qbdf.loc[i, 'ff_RushYdsOver100'] = float(qdf(d[soff], seas=[seas], week=[week], plid=[plid])['rushYds'].mean() > 100)\n",
    "    qbdf.loc[i, 'ff_Fumble'] = qdf(d[soff], seas=[seas], week=[week], plid=[plid])['fumbles'].mean()\n",
    "    qbdf.loc[i, 'ff_RecYds'] = qdf(d[soff], seas=[seas], week=[week], plid=[plid])['recYds'].mean()\n",
    "    qbdf.loc[i, 'ff_Recs'] = qdf(d[soff], seas=[seas], week=[week], plid=[plid])['rec'].mean()\n",
    "    qbdf.loc[i, 'ff_RecTds'] = qdf(d[soff], seas=[seas], week=[week], plid=[plid])['recTds'].mean()\n",
    "    qbdf.loc[i, 'ff_RecYdsOver100'] = float(qdf(d[soff], seas=[seas], week=[week], plid=[plid])['recYds'].mean() > 100)\n",
    "    \n",
    "    # team roster - player stats\n",
    "#     qbdf.loc[i, 'playerAge'] = qdf(d[tmrs], seas=[seas], plid=[plid])['age'].mean()\n",
    "#     qbdf.loc[i, 'playerWeight'] = qdf(d[tmrs], seas=[seas], plid=[plid])['weight'].mean()\n",
    "    qbdf.loc[i, 'pfrApproxValue'] = qdf(d[tmrs], seas=[seas], plid=[plid])['pfrApproxValue'].mean()\n",
    "#     qbdf.loc[i, 'experience'] = qdf(d[tmrs], seas=[seas], plid=[plid])['experience']\n",
    "    \n",
    "    # injury status\n",
    "    try:\n",
    "        qbdf.loc[i, 'injuryStatus'] = qdf(d[inst], seas=[seas], week=[week], plid=[plid])['status'][0]\n",
    "        qbdf.loc[i, 'didNotPlay'] = qdf(d[inst], seas=[seas], week=[week], plid=[plid])['didNotPlay'][0]\n",
    "    except IndexError:\n",
    "        qbdf.loc[i, 'injuryStatus'] = 'None'\n",
    "        qbdf.loc[i, 'didNotPlay'] = False\n",
    "    \n",
    "    # snap counts\n",
    "    qbdf.loc[i, 'snapCountPct'] = qdf(d[snct], seas=[seas], bsid=[bsid], plid=[plid])['offPct'].mean()\n",
    "    \n",
    "    # game info\n",
    "#     qbdf.loc[i, 'roof'] = qdf(d[gmin], seas=[seas], week=[week], bsid=[bsid])['roof'][0]\n",
    "    qbdf.loc[i, 'opponent'] = qdf(d[gmin], seas=[seas], week=[week], bsid=[bsid])[homeAwayOpp[r['home']]][0]\n",
    "    qbdf.loc[i, 'startTime'] = qdf(d[gmin], seas=[seas], week=[week], bsid=[bsid])['startTime'][0]\n",
    "    qbdf.loc[i, 'temp'] = qdf(d[gmin], seas=[seas], week=[week], bsid=[bsid])['temp'][0]\n",
    "    qbdf.loc[i, 'weekday'] = qdf(d[gmin], seas=[seas], week=[week], bsid=[bsid])['weekday'][0]\n",
    "    qbdf.loc[i, 'windChill'] = qdf(d[gmin], seas=[seas], week=[week], bsid=[bsid])['windChill'][0]\n",
    "    qbdf.loc[i, 'windMPH'] = qdf(d[gmin], seas=[seas], week=[week], bsid=[bsid])['windMPH'][0]\n",
    "    if week==1:\n",
    "        qbdf.loc[i, 'restDays'] = np.nan\n",
    "    else:\n",
    "        df = qdf(d[gmin], seas=[seas], week=[week-1,week-2])\n",
    "        gameDate = datetime.strptime(qdf(d[gmin], seas=[seas], week=[week], bsid=[bsid])['date'][0], '%Y-%m-%d')\n",
    "        lastGameDate = datetime.strptime(df[(df['home']==team) | (df['away']==team)]['date'][-1], '%Y-%m-%d')\n",
    "        qbdf.loc[i, 'restDays'] = (gameDate - lastGameDate).days\n",
    "    \n",
    "    # qb passing stats - prev years\n",
    "    first_season = 2007\n",
    "    qbdf.loc[i, 'prev1SeasPassCmpAvg'] = qdf(d[soff], seas=[seas-1], plid=[plid])['passCmp'].mean()\n",
    "    qbdf.loc[i, 'prev2SeasPassCmpAvg'] = qdf(d[soff], seas=[seas-2], plid=[plid])['passCmp'].mean()\n",
    "    qbdf.loc[i, 'prevASeasPassCmpAvg'] = qdf(d[soff], seas=range(first_season, seas), plid=[plid])['passCmp'].mean()\n",
    "    qbdf.loc[i, 'prev1SeasPassAttAvg'] = qdf(d[soff], seas=[seas-1], plid=[plid])['passAtt'].mean()\n",
    "    qbdf.loc[i, 'prev2SeasPassAttAvg'] = qdf(d[soff], seas=[seas-2], plid=[plid])['passAtt'].mean()\n",
    "    qbdf.loc[i, 'prevASeasPassAttAvg'] = qdf(d[soff], seas=range(first_season, seas), plid=[plid])['passAtt'].mean()\n",
    "    qbdf.loc[i, 'prev1SeasPassYdAvg'] = qdf(d[soff], seas=[seas-1], plid=[plid])['passYds'].mean()\n",
    "    qbdf.loc[i, 'prev2SeasPassYdAvg'] = qdf(d[soff], seas=[seas-2], plid=[plid])['passYds'].mean()\n",
    "    qbdf.loc[i, 'prevASeasPassYdAvg'] = qdf(d[soff], seas=range(first_season, seas), plid=[plid])['passYds'].mean()\n",
    "    qbdf.loc[i, 'prev1SeasPassTdAvg'] = qdf(d[soff], seas=[seas-1], plid=[plid])['passTds'].mean()\n",
    "    qbdf.loc[i, 'prev2SeasPassTdAvg'] = qdf(d[soff], seas=[seas-2], plid=[plid])['passTds'].mean()\n",
    "    qbdf.loc[i, 'prevASeasPassTdAvg'] = qdf(d[soff], seas=range(first_season, seas), plid=[plid])['passTds'].mean()\n",
    "    qbdf.loc[i, 'prev1SeasPassIntAvg'] = qdf(d[soff], seas=[seas-1], plid=[plid])['passInt'].mean()\n",
    "    qbdf.loc[i, 'prev2SeasPassIntAvg'] = qdf(d[soff], seas=[seas-2], plid=[plid])['passInt'].mean()\n",
    "    qbdf.loc[i, 'prevASeasPassIntAvg'] = qdf(d[soff], seas=range(first_season, seas), plid=[plid])['passInt'].mean()\n",
    "    qbdf.loc[i, 'prev1SeasPassRtngAvg'] = qdf(d[soff], seas=[seas-1], plid=[plid])['passRating'].mean()\n",
    "    qbdf.loc[i, 'prev2SeasPassRtngAvg'] = qdf(d[soff], seas=[seas-2], plid=[plid])['passRating'].mean()\n",
    "    qbdf.loc[i, 'prevASeasPassRtngAvg'] = qdf(d[soff], seas=range(first_season, seas), plid=[plid])['passRating'].mean()\n",
    "    \n",
    "    # qb passing stats - current year\n",
    "    qbdf.loc[i, 'curSeasPassCmpAvg'] = qdf(d[soff], seas=[seas], week=range(1,week), plid=[plid])['passCmp'].mean()\n",
    "    qbdf.loc[i, 'curSeasPassCmpMin'] = qdf(d[soff], seas=[seas], week=range(1,week), plid=[plid])['passCmp'].min()\n",
    "    qbdf.loc[i, 'curSeasPassCmpMax'] = qdf(d[soff], seas=[seas], week=range(1,week), plid=[plid])['passCmp'].max()\n",
    "    qbdf.loc[i, 'curSeasPassAttAvg'] = qdf(d[soff], seas=[seas], week=range(1,week), plid=[plid])['passAtt'].mean()\n",
    "    qbdf.loc[i, 'curSeasPassAttMin'] = qdf(d[soff], seas=[seas], week=range(1,week), plid=[plid])['passAtt'].min()\n",
    "    qbdf.loc[i, 'curSeasPassAttMax'] = qdf(d[soff], seas=[seas], week=range(1,week), plid=[plid])['passAtt'].max()\n",
    "    qbdf.loc[i, 'curSeasPassYdAvg'] = qdf(d[soff], seas=[seas], week=range(1,week), plid=[plid])['passYds'].mean()\n",
    "    qbdf.loc[i, 'curSeasPassYdMin'] = qdf(d[soff], seas=[seas], week=range(1,week), plid=[plid])['passYds'].min()\n",
    "    qbdf.loc[i, 'curSeasPassYdMax'] = qdf(d[soff], seas=[seas], week=range(1,week), plid=[plid])['passYds'].max()\n",
    "    qbdf.loc[i, 'curSeasPassTdAvg'] = qdf(d[soff], seas=[seas], week=range(1,week), plid=[plid])['passTds'].mean()\n",
    "    qbdf.loc[i, 'curSeasPassTdMin'] = qdf(d[soff], seas=[seas], week=range(1,week), plid=[plid])['passTds'].min()\n",
    "    qbdf.loc[i, 'curSeasPassTdMax'] = qdf(d[soff], seas=[seas], week=range(1,week), plid=[plid])['passTds'].max()\n",
    "    qbdf.loc[i, 'curSeasPassIntAvg'] = qdf(d[soff], seas=[seas], week=range(1,week), plid=[plid])['passInt'].mean()\n",
    "    qbdf.loc[i, 'curSeasPassIntMin'] = qdf(d[soff], seas=[seas], week=range(1,week), plid=[plid])['passInt'].min()\n",
    "    qbdf.loc[i, 'curSeasPassIntMax'] = qdf(d[soff], seas=[seas], week=range(1,week), plid=[plid])['passInt'].max()\n",
    "    qbdf.loc[i, 'curSeasPassSackAvg'] = qdf(d[soff], seas=[seas], week=range(1,week), plid=[plid])['passSacked'].mean()\n",
    "    qbdf.loc[i, 'curSeasPassSackMin'] = qdf(d[soff], seas=[seas], week=range(1,week), plid=[plid])['passSacked'].min()\n",
    "    qbdf.loc[i, 'curSeasPassSackMax'] = qdf(d[soff], seas=[seas], week=range(1,week), plid=[plid])['passSacked'].max()\n",
    "    qbdf.loc[i, 'curSeasPassLongAvg'] = qdf(d[soff], seas=[seas], week=range(1,week), plid=[plid])['passLong'].mean()\n",
    "    qbdf.loc[i, 'curSeasPassLongMin'] = qdf(d[soff], seas=[seas], week=range(1,week), plid=[plid])['passLong'].min()\n",
    "    qbdf.loc[i, 'curSeasPassLongMax'] = qdf(d[soff], seas=[seas], week=range(1,week), plid=[plid])['passLong'].max()\n",
    "    qbdf.loc[i, 'curSeasPassRtngAvg'] = qdf(d[soff], seas=[seas], week=range(1,week), plid=[plid])['passRating'].mean()\n",
    "    qbdf.loc[i, 'curSeasPassRtngMin'] = qdf(d[soff], seas=[seas], week=range(1,week), plid=[plid])['passRating'].min()\n",
    "    qbdf.loc[i, 'curSeasPassRtngMax'] = qdf(d[soff], seas=[seas], week=range(1,week), plid=[plid])['passRating'].max()\n",
    "    \n",
    "    # opp deffense sack, int, and ffum - sum starting def players stats for each week\n",
    "    defStarters = qdf(d[sdef], seas=[seas], week=[week], bsid=[bsid], team=[qbdf.loc[i, 'opponent']]).index.get_level_values('playerID').unique()\n",
    "    if week==1:\n",
    "        qbdf.loc[i, 'curSeasDefSackAvg'] = np.nan\n",
    "        qbdf.loc[i, 'curSeasDefSackMin'] = np.nan\n",
    "        qbdf.loc[i, 'curSeasDefSackMax'] = np.nan\n",
    "        qbdf.loc[i, 'curSeasDefIntAvg'] = np.nan\n",
    "        qbdf.loc[i, 'curSeasDefIntMin'] = np.nan\n",
    "        qbdf.loc[i, 'curSeasDefIntMax'] = np.nan\n",
    "        qbdf.loc[i, 'curSeasDefFFumAvg'] = np.nan\n",
    "        qbdf.loc[i, 'curSeasDefFFumMin'] = np.nan\n",
    "        qbdf.loc[i, 'curSeasDefFFumMax'] = np.nan\n",
    "    else:\n",
    "        qbdf.loc[i, 'curSeasDefSackAvg'] = np.mean([qdf(d[sdef], seas=[2010], week=[wk], plid=defStarters)['sacks'].sum() for wk in range(1,week)])\n",
    "        qbdf.loc[i, 'curSeasDefSackMin'] = min([qdf(d[sdef], seas=[2010], week=[wk], plid=defStarters)['sacks'].sum() for wk in range(1,week)])\n",
    "        qbdf.loc[i, 'curSeasDefSackMax'] = max([qdf(d[sdef], seas=[2010], week=[wk], plid=defStarters)['sacks'].sum() for wk in range(1,week)])\n",
    "        qbdf.loc[i, 'curSeasDefIntAvg'] = np.mean([qdf(d[sdef], seas=[2010], week=[wk], plid=defStarters)['def_int'].sum() for wk in range(1,week)])\n",
    "        qbdf.loc[i, 'curSeasDefIntMin'] = min([qdf(d[sdef], seas=[2010], week=[wk], plid=defStarters)['def_int'].sum() for wk in range(1,week)])\n",
    "        qbdf.loc[i, 'curSeasDefIntMax'] = max([qdf(d[sdef], seas=[2010], week=[wk], plid=defStarters)['def_int'].sum() for wk in range(1,week)])\n",
    "        qbdf.loc[i, 'curSeasDefFFumAvg'] = np.mean([qdf(d[sdef], seas=[2010], week=[wk], plid=defStarters)['fumbles_forced'].sum() for wk in range(1,week)])\n",
    "        qbdf.loc[i, 'curSeasDefFFumMin'] = min([qdf(d[sdef], seas=[2010], week=[wk], plid=defStarters)['fumbles_forced'].sum() for wk in range(1,week)])\n",
    "        qbdf.loc[i, 'curSeasDefFFumMax'] = max([qdf(d[sdef], seas=[2010], week=[wk], plid=defStarters)['fumbles_forced'].sum() for wk in range(1,week)])\n",
    "    \n",
    "    # team stats for each week\n",
    "    qbdf.loc[i, 'curSeasOffSackAvg'] = qdf(d[stm], seas=[seas], week=range(1,week), team=[team])['sacks'].mean()\n",
    "    qbdf.loc[i, 'curSeasOffFirstDownsAvg'] = qdf(d[stm], seas=[seas], week=range(1,week), team=[team])['firstDowns'].mean()\n",
    "    qbdf.loc[i, 'curSeasOffFourthDownAttAvg'] = qdf(d[stm], seas=[seas], week=range(1,week), team=[team])['fourthDownAtt'].mean()\n",
    "    qbdf.loc[i, 'curSeasOffFourthDownConvAvg'] = qdf(d[stm], seas=[seas], week=range(1,week), team=[team])['fourthDownConv'].mean()\n",
    "\n",
    "qbdf.head()"
   ]
  },
  {
   "cell_type": "code",
   "execution_count": null,
   "metadata": {
    "collapsed": true
   },
   "outputs": [],
   "source": [
    "# offense ff points calculator\n",
    "ffPtsDict = {\n",
    "    'ff_PassTds':        ( 4.0),\n",
    "    'ff_PassYds':        ( 0.04),\n",
    "    'ff_PassYdsOver300': ( 3.0),\n",
    "    'ff_Int':            (-1.0),\n",
    "    'ff_RushYds':        ( 0.1),\n",
    "    'ff_RushTds':        ( 6.0),\n",
    "    'ff_RushYdsOver100': ( 3.0),\n",
    "    'ff_Fumble':         (-1.0),\n",
    "    'ff_RecYds':         ( 0.1),\n",
    "    'ff_Recs':           ( 1.0),\n",
    "    'ff_RecTds':         ( 6.0),\n",
    "    'ff_RecYdsOver100':  ( 3.0)\n",
    "}"
   ]
  },
  {
   "cell_type": "code",
   "execution_count": null,
   "metadata": {
    "collapsed": false
   },
   "outputs": [],
   "source": [
    "B = np.array([ffPtsDict[stat] for stat in sorted(ffPtsDict.keys())])\n",
    "X = qbdf[sorted(ffPtsDict.keys())].as_matrix()\n",
    "\n",
    "qbdf['ff_PtsTot'] = np.dot(X, B)"
   ]
  },
  {
   "cell_type": "code",
   "execution_count": null,
   "metadata": {
    "collapsed": false
   },
   "outputs": [],
   "source": [
    "# drop rows with...\n",
    "# missing fantasy points\n",
    "qbdf = qbdf[np.isfinite(qbdf['ff_PtsTot'])]\n",
    "\n",
    "# player did not play\n",
    "qbdf = qbdf[(qbdf['didNotPlay']==False)]"
   ]
  },
  {
   "cell_type": "code",
   "execution_count": null,
   "metadata": {
    "collapsed": false
   },
   "outputs": [],
   "source": [
    "# drop stats used to calc fantasy points\n",
    "# dropCols = [col for col in qbdf.columns if 'ff_' in col and col != 'ff_PtsTot']\n",
    "dropCols = ['playerName', 'position', 'offense', 'startTime', 'didNotPlay']\n",
    "\n",
    "qbdf.drop(dropCols, axis=1, inplace=True)"
   ]
  },
  {
   "cell_type": "code",
   "execution_count": null,
   "metadata": {
    "collapsed": false,
    "scrolled": true
   },
   "outputs": [],
   "source": [
    "qbdf.head()"
   ]
  },
  {
   "cell_type": "code",
   "execution_count": null,
   "metadata": {
    "collapsed": true
   },
   "outputs": [],
   "source": [
    "# output to csv\n",
    "qbdf.to_csv('qb_starters_07_15.csv', index_share=False, index=True)"
   ]
  },
  {
   "cell_type": "markdown",
   "metadata": {},
   "source": [
    "#### wide receivers"
   ]
  },
  {
   "cell_type": "code",
   "execution_count": null,
   "metadata": {
    "collapsed": false
   },
   "outputs": [],
   "source": [
    "d[tmrs].head()"
   ]
  },
  {
   "cell_type": "code",
   "execution_count": null,
   "metadata": {
    "collapsed": true
   },
   "outputs": [],
   "source": [
    "# adding features to quarterback df\n",
    "wrdf = qdf(d[soff], seas=[2009, 2010, 2011, 2012, 2013, 2014, 2015]) #, week=[1])\n",
    "wrdf = wrdf[wrdf.position == 'WR']\n",
    "\n",
    "homeAwayOpp = {True:'away', False:'home'}\n",
    "\n",
    "for i, r in qbdf.iterrows():\n",
    "    # print i, x['home']\n",
    "    #print 'seas={}, week={}, bsid={}, team={}, plid={}'.format(i[0], i[1], i[2], i[3], i[4])\n",
    "    seas = i[0]\n",
    "    week = i[1]\n",
    "    bsid = i[2]\n",
    "    team = i[3]\n",
    "    plid = i[4]"
   ]
  },
  {
   "cell_type": "code",
   "execution_count": null,
   "metadata": {
    "collapsed": true
   },
   "outputs": [],
   "source": []
  },
  {
   "cell_type": "code",
   "execution_count": null,
   "metadata": {
    "collapsed": false
   },
   "outputs": [],
   "source": [
    "idx = pd.IndexSlice\n",
    "groupCols = ['season', 'week', 'team']\n",
    "d[soff].loc[idx[[2015],range(1,2),:,['den'],:],].groupby(level=[0,3,4])['recYds'].sum().rank(ascending=False).loc[idx[:,:,:],]"
   ]
  },
  {
   "cell_type": "markdown",
   "metadata": {},
   "source": [
    "### dataframe to DMatrix"
   ]
  },
  {
   "cell_type": "code",
   "execution_count": null,
   "metadata": {
    "collapsed": false
   },
   "outputs": [],
   "source": [
    "import os\n",
    "mingw_path = 'C:\\\\Program Files\\\\mingw-w64\\\\x86_64-6.1.0-posix-seh-rt_v5-rev0\\\\mingw64\\\\bin'\n",
    "os.environ['PATH'] = mingw_path + ';' + os.environ['PATH']\n",
    "import xgboost as xgb\n",
    "import matplotlib.pyplot as plt\n",
    "import itertools\n",
    "%matplotlib inline"
   ]
  },
  {
   "cell_type": "code",
   "execution_count": null,
   "metadata": {
    "collapsed": false
   },
   "outputs": [],
   "source": [
    "# import qbdf\n",
    "qbdf = pd.read_csv('C:/Users/Phil/Google Drive/nfl/qb_starters_07_15.csv', low_memory=False)\n",
    "qbdf.set_index(dfIn['starters'], inplace=True)\n",
    "qbdf = qbdf.rename(columns = {'playerID.1':'playerID'})"
   ]
  },
  {
   "cell_type": "code",
   "execution_count": null,
   "metadata": {
    "collapsed": false,
    "scrolled": true
   },
   "outputs": [],
   "source": [
    "# qbdf.head()"
   ]
  },
  {
   "cell_type": "code",
   "execution_count": null,
   "metadata": {
    "collapsed": false,
    "scrolled": true
   },
   "outputs": [],
   "source": [
    "# print cont cols\n",
    "for i, x in enumerate(qbdf.dtypes):\n",
    "    if x.name=='float64' and not any(x in qbdf.columns[i] for x in ['Avg','Min','Max','ff_']):\n",
    "        print qbdf.columns[i]#, x.name"
   ]
  },
  {
   "cell_type": "code",
   "execution_count": null,
   "metadata": {
    "collapsed": false
   },
   "outputs": [],
   "source": [
    "# print cat cols\n",
    "for i, x in enumerate(qbdf.dtypes):\n",
    "    if x.name != 'float64':\n",
    "        print qbdf.columns[i]#, x.name"
   ]
  },
  {
   "cell_type": "markdown",
   "metadata": {},
   "source": [
    "#### setup columns"
   ]
  },
  {
   "cell_type": "code",
   "execution_count": null,
   "metadata": {
    "collapsed": true
   },
   "outputs": [],
   "source": [
    "catCols = ['playerID','home','injuryStatus','opponent','weekday']"
   ]
  },
  {
   "cell_type": "code",
   "execution_count": null,
   "metadata": {
    "collapsed": false
   },
   "outputs": [],
   "source": [
    "contCols = [col for col in qbdf.columns if any(x in col for x in ['Avg','Min','Max'])]\n",
    "contCols += ['pfrApproxValue', 'snapCountPct', 'windChill', 'windMPH', 'restDays']"
   ]
  },
  {
   "cell_type": "code",
   "execution_count": null,
   "metadata": {
    "collapsed": false
   },
   "outputs": [],
   "source": [
    "# trnCols = contCols + pd.get_dummies(qbdf[catCols]).columns.tolist()"
   ]
  },
  {
   "cell_type": "code",
   "execution_count": null,
   "metadata": {
    "collapsed": false
   },
   "outputs": [],
   "source": [
    "df_X = pd.merge(qbdf[contCols], pd.get_dummies(qbdf[catCols]), how='left', left_index=True, right_index=True)\n",
    "df_y = qbdf['ff_PtsTot']"
   ]
  },
  {
   "cell_type": "markdown",
   "metadata": {},
   "source": [
    "### run xgb"
   ]
  },
  {
   "cell_type": "code",
   "execution_count": null,
   "metadata": {
    "collapsed": false
   },
   "outputs": [],
   "source": [
    "grid = {\n",
    "    'eta':[0.05], #[x / 100.0 for x in range(5, 25, 5)],\n",
    "    'gamma':[x / 10.0 for x in range(3)],\n",
    "    'max_depth':range(3, 10),\n",
    "    'min_child_weight':range(1, 6),\n",
    "    'subsample':[x / 10.0 for x in range(8,11)],\n",
    "    'colsample_bytree':[x / 10.0 for x in range(8,11)]\n",
    "}\n",
    "grid"
   ]
  },
  {
   "cell_type": "code",
   "execution_count": null,
   "metadata": {
    "collapsed": false
   },
   "outputs": [],
   "source": [
    "# number of grid combincations\n",
    "grid_n = 1\n",
    "for key in grid.keys():\n",
    "    grid_n *= len(grid[key])\n",
    "print grid_n"
   ]
  },
  {
   "cell_type": "code",
   "execution_count": null,
   "metadata": {
    "collapsed": false,
    "scrolled": true
   },
   "outputs": [],
   "source": [
    "start = time.time()\n",
    "\n",
    "# train/test on 2014/2015\n",
    "qb_model_results = pd.DataFrame()\n",
    "\n",
    "# setting hyper parameters\n",
    "model_param = {\n",
    "    'objective':'reg:linear',\n",
    "    'eval_metric':'rmse',\n",
    "    'nthread':5,\n",
    "    'silent':1\n",
    "}\n",
    "\n",
    "num_round = 151\n",
    "model_results = {}\n",
    "\n",
    "print 'Training...'\n",
    "for i, gs in enumerate(itertools.islice(itertools.product(\n",
    "    grid['eta'],\n",
    "    grid['gamma'],\n",
    "    grid['max_depth'],\n",
    "    grid['min_child_weight'],\n",
    "    grid['subsample'],\n",
    "    grid['colsample_bytree'],\n",
    "), grid_n)):\n",
    "    tree_param = {\n",
    "        'eta':gs[0],\n",
    "        'gamma':gs[1],\n",
    "        'max_depth':gs[2],\n",
    "        'min_child_weight':gs[3],\n",
    "        'subsample':gs[4],\n",
    "        'colsample_bytree':gs[5]\n",
    "    }\n",
    "    \n",
    "    param = model_param.copy()\n",
    "    param.update(tree_param)\n",
    "    \n",
    "    for season in range(2013, 2015 + 1):\n",
    "        for week in range(1, 21 + 1):\n",
    "            print '\\rGrid {}/{} - Season {} - Week {}'.format(i+1, grid_n, season, week),\n",
    "            \n",
    "            # setup X/y trn/tst\n",
    "            X_trn = qdf(df_X, seas=range(2009,season))\n",
    "            X_trn = X_trn.append(qdf(df_X, seas=[season], week=range(1,week)))\n",
    "            X_tst = qdf(df_X, seas=[season], week=[week])\n",
    "            \n",
    "            y_trn = qdf(df_y, seas=range(2009,season))\n",
    "            y_trn = y_trn.append(qdf(df_y, seas=[season], week=range(1,week)))\n",
    "            y_tst = qdf(df_y, seas=[season], week=[week])\n",
    "            \n",
    "            # convert to DMatrix\n",
    "            dtrn  = xgb.DMatrix(X_trn, label=y_trn)\n",
    "            dtst  = xgb.DMatrix(X_tst, label=y_tst)\n",
    "            \n",
    "            # train model\n",
    "            evallist  = [(dtrn,'train'), (dtst,'test')]\n",
    "            bst = xgb.train( param, dtrn, num_round, evallist ,verbose_eval=None, evals_result=model_results)\n",
    "            \n",
    "            # export results to df\n",
    "            week_results = pd.DataFrame(tree_param, index=[0])\n",
    "            week_results['season'] = season\n",
    "            week_results['week'] = week\n",
    "            week_results['rmse_rows'] = len(y_tst)\n",
    "            week_results = pd.concat([week_results] * num_round, ignore_index=True)\n",
    "            week_results['round'] = range(len(week_results))\n",
    "            week_results['rmse_test'] = pd.DataFrame(model_results['test'])\n",
    "            week_results['rmse_train'] = pd.DataFrame(model_results['train'])\n",
    "            \n",
    "            # week_results = pd.merge(df_params, df_eval, left_index=True, right_index=True)\n",
    "            qb_model_results = pd.concat([qb_model_results, week_results], ignore_index=True)\n",
    "\n",
    "print '\\nDone! Total run time: {}'.format(time.time() - start)"
   ]
  },
  {
   "cell_type": "code",
   "execution_count": null,
   "metadata": {
    "collapsed": true
   },
   "outputs": [],
   "source": [
    "# output to csv\n",
    "qb_model_results.to_csv('qb_model_results_07_15.csv', index_share=False, index=True)"
   ]
  },
  {
   "cell_type": "markdown",
   "metadata": {},
   "source": [
    "#### evaluate results"
   ]
  },
  {
   "cell_type": "code",
   "execution_count": null,
   "metadata": {
    "collapsed": true
   },
   "outputs": [],
   "source": [
    "param_cols = ['colsample_bytree','eta','gamma','max_depth','min_child_weight','subsample','round']"
   ]
  },
  {
   "cell_type": "code",
   "execution_count": null,
   "metadata": {
    "collapsed": false
   },
   "outputs": [],
   "source": [
    "testdf = qb_model_results.copy()"
   ]
  },
  {
   "cell_type": "code",
   "execution_count": null,
   "metadata": {
    "collapsed": true
   },
   "outputs": [],
   "source": [
    "def weighted_rmse(group):\n",
    "    d = group['rmse_test']\n",
    "    w = group['rmse_rows']\n",
    "    return (d * w).sum() / w.sum()"
   ]
  },
  {
   "cell_type": "code",
   "execution_count": null,
   "metadata": {
    "collapsed": false,
    "scrolled": true
   },
   "outputs": [],
   "source": [
    "qb_model_results.groupby(param_cols).apply(weighted_rmse).sort_values()"
   ]
  },
  {
   "cell_type": "code",
   "execution_count": null,
   "metadata": {
    "collapsed": false,
    "scrolled": true
   },
   "outputs": [],
   "source": [
    "qb_model_results.groupby(param_cols).apply(weighted_rmse).sort_values().min()"
   ]
  },
  {
   "cell_type": "code",
   "execution_count": null,
   "metadata": {
    "collapsed": false
   },
   "outputs": [],
   "source": [
    "best_params = qb_model_results.groupby(param_cols).apply(weighted_rmse).sort_values().argmin()\n",
    "best_params_dict = {}\n",
    "\n",
    "for i, p in enumerate(param_cols):\n",
    "    best_params_dict[p] = best_params[i]\n",
    "    \n",
    "best_params_dict"
   ]
  },
  {
   "cell_type": "code",
   "execution_count": null,
   "metadata": {
    "collapsed": true
   },
   "outputs": [],
   "source": [
    "# manually check params\n",
    "best_params_dict = {\n",
    "    'eta': .05,\n",
    "    'gamma': 0.0,\n",
    "    'max_depth': 3,\n",
    "    'min_child_weight': 1,\n",
    "    'subsample': 0.9,\n",
    "    'colsample_bytree': 0.9,\n",
    "    'round': 129\n",
    "}"
   ]
  },
  {
   "cell_type": "markdown",
   "metadata": {},
   "source": [
    "#### train on all data"
   ]
  },
  {
   "cell_type": "code",
   "execution_count": null,
   "metadata": {
    "collapsed": true
   },
   "outputs": [],
   "source": [
    "dtrn  = xgb.DMatrix(df_X, label=df_y)"
   ]
  },
  {
   "cell_type": "code",
   "execution_count": null,
   "metadata": {
    "collapsed": true
   },
   "outputs": [],
   "source": [
    "model_param = {\n",
    "    'objective':'reg:linear',\n",
    "    'eval_metric':'rmse',\n",
    "    'nthread':5,\n",
    "    'silent':1\n",
    "}\n",
    "\n",
    "param = best_params_dict.copy()\n",
    "param.update(model_param)"
   ]
  },
  {
   "cell_type": "code",
   "execution_count": null,
   "metadata": {
    "collapsed": false
   },
   "outputs": [],
   "source": [
    "evallist  = [(dtrn, 'train')]\n",
    "bst = xgb.train(param, dtrn, best_params_dict['round'], evallist ,verbose_eval=10)"
   ]
  },
  {
   "cell_type": "code",
   "execution_count": null,
   "metadata": {
    "collapsed": false,
    "scrolled": false
   },
   "outputs": [],
   "source": [
    "xgb.plot_importance(bst).get_figure().set_figheight(20)"
   ]
  }
 ],
 "metadata": {
  "anaconda-cloud": {},
  "kernelspec": {
   "display_name": "Python [Root]",
   "language": "python",
   "name": "Python [Root]"
  },
  "language_info": {
   "codemirror_mode": {
    "name": "ipython",
    "version": 2
   },
   "file_extension": ".py",
   "mimetype": "text/x-python",
   "name": "python",
   "nbconvert_exporter": "python",
   "pygments_lexer": "ipython2",
   "version": "2.7.12"
  }
 },
 "nbformat": 4,
 "nbformat_minor": 0
}
