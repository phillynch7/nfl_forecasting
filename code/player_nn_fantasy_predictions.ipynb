{
 "cells": [
  {
   "cell_type": "markdown",
   "metadata": {},
   "source": [
    "# IMPORTS"
   ]
  },
  {
   "cell_type": "code",
   "execution_count": 1,
   "metadata": {
    "collapsed": true
   },
   "outputs": [],
   "source": [
    "from theano.sandbox import cuda"
   ]
  },
  {
   "cell_type": "code",
   "execution_count": 2,
   "metadata": {},
   "outputs": [
    {
     "name": "stderr",
     "output_type": "stream",
     "text": [
      "Using TensorFlow backend.\n"
     ]
    }
   ],
   "source": [
    "# import file of useful functions\n",
    "import os\n",
    "import sys\n",
    "from imp import reload\n",
    "scriptpath = 'C:/Users/lyncp010/projects/python/scripts/'\n",
    "sys.path.insert(0, os.path.abspath(scriptpath))\n",
    "\n",
    "import deep_learning_utils; reload(deep_learning_utils)\n",
    "from deep_learning_utils import *\n",
    "from __future__ import division, print_function\n",
    "\n",
    "%matplotlib inline"
   ]
  },
  {
   "cell_type": "code",
   "execution_count": 3,
   "metadata": {
    "collapsed": true
   },
   "outputs": [],
   "source": [
    "path = 'C:/Users/lyncp010/projects/nfl/data'"
   ]
  },
  {
   "cell_type": "markdown",
   "metadata": {},
   "source": [
    "# DATA"
   ]
  },
  {
   "cell_type": "code",
   "execution_count": 4,
   "metadata": {
    "collapsed": true
   },
   "outputs": [],
   "source": [
    "offense_player_ff_points = pd.read_csv(path + '/all/offense_player_ff_points_s02w01_s16w21.csv', low_memory=False)"
   ]
  },
  {
   "cell_type": "code",
   "execution_count": 5,
   "metadata": {
    "collapsed": true
   },
   "outputs": [],
   "source": [
    "# use only players from current season\n",
    "df = offense_player_ff_points[(offense_player_ff_points.season == 2016)].copy()"
   ]
  },
  {
   "cell_type": "code",
   "execution_count": 6,
   "metadata": {
    "collapsed": true
   },
   "outputs": [],
   "source": [
    "def create_category_idx(df, cols):\n",
    "    map2idx = {}\n",
    "    for c in cols:\n",
    "        c_list = np.sort(df[c].unique())\n",
    "        map2idx[c] = {o:i for i,o in enumerate(c_list)}\n",
    "        df[c+'_idx'] = df[c].map(map2idx[c])\n",
    "    return df, map2idx"
   ]
  },
  {
   "cell_type": "code",
   "execution_count": 7,
   "metadata": {
    "collapsed": true
   },
   "outputs": [],
   "source": [
    "df, map2idx = create_category_idx(df, ['player_id', 'team', 'opponent', 'position'])"
   ]
  },
  {
   "cell_type": "code",
   "execution_count": 22,
   "metadata": {
    "scrolled": true
   },
   "outputs": [
    {
     "data": {
      "text/html": [
       "<div>\n",
       "<table border=\"1\" class=\"dataframe\">\n",
       "  <thead>\n",
       "    <tr style=\"text-align: right;\">\n",
       "      <th></th>\n",
       "      <th>season</th>\n",
       "      <th>week</th>\n",
       "      <th>bsID</th>\n",
       "      <th>team</th>\n",
       "      <th>player_id</th>\n",
       "      <th>position</th>\n",
       "      <th>ff_points_total</th>\n",
       "      <th>home</th>\n",
       "      <th>opponent</th>\n",
       "      <th>passAtt</th>\n",
       "      <th>...</th>\n",
       "      <th>rushLong</th>\n",
       "      <th>fumbles</th>\n",
       "      <th>fumblesLost</th>\n",
       "      <th>passYdsOver300</th>\n",
       "      <th>rushYdsOver100</th>\n",
       "      <th>recYdsOver100</th>\n",
       "      <th>player_id_idx</th>\n",
       "      <th>team_idx</th>\n",
       "      <th>opponent_idx</th>\n",
       "      <th>position_idx</th>\n",
       "    </tr>\n",
       "  </thead>\n",
       "  <tbody>\n",
       "    <tr>\n",
       "      <th>71153</th>\n",
       "      <td>2016</td>\n",
       "      <td>1</td>\n",
       "      <td>201609080den</td>\n",
       "      <td>car</td>\n",
       "      <td>BenjKe00</td>\n",
       "      <td>WR</td>\n",
       "      <td>15.10</td>\n",
       "      <td>0</td>\n",
       "      <td>den</td>\n",
       "      <td>0.0</td>\n",
       "      <td>...</td>\n",
       "      <td>0.0</td>\n",
       "      <td>0.0</td>\n",
       "      <td>0.0</td>\n",
       "      <td>0</td>\n",
       "      <td>0</td>\n",
       "      <td>0</td>\n",
       "      <td>36</td>\n",
       "      <td>2</td>\n",
       "      <td>9</td>\n",
       "      <td>3</td>\n",
       "    </tr>\n",
       "    <tr>\n",
       "      <th>71154</th>\n",
       "      <td>2016</td>\n",
       "      <td>1</td>\n",
       "      <td>201609080den</td>\n",
       "      <td>car</td>\n",
       "      <td>BrowPh00</td>\n",
       "      <td>WR</td>\n",
       "      <td>1.10</td>\n",
       "      <td>0</td>\n",
       "      <td>den</td>\n",
       "      <td>0.0</td>\n",
       "      <td>...</td>\n",
       "      <td>0.0</td>\n",
       "      <td>0.0</td>\n",
       "      <td>0.0</td>\n",
       "      <td>0</td>\n",
       "      <td>0</td>\n",
       "      <td>0</td>\n",
       "      <td>68</td>\n",
       "      <td>2</td>\n",
       "      <td>9</td>\n",
       "      <td>3</td>\n",
       "    </tr>\n",
       "    <tr>\n",
       "      <th>71155</th>\n",
       "      <td>2016</td>\n",
       "      <td>1</td>\n",
       "      <td>201609080den</td>\n",
       "      <td>car</td>\n",
       "      <td>FuncDe00</td>\n",
       "      <td>WR</td>\n",
       "      <td>0.90</td>\n",
       "      <td>0</td>\n",
       "      <td>den</td>\n",
       "      <td>0.0</td>\n",
       "      <td>...</td>\n",
       "      <td>0.0</td>\n",
       "      <td>0.0</td>\n",
       "      <td>0.0</td>\n",
       "      <td>0</td>\n",
       "      <td>0</td>\n",
       "      <td>0</td>\n",
       "      <td>175</td>\n",
       "      <td>2</td>\n",
       "      <td>9</td>\n",
       "      <td>3</td>\n",
       "    </tr>\n",
       "    <tr>\n",
       "      <th>71156</th>\n",
       "      <td>2016</td>\n",
       "      <td>1</td>\n",
       "      <td>201609080den</td>\n",
       "      <td>car</td>\n",
       "      <td>GinnTe00</td>\n",
       "      <td>WR</td>\n",
       "      <td>2.50</td>\n",
       "      <td>0</td>\n",
       "      <td>den</td>\n",
       "      <td>0.0</td>\n",
       "      <td>...</td>\n",
       "      <td>20.0</td>\n",
       "      <td>0.0</td>\n",
       "      <td>0.0</td>\n",
       "      <td>0</td>\n",
       "      <td>0</td>\n",
       "      <td>0</td>\n",
       "      <td>183</td>\n",
       "      <td>2</td>\n",
       "      <td>9</td>\n",
       "      <td>3</td>\n",
       "    </tr>\n",
       "    <tr>\n",
       "      <th>71157</th>\n",
       "      <td>2016</td>\n",
       "      <td>1</td>\n",
       "      <td>201609080den</td>\n",
       "      <td>car</td>\n",
       "      <td>NewtCa00</td>\n",
       "      <td>QB</td>\n",
       "      <td>22.16</td>\n",
       "      <td>0</td>\n",
       "      <td>den</td>\n",
       "      <td>33.0</td>\n",
       "      <td>...</td>\n",
       "      <td>12.0</td>\n",
       "      <td>0.0</td>\n",
       "      <td>0.0</td>\n",
       "      <td>0</td>\n",
       "      <td>0</td>\n",
       "      <td>0</td>\n",
       "      <td>361</td>\n",
       "      <td>2</td>\n",
       "      <td>9</td>\n",
       "      <td>0</td>\n",
       "    </tr>\n",
       "    <tr>\n",
       "      <th>71158</th>\n",
       "      <td>2016</td>\n",
       "      <td>1</td>\n",
       "      <td>201609080den</td>\n",
       "      <td>car</td>\n",
       "      <td>OlseGr00</td>\n",
       "      <td>TE</td>\n",
       "      <td>7.30</td>\n",
       "      <td>0</td>\n",
       "      <td>den</td>\n",
       "      <td>0.0</td>\n",
       "      <td>...</td>\n",
       "      <td>0.0</td>\n",
       "      <td>0.0</td>\n",
       "      <td>0.0</td>\n",
       "      <td>0</td>\n",
       "      <td>0</td>\n",
       "      <td>0</td>\n",
       "      <td>368</td>\n",
       "      <td>2</td>\n",
       "      <td>9</td>\n",
       "      <td>2</td>\n",
       "    </tr>\n",
       "    <tr>\n",
       "      <th>71159</th>\n",
       "      <td>2016</td>\n",
       "      <td>1</td>\n",
       "      <td>201609080den</td>\n",
       "      <td>car</td>\n",
       "      <td>StewJo00</td>\n",
       "      <td>RB</td>\n",
       "      <td>6.40</td>\n",
       "      <td>0</td>\n",
       "      <td>den</td>\n",
       "      <td>0.0</td>\n",
       "      <td>...</td>\n",
       "      <td>11.0</td>\n",
       "      <td>0.0</td>\n",
       "      <td>0.0</td>\n",
       "      <td>0</td>\n",
       "      <td>0</td>\n",
       "      <td>0</td>\n",
       "      <td>461</td>\n",
       "      <td>2</td>\n",
       "      <td>9</td>\n",
       "      <td>1</td>\n",
       "    </tr>\n",
       "    <tr>\n",
       "      <th>71160</th>\n",
       "      <td>2016</td>\n",
       "      <td>1</td>\n",
       "      <td>201609080den</td>\n",
       "      <td>car</td>\n",
       "      <td>TolbMi00</td>\n",
       "      <td>RB</td>\n",
       "      <td>0.70</td>\n",
       "      <td>0</td>\n",
       "      <td>den</td>\n",
       "      <td>0.0</td>\n",
       "      <td>...</td>\n",
       "      <td>5.0</td>\n",
       "      <td>0.0</td>\n",
       "      <td>0.0</td>\n",
       "      <td>0</td>\n",
       "      <td>0</td>\n",
       "      <td>0</td>\n",
       "      <td>491</td>\n",
       "      <td>2</td>\n",
       "      <td>9</td>\n",
       "      <td>1</td>\n",
       "    </tr>\n",
       "    <tr>\n",
       "      <th>71161</th>\n",
       "      <td>2016</td>\n",
       "      <td>1</td>\n",
       "      <td>201609080den</td>\n",
       "      <td>car</td>\n",
       "      <td>WhitFo00</td>\n",
       "      <td>RB</td>\n",
       "      <td>1.70</td>\n",
       "      <td>0</td>\n",
       "      <td>den</td>\n",
       "      <td>0.0</td>\n",
       "      <td>...</td>\n",
       "      <td>6.0</td>\n",
       "      <td>0.0</td>\n",
       "      <td>0.0</td>\n",
       "      <td>0</td>\n",
       "      <td>0</td>\n",
       "      <td>0</td>\n",
       "      <td>526</td>\n",
       "      <td>2</td>\n",
       "      <td>9</td>\n",
       "      <td>1</td>\n",
       "    </tr>\n",
       "    <tr>\n",
       "      <th>71162</th>\n",
       "      <td>2016</td>\n",
       "      <td>1</td>\n",
       "      <td>201609080den</td>\n",
       "      <td>den</td>\n",
       "      <td>AndeC.00</td>\n",
       "      <td>RB</td>\n",
       "      <td>25.90</td>\n",
       "      <td>1</td>\n",
       "      <td>car</td>\n",
       "      <td>0.0</td>\n",
       "      <td>...</td>\n",
       "      <td>28.0</td>\n",
       "      <td>0.0</td>\n",
       "      <td>0.0</td>\n",
       "      <td>0</td>\n",
       "      <td>0</td>\n",
       "      <td>0</td>\n",
       "      <td>14</td>\n",
       "      <td>9</td>\n",
       "      <td>2</td>\n",
       "      <td>1</td>\n",
       "    </tr>\n",
       "  </tbody>\n",
       "</table>\n",
       "<p>10 rows × 36 columns</p>\n",
       "</div>"
      ],
      "text/plain": [
       "       season  week          bsID team player_id position  ff_points_total  \\\n",
       "71153    2016     1  201609080den  car  BenjKe00       WR            15.10   \n",
       "71154    2016     1  201609080den  car  BrowPh00       WR             1.10   \n",
       "71155    2016     1  201609080den  car  FuncDe00       WR             0.90   \n",
       "71156    2016     1  201609080den  car  GinnTe00       WR             2.50   \n",
       "71157    2016     1  201609080den  car  NewtCa00       QB            22.16   \n",
       "71158    2016     1  201609080den  car  OlseGr00       TE             7.30   \n",
       "71159    2016     1  201609080den  car  StewJo00       RB             6.40   \n",
       "71160    2016     1  201609080den  car  TolbMi00       RB             0.70   \n",
       "71161    2016     1  201609080den  car  WhitFo00       RB             1.70   \n",
       "71162    2016     1  201609080den  den  AndeC.00       RB            25.90   \n",
       "\n",
       "       home opponent  passAtt      ...       rushLong  fumbles  fumblesLost  \\\n",
       "71153     0      den      0.0      ...            0.0      0.0          0.0   \n",
       "71154     0      den      0.0      ...            0.0      0.0          0.0   \n",
       "71155     0      den      0.0      ...            0.0      0.0          0.0   \n",
       "71156     0      den      0.0      ...           20.0      0.0          0.0   \n",
       "71157     0      den     33.0      ...           12.0      0.0          0.0   \n",
       "71158     0      den      0.0      ...            0.0      0.0          0.0   \n",
       "71159     0      den      0.0      ...           11.0      0.0          0.0   \n",
       "71160     0      den      0.0      ...            5.0      0.0          0.0   \n",
       "71161     0      den      0.0      ...            6.0      0.0          0.0   \n",
       "71162     1      car      0.0      ...           28.0      0.0          0.0   \n",
       "\n",
       "       passYdsOver300  rushYdsOver100  recYdsOver100  player_id_idx  team_idx  \\\n",
       "71153               0               0              0             36         2   \n",
       "71154               0               0              0             68         2   \n",
       "71155               0               0              0            175         2   \n",
       "71156               0               0              0            183         2   \n",
       "71157               0               0              0            361         2   \n",
       "71158               0               0              0            368         2   \n",
       "71159               0               0              0            461         2   \n",
       "71160               0               0              0            491         2   \n",
       "71161               0               0              0            526         2   \n",
       "71162               0               0              0             14         9   \n",
       "\n",
       "       opponent_idx  position_idx  \n",
       "71153             9             3  \n",
       "71154             9             3  \n",
       "71155             9             3  \n",
       "71156             9             3  \n",
       "71157             9             0  \n",
       "71158             9             2  \n",
       "71159             9             1  \n",
       "71160             9             1  \n",
       "71161             9             1  \n",
       "71162             2             1  \n",
       "\n",
       "[10 rows x 36 columns]"
      ]
     },
     "execution_count": 22,
     "metadata": {},
     "output_type": "execute_result"
    }
   ],
   "source": [
    "df.head(10)"
   ]
  },
  {
   "cell_type": "markdown",
   "metadata": {},
   "source": [
    "# MODEL"
   ]
  },
  {
   "cell_type": "code",
   "execution_count": 10,
   "metadata": {},
   "outputs": [
    {
     "data": {
      "text/plain": [
       "(0, 556, 0, 31)"
      ]
     },
     "execution_count": 10,
     "metadata": {},
     "output_type": "execute_result"
    }
   ],
   "source": [
    "player_min, player_max, opponent_min, opponent_max = (\n",
    "    df.player_id_idx.min(), \n",
    "    df.player_id_idx.max(),\n",
    "    df.opponent_idx.min(),\n",
    "    df.opponent_idx.max())\n",
    "player_min, player_max, opponent_min, opponent_max"
   ]
  },
  {
   "cell_type": "code",
   "execution_count": 11,
   "metadata": {},
   "outputs": [
    {
     "data": {
      "text/plain": [
       "(557, 32, 32)"
      ]
     },
     "execution_count": 11,
     "metadata": {},
     "output_type": "execute_result"
    }
   ],
   "source": [
    "n_players = df.player_id_idx.nunique()\n",
    "n_teams = df.team_idx.nunique()\n",
    "n_opponents = df.opponent_idx.nunique()\n",
    "n_players, n_teams, n_opponents"
   ]
  },
  {
   "cell_type": "markdown",
   "metadata": {},
   "source": [
    "number of latent factors"
   ]
  },
  {
   "cell_type": "code",
   "execution_count": 12,
   "metadata": {
    "collapsed": true
   },
   "outputs": [],
   "source": [
    "from keras.layers.merge import concatenate"
   ]
  },
  {
   "cell_type": "code",
   "execution_count": 13,
   "metadata": {
    "collapsed": true
   },
   "outputs": [],
   "source": [
    "foo = df.copy()"
   ]
  },
  {
   "cell_type": "code",
   "execution_count": 14,
   "metadata": {
    "collapsed": true
   },
   "outputs": [],
   "source": [
    "msk = foo.week <= 17"
   ]
  },
  {
   "cell_type": "code",
   "execution_count": 15,
   "metadata": {
    "collapsed": true
   },
   "outputs": [],
   "source": [
    "trn = foo[msk]\n",
    "val = foo[~msk]"
   ]
  },
  {
   "cell_type": "code",
   "execution_count": 16,
   "metadata": {
    "collapsed": true
   },
   "outputs": [],
   "source": [
    "def embedding_input(name, n_in, n_out, reg):\n",
    "    inp = Input(shape=(1,), dtype='int64', name=name)\n",
    "    return inp, Embedding(n_in, n_out, input_length=1, embeddings_regularizer=l2(reg))(inp)"
   ]
  },
  {
   "cell_type": "code",
   "execution_count": 17,
   "metadata": {
    "collapsed": true
   },
   "outputs": [],
   "source": [
    "n_factors = 20"
   ]
  },
  {
   "cell_type": "code",
   "execution_count": 18,
   "metadata": {
    "collapsed": true
   },
   "outputs": [],
   "source": [
    "player_in, p   = embedding_input('player_in', n_players, 7, 1e-4)\n",
    "team_in, t     = embedding_input('team_in', n_teams, n_factors, 1e-4)\n",
    "opponent_in, o = embedding_input('opponent_in', n_opponents, n_factors, 1e-4)\n",
    "\n",
    "home_input = Input(shape=(1,), name='home_input')\n",
    "position_input = Input(shape=(1,), name='position_input')"
   ]
  },
  {
   "cell_type": "code",
   "execution_count": 19,
   "metadata": {
    "collapsed": true
   },
   "outputs": [],
   "source": [
    "x = concatenate([p, t, o])\n",
    "x = Flatten()(x)\n",
    "x = concatenate([x, home_input, position_input])\n",
    "x = Dropout(0.2)(x)\n",
    "x = Dense(200, activation='relu')(x)\n",
    "x = Dropout(0.3)(x)\n",
    "x = Dense(1)(x)\n",
    "nn = Model([player_in, team_in, opponent_in, home_input, position_input], x)\n",
    "nn.compile(Adam(0.001), loss='mse')"
   ]
  },
  {
   "cell_type": "code",
   "execution_count": 20,
   "metadata": {
    "scrolled": false
   },
   "outputs": [
    {
     "name": "stdout",
     "output_type": "stream",
     "text": [
      "____________________________________________________________________________________________________\n",
      "Layer (type)                     Output Shape          Param #     Connected to                     \n",
      "====================================================================================================\n",
      "player_in (InputLayer)           (None, 1)             0                                            \n",
      "____________________________________________________________________________________________________\n",
      "team_in (InputLayer)             (None, 1)             0                                            \n",
      "____________________________________________________________________________________________________\n",
      "opponent_in (InputLayer)         (None, 1)             0                                            \n",
      "____________________________________________________________________________________________________\n",
      "embedding_1 (Embedding)          (None, 1, 7)          3899                                         \n",
      "____________________________________________________________________________________________________\n",
      "embedding_2 (Embedding)          (None, 1, 20)         640                                          \n",
      "____________________________________________________________________________________________________\n",
      "embedding_3 (Embedding)          (None, 1, 20)         640                                          \n",
      "____________________________________________________________________________________________________\n",
      "concatenate_1 (Concatenate)      (None, 1, 47)         0                                            \n",
      "____________________________________________________________________________________________________\n",
      "flatten_1 (Flatten)              (None, 47)            0                                            \n",
      "____________________________________________________________________________________________________\n",
      "home_input (InputLayer)          (None, 1)             0                                            \n",
      "____________________________________________________________________________________________________\n",
      "position_input (InputLayer)      (None, 1)             0                                            \n",
      "____________________________________________________________________________________________________\n",
      "concatenate_2 (Concatenate)      (None, 49)            0                                            \n",
      "____________________________________________________________________________________________________\n",
      "dropout_1 (Dropout)              (None, 49)            0                                            \n",
      "____________________________________________________________________________________________________\n",
      "dense_1 (Dense)                  (None, 200)           10000                                        \n",
      "____________________________________________________________________________________________________\n",
      "dropout_2 (Dropout)              (None, 200)           0                                            \n",
      "____________________________________________________________________________________________________\n",
      "dense_2 (Dense)                  (None, 1)             201                                          \n",
      "====================================================================================================\n",
      "Total params: 15,380\n",
      "Trainable params: 15,380\n",
      "Non-trainable params: 0\n",
      "____________________________________________________________________________________________________\n"
     ]
    }
   ],
   "source": [
    "nn.summary()"
   ]
  },
  {
   "cell_type": "markdown",
   "metadata": {},
   "source": [
    "# TRAIN"
   ]
  },
  {
   "cell_type": "code",
   "execution_count": 21,
   "metadata": {
    "scrolled": true
   },
   "outputs": [
    {
     "name": "stdout",
     "output_type": "stream",
     "text": [
      "Train on 5106 samples, validate on 214 samples\n",
      "Epoch 1/100\n",
      "5106/5106 [==============================] - 0s - loss: 70.4351 - val_loss: 66.1663\n",
      "Epoch 2/100\n",
      "5106/5106 [==============================] - 0s - loss: 44.9780 - val_loss: 50.3216\n",
      "Epoch 3/100\n",
      "5106/5106 [==============================] - 0s - loss: 33.7757 - val_loss: 39.8650\n",
      "Epoch 4/100\n",
      "5106/5106 [==============================] - 0s - loss: 27.8525 - val_loss: 35.7299\n",
      "Epoch 5/100\n",
      "5106/5106 [==============================] - 0s - loss: 25.6809 - val_loss: 34.8167\n",
      "Epoch 6/100\n",
      "5106/5106 [==============================] - 0s - loss: 25.1710 - val_loss: 34.1176\n",
      "Epoch 7/100\n",
      "5106/5106 [==============================] - 0s - loss: 25.1292 - val_loss: 33.2588\n",
      "Epoch 8/100\n",
      "5106/5106 [==============================] - 0s - loss: 24.8295 - val_loss: 33.1379\n",
      "Epoch 9/100\n",
      "5106/5106 [==============================] - 0s - loss: 24.3457 - val_loss: 33.1274\n",
      "Epoch 10/100\n",
      "5106/5106 [==============================] - 0s - loss: 24.3675 - val_loss: 33.2858\n",
      "Epoch 11/100\n",
      "5106/5106 [==============================] - 0s - loss: 25.0043 - val_loss: 32.8914\n",
      "Epoch 12/100\n",
      "5106/5106 [==============================] - 0s - loss: 24.4095 - val_loss: 32.8909\n",
      "Epoch 13/100\n",
      "5106/5106 [==============================] - 0s - loss: 24.6651 - val_loss: 33.3421\n",
      "Epoch 14/100\n",
      "5106/5106 [==============================] - 0s - loss: 24.3341 - val_loss: 33.4517\n",
      "Epoch 15/100\n",
      "5106/5106 [==============================] - 0s - loss: 24.6972 - val_loss: 33.2306\n",
      "Epoch 16/100\n",
      "5106/5106 [==============================] - 0s - loss: 24.2909 - val_loss: 33.1199\n",
      "Epoch 17/100\n",
      "5106/5106 [==============================] - 0s - loss: 24.4227 - val_loss: 33.1164\n",
      "Epoch 18/100\n",
      "5106/5106 [==============================] - 0s - loss: 24.2856 - val_loss: 33.1723\n",
      "Epoch 19/100\n",
      "5106/5106 [==============================] - 0s - loss: 24.2502 - val_loss: 33.0713\n",
      "Epoch 20/100\n",
      "5106/5106 [==============================] - 0s - loss: 24.3601 - val_loss: 33.0017\n",
      "Epoch 21/100\n",
      "5106/5106 [==============================] - 0s - loss: 24.1331 - val_loss: 33.0739\n",
      "Epoch 22/100\n",
      "5106/5106 [==============================] - 0s - loss: 24.1083 - val_loss: 33.1623\n",
      "Epoch 23/100\n",
      "5106/5106 [==============================] - 0s - loss: 24.2075 - val_loss: 33.0212\n",
      "Epoch 24/100\n",
      "5106/5106 [==============================] - 0s - loss: 24.1402 - val_loss: 33.2114\n",
      "Epoch 25/100\n",
      "5106/5106 [==============================] - 0s - loss: 24.0334 - val_loss: 32.9246\n",
      "Epoch 26/100\n",
      "5106/5106 [==============================] - 0s - loss: 24.2218 - val_loss: 33.3279\n",
      "Epoch 27/100\n",
      "5106/5106 [==============================] - 0s - loss: 24.2642 - val_loss: 32.9148\n",
      "Epoch 28/100\n",
      "5106/5106 [==============================] - 0s - loss: 24.1341 - val_loss: 32.8261\n",
      "Epoch 29/100\n",
      "5106/5106 [==============================] - 0s - loss: 24.1045 - val_loss: 32.8129\n",
      "Epoch 30/100\n",
      "5106/5106 [==============================] - 0s - loss: 24.1024 - val_loss: 32.8212\n",
      "Epoch 31/100\n",
      "5106/5106 [==============================] - 0s - loss: 24.0788 - val_loss: 32.7178\n",
      "Epoch 32/100\n",
      "5106/5106 [==============================] - 0s - loss: 23.9757 - val_loss: 32.7846\n",
      "Epoch 33/100\n",
      "5106/5106 [==============================] - 0s - loss: 24.1018 - val_loss: 32.9283\n",
      "Epoch 34/100\n",
      "5106/5106 [==============================] - 0s - loss: 23.8511 - val_loss: 32.6896\n",
      "Epoch 35/100\n",
      "5106/5106 [==============================] - 0s - loss: 24.2554 - val_loss: 32.7539\n",
      "Epoch 36/100\n",
      "5106/5106 [==============================] - 0s - loss: 23.9416 - val_loss: 32.6374\n",
      "Epoch 37/100\n",
      "5106/5106 [==============================] - 0s - loss: 23.9667 - val_loss: 32.3698\n",
      "Epoch 38/100\n",
      "5106/5106 [==============================] - 0s - loss: 23.7603 - val_loss: 32.6876\n",
      "Epoch 39/100\n",
      "5106/5106 [==============================] - 0s - loss: 23.8923 - val_loss: 32.7391\n",
      "Epoch 40/100\n",
      "5106/5106 [==============================] - 0s - loss: 24.0737 - val_loss: 32.4929\n",
      "Epoch 41/100\n",
      "5106/5106 [==============================] - 0s - loss: 23.9240 - val_loss: 32.5150\n",
      "Epoch 42/100\n",
      "5106/5106 [==============================] - 0s - loss: 23.6753 - val_loss: 32.7281\n",
      "Epoch 43/100\n",
      "5106/5106 [==============================] - 0s - loss: 24.0351 - val_loss: 32.5994\n",
      "Epoch 44/100\n",
      "5106/5106 [==============================] - 0s - loss: 23.5188 - val_loss: 32.9859\n",
      "Epoch 45/100\n",
      "5106/5106 [==============================] - 0s - loss: 23.8696 - val_loss: 32.7571\n",
      "Epoch 46/100\n",
      "5106/5106 [==============================] - 0s - loss: 23.9862 - val_loss: 32.5961\n",
      "Epoch 47/100\n",
      "5106/5106 [==============================] - 0s - loss: 23.7822 - val_loss: 32.8887\n",
      "Epoch 48/100\n",
      "5106/5106 [==============================] - 0s - loss: 23.8263 - val_loss: 32.6926\n",
      "Epoch 49/100\n",
      "5106/5106 [==============================] - 0s - loss: 23.8059 - val_loss: 32.5606\n",
      "Epoch 50/100\n",
      "5106/5106 [==============================] - 0s - loss: 23.4662 - val_loss: 32.4424\n",
      "Epoch 51/100\n",
      "5106/5106 [==============================] - 0s - loss: 23.9626 - val_loss: 32.4641\n",
      "Epoch 52/100\n",
      "5106/5106 [==============================] - 0s - loss: 23.6142 - val_loss: 32.6777\n",
      "Epoch 53/100\n",
      "5106/5106 [==============================] - 0s - loss: 23.7705 - val_loss: 32.7016\n",
      "Epoch 54/100\n",
      "5106/5106 [==============================] - 0s - loss: 23.6195 - val_loss: 32.6169\n",
      "Epoch 55/100\n",
      "5106/5106 [==============================] - 0s - loss: 23.3698 - val_loss: 32.2830\n",
      "Epoch 56/100\n",
      "5106/5106 [==============================] - 0s - loss: 23.5508 - val_loss: 32.4188\n",
      "Epoch 57/100\n",
      "5106/5106 [==============================] - 0s - loss: 23.7790 - val_loss: 32.4633\n",
      "Epoch 58/100\n",
      "5106/5106 [==============================] - 0s - loss: 23.4781 - val_loss: 32.7166\n",
      "Epoch 59/100\n",
      "5106/5106 [==============================] - 0s - loss: 23.5219 - val_loss: 32.3514\n",
      "Epoch 60/100\n",
      "5106/5106 [==============================] - 0s - loss: 23.2797 - val_loss: 32.5828\n",
      "Epoch 61/100\n",
      "5106/5106 [==============================] - 0s - loss: 23.4662 - val_loss: 32.5413\n",
      "Epoch 62/100\n",
      "5106/5106 [==============================] - 0s - loss: 23.4891 - val_loss: 32.5310\n",
      "Epoch 63/100\n",
      "5106/5106 [==============================] - 0s - loss: 23.0924 - val_loss: 32.7175\n",
      "Epoch 64/100\n",
      "5106/5106 [==============================] - ETA: 0s - loss: 23.24 - 0s - loss: 23.4082 - val_loss: 32.7990\n",
      "Epoch 65/100\n",
      "5106/5106 [==============================] - 0s - loss: 23.3814 - val_loss: 32.6019\n",
      "Epoch 66/100\n",
      "5106/5106 [==============================] - 0s - loss: 23.0506 - val_loss: 32.4755\n",
      "Epoch 67/100\n",
      "5106/5106 [==============================] - 0s - loss: 23.6094 - val_loss: 32.5093\n",
      "Epoch 68/100\n",
      "5106/5106 [==============================] - 0s - loss: 23.3408 - val_loss: 32.4773\n",
      "Epoch 69/100\n",
      "5106/5106 [==============================] - 0s - loss: 23.0321 - val_loss: 32.4438\n",
      "Epoch 70/100\n",
      "5106/5106 [==============================] - 0s - loss: 22.9623 - val_loss: 32.3273\n",
      "Epoch 71/100\n",
      "5106/5106 [==============================] - 0s - loss: 23.2692 - val_loss: 32.2593\n",
      "Epoch 72/100\n",
      "5106/5106 [==============================] - 0s - loss: 23.5507 - val_loss: 32.3968\n",
      "Epoch 73/100\n",
      "5106/5106 [==============================] - 0s - loss: 23.2243 - val_loss: 32.3240\n",
      "Epoch 74/100\n",
      "5106/5106 [==============================] - 0s - loss: 23.2295 - val_loss: 32.1273\n",
      "Epoch 75/100\n",
      "5106/5106 [==============================] - 0s - loss: 23.1763 - val_loss: 32.1255\n",
      "Epoch 76/100\n",
      "5106/5106 [==============================] - 0s - loss: 23.0091 - val_loss: 31.9283\n",
      "Epoch 77/100\n",
      "5106/5106 [==============================] - 0s - loss: 23.1392 - val_loss: 32.1203\n",
      "Epoch 78/100\n",
      "5106/5106 [==============================] - 0s - loss: 23.2632 - val_loss: 32.5243\n",
      "Epoch 79/100\n",
      "5106/5106 [==============================] - 0s - loss: 23.2789 - val_loss: 32.2408\n",
      "Epoch 80/100\n",
      "5106/5106 [==============================] - 0s - loss: 23.1443 - val_loss: 32.2429\n",
      "Epoch 81/100\n",
      "5106/5106 [==============================] - 0s - loss: 22.8510 - val_loss: 32.1279\n",
      "Epoch 82/100\n",
      "5106/5106 [==============================] - 0s - loss: 23.2425 - val_loss: 32.1637\n",
      "Epoch 83/100\n",
      "5106/5106 [==============================] - 0s - loss: 22.7020 - val_loss: 32.1548\n",
      "Epoch 84/100\n",
      "5106/5106 [==============================] - 0s - loss: 23.1026 - val_loss: 32.1599\n",
      "Epoch 85/100\n",
      "5106/5106 [==============================] - 0s - loss: 22.8451 - val_loss: 32.4548\n",
      "Epoch 86/100\n",
      "5106/5106 [==============================] - 0s - loss: 23.0459 - val_loss: 32.4308\n",
      "Epoch 87/100\n",
      "5106/5106 [==============================] - 0s - loss: 22.8692 - val_loss: 32.3251\n",
      "Epoch 88/100\n",
      "5106/5106 [==============================] - 0s - loss: 22.7997 - val_loss: 32.3811\n",
      "Epoch 89/100\n",
      "5106/5106 [==============================] - 0s - loss: 22.9108 - val_loss: 32.1373\n",
      "Epoch 90/100\n",
      "5106/5106 [==============================] - 0s - loss: 22.8632 - val_loss: 32.2296\n",
      "Epoch 91/100\n",
      "5106/5106 [==============================] - 0s - loss: 22.5161 - val_loss: 32.6402\n",
      "Epoch 92/100\n",
      "5106/5106 [==============================] - 0s - loss: 22.7779 - val_loss: 32.3708\n",
      "Epoch 93/100\n",
      "5106/5106 [==============================] - 0s - loss: 22.8659 - val_loss: 32.7662\n",
      "Epoch 94/100\n",
      "5106/5106 [==============================] - 0s - loss: 22.8420 - val_loss: 32.6280\n",
      "Epoch 95/100\n",
      "5106/5106 [==============================] - 0s - loss: 22.5093 - val_loss: 32.5448\n",
      "Epoch 96/100\n",
      "5106/5106 [==============================] - 0s - loss: 22.8435 - val_loss: 32.6451\n",
      "Epoch 97/100\n",
      "5106/5106 [==============================] - 0s - loss: 22.7078 - val_loss: 32.6167\n",
      "Epoch 98/100\n",
      "5106/5106 [==============================] - 0s - loss: 22.7632 - val_loss: 32.9035\n",
      "Epoch 99/100\n",
      "5106/5106 [==============================] - 0s - loss: 22.7032 - val_loss: 32.9952\n",
      "Epoch 100/100\n",
      "5106/5106 [==============================] - 0s - loss: 22.5894 - val_loss: 33.0772\n"
     ]
    },
    {
     "data": {
      "text/plain": [
       "<keras.callbacks.History at 0xe0522e8>"
      ]
     },
     "execution_count": 21,
     "metadata": {},
     "output_type": "execute_result"
    }
   ],
   "source": [
    "nn.fit([trn.player_id_idx, trn.team_idx, trn.opponent_idx, trn.home, trn.position_idx],\n",
    "       trn.ff_points_total, batch_size=64, epochs=100,\n",
    "       validation_data=([val.player_id_idx, val.team_idx, val.opponent_idx, val.home, val.position_idx], val.ff_points_total)\n",
    "      )"
   ]
  },
  {
   "cell_type": "code",
   "execution_count": null,
   "metadata": {
    "collapsed": true
   },
   "outputs": [],
   "source": []
  }
 ],
 "metadata": {
  "kernelspec": {
   "display_name": "Python 3",
   "language": "python",
   "name": "python3"
  },
  "language_info": {
   "codemirror_mode": {
    "name": "ipython",
    "version": 3
   },
   "file_extension": ".py",
   "mimetype": "text/x-python",
   "name": "python",
   "nbconvert_exporter": "python",
   "pygments_lexer": "ipython3",
   "version": "3.6.1"
  }
 },
 "nbformat": 4,
 "nbformat_minor": 2
}
